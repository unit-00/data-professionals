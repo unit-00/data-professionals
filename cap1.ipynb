{
 "cells": [
  {
   "cell_type": "code",
   "execution_count": 1,
   "metadata": {},
   "outputs": [],
   "source": [
    "import pandas as pd\n",
    "import numpy as np\n",
    "import psycopg2\n",
    "from sqlalchemy import create_engine\n",
    "import os\n",
    "from dotenv import load_dotenv\n",
    "load_dotenv()\n",
    "\n",
    "# from script.database_pipeline import Pipeline\n",
    "\n",
    "import seaborn as sns\n",
    "\n",
    "import matplotlib.pyplot as plt\n",
    "plt.style.use('ggplot')"
   ]
  },
  {
   "cell_type": "code",
   "execution_count": 2,
   "metadata": {},
   "outputs": [],
   "source": [
    "%load_ext autoreload\n",
    "%autoreload 2\n",
    "%matplotlib inline"
   ]
  },
  {
   "cell_type": "markdown",
   "metadata": {},
   "source": [
    "### Setting up DB"
   ]
  },
  {
   "cell_type": "code",
   "execution_count": 3,
   "metadata": {
    "scrolled": true
   },
   "outputs": [],
   "source": [
    "username = os.getenv('PSQL_USER')\n",
    "password = os.getenv('PASS')\n",
    "host = os.getenv('HOST')\n",
    "port = os.getenv('PORT')\n",
    "\n",
    "db_url = (f\"postgresql+psycopg2://{username}:{password}@{host}:{port}/data_prof\")"
   ]
  },
  {
   "cell_type": "code",
   "execution_count": 4,
   "metadata": {},
   "outputs": [],
   "source": [
    "engine = create_engine(db_url)"
   ]
  },
  {
   "cell_type": "code",
   "execution_count": 5,
   "metadata": {},
   "outputs": [],
   "source": [
    "# Converted into a csv\n",
    "df = pd.read_csv('ds_2019.csv')"
   ]
  },
  {
   "cell_type": "code",
   "execution_count": 6,
   "metadata": {},
   "outputs": [
    {
     "data": {
      "text/html": [
       "<div>\n",
       "<style scoped>\n",
       "    .dataframe tbody tr th:only-of-type {\n",
       "        vertical-align: middle;\n",
       "    }\n",
       "\n",
       "    .dataframe tbody tr th {\n",
       "        vertical-align: top;\n",
       "    }\n",
       "\n",
       "    .dataframe thead th {\n",
       "        text-align: right;\n",
       "    }\n",
       "</style>\n",
       "<table border=\"1\" class=\"dataframe\">\n",
       "  <thead>\n",
       "    <tr style=\"text-align: right;\">\n",
       "      <th></th>\n",
       "      <th>Survey Year</th>\n",
       "      <th>Timestamp</th>\n",
       "      <th>SalaryUSD</th>\n",
       "      <th>Country</th>\n",
       "      <th>PostalCode</th>\n",
       "      <th>PrimaryDatabase</th>\n",
       "      <th>YearsWithThisDatabase</th>\n",
       "      <th>OtherDatabases</th>\n",
       "      <th>EmploymentStatus</th>\n",
       "      <th>JobTitle</th>\n",
       "      <th>...</th>\n",
       "      <th>HoursWorkedPerWeek</th>\n",
       "      <th>TelecommuteDaysPerWeek</th>\n",
       "      <th>PopulationOfLargestCityWithin20Miles</th>\n",
       "      <th>EmploymentSector</th>\n",
       "      <th>LookingForAnotherJob</th>\n",
       "      <th>CareerPlansThisYear</th>\n",
       "      <th>Gender</th>\n",
       "      <th>OtherJobDuties</th>\n",
       "      <th>KindsOfTasksPerformed</th>\n",
       "      <th>Counter</th>\n",
       "    </tr>\n",
       "  </thead>\n",
       "  <tbody>\n",
       "    <tr>\n",
       "      <th>0</th>\n",
       "      <td>2017</td>\n",
       "      <td>2017-01-05 05:10:20.451</td>\n",
       "      <td>200000</td>\n",
       "      <td>United States</td>\n",
       "      <td>Not Asked</td>\n",
       "      <td>Microsoft SQL Server</td>\n",
       "      <td>10</td>\n",
       "      <td>MySQL/MariaDB</td>\n",
       "      <td>Full time employee</td>\n",
       "      <td>DBA</td>\n",
       "      <td>...</td>\n",
       "      <td>45</td>\n",
       "      <td>1</td>\n",
       "      <td>Not Asked</td>\n",
       "      <td>Private business</td>\n",
       "      <td>Yes, but only passively (just curious)</td>\n",
       "      <td>Not Asked</td>\n",
       "      <td>Not Asked</td>\n",
       "      <td>Not Asked</td>\n",
       "      <td>Not Asked</td>\n",
       "      <td>1</td>\n",
       "    </tr>\n",
       "    <tr>\n",
       "      <th>1</th>\n",
       "      <td>2017</td>\n",
       "      <td>2017-01-05 05:26:23.388</td>\n",
       "      <td>61515</td>\n",
       "      <td>United Kingdom</td>\n",
       "      <td>Not Asked</td>\n",
       "      <td>Microsoft SQL Server</td>\n",
       "      <td>15</td>\n",
       "      <td>Oracle, PostgreSQL</td>\n",
       "      <td>Full time employee</td>\n",
       "      <td>DBA</td>\n",
       "      <td>...</td>\n",
       "      <td>35</td>\n",
       "      <td>2</td>\n",
       "      <td>Not Asked</td>\n",
       "      <td>Private business</td>\n",
       "      <td>No</td>\n",
       "      <td>Not Asked</td>\n",
       "      <td>Not Asked</td>\n",
       "      <td>Not Asked</td>\n",
       "      <td>Not Asked</td>\n",
       "      <td>1</td>\n",
       "    </tr>\n",
       "    <tr>\n",
       "      <th>2</th>\n",
       "      <td>2017</td>\n",
       "      <td>2017-01-05 05:32:57.367</td>\n",
       "      <td>95000</td>\n",
       "      <td>Germany</td>\n",
       "      <td>Not Asked</td>\n",
       "      <td>Microsoft SQL Server</td>\n",
       "      <td>5</td>\n",
       "      <td>Oracle, MySQL/MariaDB, Informix</td>\n",
       "      <td>Full time employee</td>\n",
       "      <td>Other</td>\n",
       "      <td>...</td>\n",
       "      <td>45</td>\n",
       "      <td>None, or less than 1 day per week</td>\n",
       "      <td>Not Asked</td>\n",
       "      <td>Private business</td>\n",
       "      <td>Yes, but only passively (just curious)</td>\n",
       "      <td>Not Asked</td>\n",
       "      <td>Not Asked</td>\n",
       "      <td>Not Asked</td>\n",
       "      <td>Not Asked</td>\n",
       "      <td>1</td>\n",
       "    </tr>\n",
       "    <tr>\n",
       "      <th>3</th>\n",
       "      <td>2017</td>\n",
       "      <td>2017-01-05 05:33:03.316</td>\n",
       "      <td>56000</td>\n",
       "      <td>United Kingdom</td>\n",
       "      <td>Not Asked</td>\n",
       "      <td>Microsoft SQL Server</td>\n",
       "      <td>6</td>\n",
       "      <td>NaN</td>\n",
       "      <td>Full time employee</td>\n",
       "      <td>DBA</td>\n",
       "      <td>...</td>\n",
       "      <td>40</td>\n",
       "      <td>1</td>\n",
       "      <td>Not Asked</td>\n",
       "      <td>Private business</td>\n",
       "      <td>Yes, but only passively (just curious)</td>\n",
       "      <td>Not Asked</td>\n",
       "      <td>Not Asked</td>\n",
       "      <td>Not Asked</td>\n",
       "      <td>Not Asked</td>\n",
       "      <td>1</td>\n",
       "    </tr>\n",
       "    <tr>\n",
       "      <th>4</th>\n",
       "      <td>2017</td>\n",
       "      <td>2017-01-05 05:34:33.866</td>\n",
       "      <td>35000</td>\n",
       "      <td>France</td>\n",
       "      <td>Not Asked</td>\n",
       "      <td>Microsoft SQL Server</td>\n",
       "      <td>10</td>\n",
       "      <td>Oracle</td>\n",
       "      <td>Full time employee of a consulting/contracting...</td>\n",
       "      <td>DBA</td>\n",
       "      <td>...</td>\n",
       "      <td>40</td>\n",
       "      <td>None, or less than 1 day per week</td>\n",
       "      <td>Not Asked</td>\n",
       "      <td>Private business</td>\n",
       "      <td>Yes, but only passively (just curious)</td>\n",
       "      <td>Not Asked</td>\n",
       "      <td>Not Asked</td>\n",
       "      <td>Not Asked</td>\n",
       "      <td>Not Asked</td>\n",
       "      <td>1</td>\n",
       "    </tr>\n",
       "  </tbody>\n",
       "</table>\n",
       "<p>5 rows × 29 columns</p>\n",
       "</div>"
      ],
      "text/plain": [
       "   Survey Year                Timestamp SalaryUSD         Country PostalCode  \\\n",
       "0         2017  2017-01-05 05:10:20.451    200000   United States  Not Asked   \n",
       "1         2017  2017-01-05 05:26:23.388     61515  United Kingdom  Not Asked   \n",
       "2         2017  2017-01-05 05:32:57.367     95000         Germany  Not Asked   \n",
       "3         2017  2017-01-05 05:33:03.316     56000  United Kingdom  Not Asked   \n",
       "4         2017  2017-01-05 05:34:33.866     35000          France  Not Asked   \n",
       "\n",
       "        PrimaryDatabase  YearsWithThisDatabase  \\\n",
       "0  Microsoft SQL Server                     10   \n",
       "1  Microsoft SQL Server                     15   \n",
       "2  Microsoft SQL Server                      5   \n",
       "3  Microsoft SQL Server                      6   \n",
       "4  Microsoft SQL Server                     10   \n",
       "\n",
       "                    OtherDatabases  \\\n",
       "0                    MySQL/MariaDB   \n",
       "1               Oracle, PostgreSQL   \n",
       "2  Oracle, MySQL/MariaDB, Informix   \n",
       "3                              NaN   \n",
       "4                           Oracle   \n",
       "\n",
       "                                    EmploymentStatus JobTitle  ...  \\\n",
       "0                                 Full time employee      DBA  ...   \n",
       "1                                 Full time employee      DBA  ...   \n",
       "2                                 Full time employee    Other  ...   \n",
       "3                                 Full time employee      DBA  ...   \n",
       "4  Full time employee of a consulting/contracting...      DBA  ...   \n",
       "\n",
       "  HoursWorkedPerWeek             TelecommuteDaysPerWeek  \\\n",
       "0                 45                                  1   \n",
       "1                 35                                  2   \n",
       "2                 45  None, or less than 1 day per week   \n",
       "3                 40                                  1   \n",
       "4                 40  None, or less than 1 day per week   \n",
       "\n",
       "  PopulationOfLargestCityWithin20Miles  EmploymentSector  \\\n",
       "0                            Not Asked  Private business   \n",
       "1                            Not Asked  Private business   \n",
       "2                            Not Asked  Private business   \n",
       "3                            Not Asked  Private business   \n",
       "4                            Not Asked  Private business   \n",
       "\n",
       "                     LookingForAnotherJob  CareerPlansThisYear     Gender  \\\n",
       "0  Yes, but only passively (just curious)            Not Asked  Not Asked   \n",
       "1                                      No            Not Asked  Not Asked   \n",
       "2  Yes, but only passively (just curious)            Not Asked  Not Asked   \n",
       "3  Yes, but only passively (just curious)            Not Asked  Not Asked   \n",
       "4  Yes, but only passively (just curious)            Not Asked  Not Asked   \n",
       "\n",
       "  OtherJobDuties KindsOfTasksPerformed  Counter  \n",
       "0      Not Asked             Not Asked        1  \n",
       "1      Not Asked             Not Asked        1  \n",
       "2      Not Asked             Not Asked        1  \n",
       "3      Not Asked             Not Asked        1  \n",
       "4      Not Asked             Not Asked        1  \n",
       "\n",
       "[5 rows x 29 columns]"
      ]
     },
     "execution_count": 6,
     "metadata": {},
     "output_type": "execute_result"
    }
   ],
   "source": [
    "df.head()"
   ]
  },
  {
   "cell_type": "code",
   "execution_count": 7,
   "metadata": {},
   "outputs": [],
   "source": [
    "# pipe = Pipeline(engine)\n",
    "# pipe.add_table(df, 'og')"
   ]
  },
  {
   "cell_type": "markdown",
   "metadata": {},
   "source": [
    "### EDA"
   ]
  },
  {
   "cell_type": "code",
   "execution_count": 8,
   "metadata": {
    "scrolled": false
   },
   "outputs": [
    {
     "name": "stdout",
     "output_type": "stream",
     "text": [
      "<class 'pandas.core.frame.DataFrame'>\n",
      "RangeIndex: 6893 entries, 0 to 6892\n",
      "Data columns (total 29 columns):\n",
      " #   Column                                Non-Null Count  Dtype \n",
      "---  ------                                --------------  ----- \n",
      " 0   Survey Year                           6893 non-null   int64 \n",
      " 1   Timestamp                             6893 non-null   object\n",
      " 2   SalaryUSD                             6893 non-null   object\n",
      " 3   Country                               6893 non-null   object\n",
      " 4   PostalCode                            5934 non-null   object\n",
      " 5   PrimaryDatabase                       6893 non-null   object\n",
      " 6   YearsWithThisDatabase                 6893 non-null   int64 \n",
      " 7   OtherDatabases                        5520 non-null   object\n",
      " 8   EmploymentStatus                      6893 non-null   object\n",
      " 9   JobTitle                              6893 non-null   object\n",
      " 10  ManageStaff                           6893 non-null   object\n",
      " 11  YearsWithThisTypeOfJob                6893 non-null   int64 \n",
      " 12  HowManyCompanies                      6893 non-null   object\n",
      " 13  OtherPeopleOnYourTeam                 6893 non-null   object\n",
      " 14  CompanyEmployeesOverall               6893 non-null   object\n",
      " 15  DatabaseServers                       6893 non-null   int64 \n",
      " 16  Education                             6893 non-null   object\n",
      " 17  EducationIsComputerRelated            5677 non-null   object\n",
      " 18  Certifications                        6893 non-null   object\n",
      " 19  HoursWorkedPerWeek                    6893 non-null   int64 \n",
      " 20  TelecommuteDaysPerWeek                6893 non-null   object\n",
      " 21  PopulationOfLargestCityWithin20Miles  6893 non-null   object\n",
      " 22  EmploymentSector                      6893 non-null   object\n",
      " 23  LookingForAnotherJob                  6893 non-null   object\n",
      " 24  CareerPlansThisYear                   6893 non-null   object\n",
      " 25  Gender                                6893 non-null   object\n",
      " 26  OtherJobDuties                        6273 non-null   object\n",
      " 27  KindsOfTasksPerformed                 6686 non-null   object\n",
      " 28  Counter                               6893 non-null   int64 \n",
      "dtypes: int64(6), object(23)\n",
      "memory usage: 1.5+ MB\n"
     ]
    }
   ],
   "source": [
    "df.info()"
   ]
  },
  {
   "cell_type": "code",
   "execution_count": 9,
   "metadata": {},
   "outputs": [
    {
     "data": {
      "text/plain": [
       "Survey Year                                0\n",
       "Timestamp                                  0\n",
       "SalaryUSD                                  0\n",
       "Country                                    0\n",
       "PostalCode                               959\n",
       "PrimaryDatabase                            0\n",
       "YearsWithThisDatabase                      0\n",
       "OtherDatabases                          1373\n",
       "EmploymentStatus                           0\n",
       "JobTitle                                   0\n",
       "ManageStaff                                0\n",
       "YearsWithThisTypeOfJob                     0\n",
       "HowManyCompanies                           0\n",
       "OtherPeopleOnYourTeam                      0\n",
       "CompanyEmployeesOverall                    0\n",
       "DatabaseServers                            0\n",
       "Education                                  0\n",
       "EducationIsComputerRelated              1216\n",
       "Certifications                             0\n",
       "HoursWorkedPerWeek                         0\n",
       "TelecommuteDaysPerWeek                     0\n",
       "PopulationOfLargestCityWithin20Miles       0\n",
       "EmploymentSector                           0\n",
       "LookingForAnotherJob                       0\n",
       "CareerPlansThisYear                        0\n",
       "Gender                                     0\n",
       "OtherJobDuties                           620\n",
       "KindsOfTasksPerformed                    207\n",
       "Counter                                    0\n",
       "dtype: int64"
      ]
     },
     "execution_count": 9,
     "metadata": {},
     "output_type": "execute_result"
    }
   ],
   "source": [
    "df.isna().sum()"
   ]
  },
  {
   "cell_type": "code",
   "execution_count": 10,
   "metadata": {},
   "outputs": [
    {
     "data": {
      "text/plain": [
       "United States     4509\n",
       "United Kingdom     667\n",
       "Canada             244\n",
       "Australia          185\n",
       "India              112\n",
       "Name: Country, dtype: int64"
      ]
     },
     "execution_count": 10,
     "metadata": {},
     "output_type": "execute_result"
    }
   ],
   "source": [
    "countries = df['Country'].value_counts()\n",
    "countries.head()"
   ]
  },
  {
   "cell_type": "markdown",
   "metadata": {},
   "source": [
    "### Looking at US to start with\n",
    "\n",
    "since majority of the data is in US"
   ]
  },
  {
   "cell_type": "code",
   "execution_count": 11,
   "metadata": {},
   "outputs": [],
   "source": [
    "from script.helper import plot_quant, plot_cat"
   ]
  },
  {
   "cell_type": "code",
   "execution_count": 12,
   "metadata": {},
   "outputs": [],
   "source": [
    "us = df[df['Country'] == 'United States']"
   ]
  },
  {
   "cell_type": "code",
   "execution_count": 13,
   "metadata": {},
   "outputs": [
    {
     "data": {
      "text/plain": [
       "Survey Year                               0\n",
       "Timestamp                                 0\n",
       "SalaryUSD                                 0\n",
       "Country                                   0\n",
       "PostalCode                              302\n",
       "PrimaryDatabase                           0\n",
       "YearsWithThisDatabase                     0\n",
       "OtherDatabases                          873\n",
       "EmploymentStatus                          0\n",
       "JobTitle                                  0\n",
       "ManageStaff                               0\n",
       "YearsWithThisTypeOfJob                    0\n",
       "HowManyCompanies                          0\n",
       "OtherPeopleOnYourTeam                     0\n",
       "CompanyEmployeesOverall                   0\n",
       "DatabaseServers                           0\n",
       "Education                                 0\n",
       "EducationIsComputerRelated              709\n",
       "Certifications                            0\n",
       "HoursWorkedPerWeek                        0\n",
       "TelecommuteDaysPerWeek                    0\n",
       "PopulationOfLargestCityWithin20Miles      0\n",
       "EmploymentSector                          0\n",
       "LookingForAnotherJob                      0\n",
       "CareerPlansThisYear                       0\n",
       "Gender                                    0\n",
       "OtherJobDuties                          385\n",
       "KindsOfTasksPerformed                   126\n",
       "Counter                                   0\n",
       "dtype: int64"
      ]
     },
     "execution_count": 13,
     "metadata": {},
     "output_type": "execute_result"
    }
   ],
   "source": [
    "us.isna().sum()"
   ]
  },
  {
   "cell_type": "code",
   "execution_count": 14,
   "metadata": {},
   "outputs": [],
   "source": [
    "features = ['SalaryUSD', 'YearsWithThisDatabase', 'ManageStaff', 'YearsWithThisTypeOfJob', 'OtherPeopleOnYourTeam', 'Education', 'HoursWorkedPerWeek', 'TelecommuteDaysPerWeek', 'EmploymentSector']\n",
    "target = ['LookingForAnotherJob']"
   ]
  },
  {
   "cell_type": "markdown",
   "metadata": {},
   "source": [
    "### Salary"
   ]
  },
  {
   "cell_type": "code",
   "execution_count": 15,
   "metadata": {
    "scrolled": true
   },
   "outputs": [
    {
     "name": "stderr",
     "output_type": "stream",
     "text": [
      "/usr/local/anaconda3/envs/cap1/lib/python3.7/site-packages/pandas/core/indexing.py:965: SettingWithCopyWarning: \n",
      "A value is trying to be set on a copy of a slice from a DataFrame.\n",
      "Try using .loc[row_indexer,col_indexer] = value instead\n",
      "\n",
      "See the caveats in the documentation: https://pandas.pydata.org/pandas-docs/stable/user_guide/indexing.html#returning-a-view-versus-a-copy\n",
      "  self.obj[item] = s\n"
     ]
    }
   ],
   "source": [
    "us.loc[:, 'SalaryUSD'] = us['SalaryUSD'].apply(str).str.replace(',|\\s+', '', regex=True).astype(float)"
   ]
  },
  {
   "cell_type": "code",
   "execution_count": 16,
   "metadata": {},
   "outputs": [
    {
     "data": {
      "text/plain": [
       "count    4.509000e+03\n",
       "mean     1.075171e+05\n",
       "std      5.717729e+04\n",
       "min      9.227000e+01\n",
       "25%      8.500000e+04\n",
       "50%      1.020000e+05\n",
       "75%      1.220000e+05\n",
       "max      1.450000e+06\n",
       "Name: SalaryUSD, dtype: float64"
      ]
     },
     "execution_count": 16,
     "metadata": {},
     "output_type": "execute_result"
    }
   ],
   "source": [
    "us['SalaryUSD'].describe()"
   ]
  },
  {
   "cell_type": "code",
   "execution_count": 17,
   "metadata": {},
   "outputs": [
    {
     "data": {
      "image/png": "[encoded data removed]",
      "text/plain": [
       "<Figure size 1152x576 with 1 Axes>"
      ]
     },
     "metadata": {
      "needs_background": "light"
     },
     "output_type": "display_data"
    }
   ],
   "source": [
    "fig, ax = plt.subplots(figsize=(16, 8))\n",
    "(plot_quant(ax, us['SalaryUSD'], xlabel='Salary USD', ylabel='Frequency',\n",
    "                 title='Frequency of Salary, not adj.', bins=50, edgecolor='white'))"
   ]
  },
  {
   "cell_type": "markdown",
   "metadata": {},
   "source": [
    "### Remove salary outliers"
   ]
  },
  {
   "cell_type": "code",
   "execution_count": 18,
   "metadata": {},
   "outputs": [],
   "source": [
    "salary = us['SalaryUSD']"
   ]
  },
  {
   "cell_type": "code",
   "execution_count": 19,
   "metadata": {},
   "outputs": [
    {
     "data": {
      "text/plain": [
       "count    4.509000e+03\n",
       "mean     1.075171e+05\n",
       "std      5.717729e+04\n",
       "min      9.227000e+01\n",
       "25%      8.500000e+04\n",
       "50%      1.020000e+05\n",
       "75%      1.220000e+05\n",
       "max      1.450000e+06\n",
       "Name: SalaryUSD, dtype: float64"
      ]
     },
     "execution_count": 19,
     "metadata": {},
     "output_type": "execute_result"
    }
   ],
   "source": [
    "salary.describe()"
   ]
  },
  {
   "cell_type": "code",
   "execution_count": 20,
   "metadata": {},
   "outputs": [],
   "source": [
    "salary_q3 = salary.describe()['75%']\n",
    "salary_q1 = salary.describe()['25%']\n",
    "\n",
    "salary_iqr = salary_q3 - salary_q1\n",
    "salary_adj = salary[(salary < (salary_q3 + 1.5 * salary_iqr)) & (salary > (salary_q1 - 1.5 * salary_iqr))]"
   ]
  },
  {
   "cell_type": "code",
   "execution_count": 21,
   "metadata": {
    "scrolled": false
   },
   "outputs": [
    {
     "data": {
      "image/png": "[encoded data removed]",
      "text/plain": [
       "<Figure size 1152x576 with 1 Axes>"
      ]
     },
     "metadata": {
      "needs_background": "light"
     },
     "output_type": "display_data"
    }
   ],
   "source": [
    "fig, ax = plt.subplots(figsize=(16, 8))\n",
    "(plot_quant(ax, salary_adj, xlabel='Salary USD', ylabel='Frequency',\n",
    "                 title='Distribution of Salary in USD', bins=50, edgecolor='white'))"
   ]
  },
  {
   "cell_type": "markdown",
   "metadata": {},
   "source": [
    "### Years with this database"
   ]
  },
  {
   "cell_type": "code",
   "execution_count": 22,
   "metadata": {
    "scrolled": false
   },
   "outputs": [
    {
     "data": {
      "text/plain": [
       "10       486\n",
       "15       432\n",
       "20       369\n",
       "5        304\n",
       "4        241\n",
       "17       232\n",
       "3        231\n",
       "8        226\n",
       "7        222\n",
       "18       221\n",
       "12       219\n",
       "6        216\n",
       "2        163\n",
       "16       155\n",
       "13       111\n",
       "1        109\n",
       "11       100\n",
       "9         99\n",
       "14        88\n",
       "25        61\n",
       "19        58\n",
       "21        43\n",
       "22        42\n",
       "23        29\n",
       "24        13\n",
       "30         9\n",
       "0          6\n",
       "28         6\n",
       "26         5\n",
       "27         4\n",
       "32         2\n",
       "2011       1\n",
       "2000       1\n",
       "2004       1\n",
       "30331      1\n",
       "38         1\n",
       "53716      1\n",
       "29         1\n",
       "Name: YearsWithThisDatabase, dtype: int64"
      ]
     },
     "execution_count": 22,
     "metadata": {},
     "output_type": "execute_result"
    }
   ],
   "source": [
    "us['YearsWithThisDatabase'].value_counts()"
   ]
  },
  {
   "cell_type": "code",
   "execution_count": 23,
   "metadata": {},
   "outputs": [],
   "source": [
    "year_db = us['YearsWithThisDatabase']"
   ]
  },
  {
   "cell_type": "code",
   "execution_count": 24,
   "metadata": {},
   "outputs": [],
   "source": [
    "yeardb_q3 = year_db.describe()['75%']\n",
    "yeardb_q1 = year_db.describe()['25%']\n",
    "\n",
    "yeardb_iqr = yeardb_q3 - yeardb_q1\n",
    "yeardb_adj = year_db[(year_db < (yeardb_q3 + 1.5 * yeardb_iqr)) & (year_db > (yeardb_q1 - 1.5 * yeardb_iqr))]"
   ]
  },
  {
   "cell_type": "code",
   "execution_count": 25,
   "metadata": {},
   "outputs": [
    {
     "data": {
      "image/png": "[encoded data removed]",
      "text/plain": [
       "<Figure size 1152x576 with 1 Axes>"
      ]
     },
     "metadata": {
      "needs_background": "light"
     },
     "output_type": "display_data"
    }
   ],
   "source": [
    "fig, ax = plt.subplots(figsize=(16, 8))\n",
    "(plot_quant(ax, yeardb_adj, xlabel='Years with Database', ylabel='Frequency',\n",
    "                 title='Distribution of Years with Database', bins=30, edgecolor='white'))"
   ]
  },
  {
   "cell_type": "markdown",
   "metadata": {},
   "source": [
    "### Manage Staff"
   ]
  },
  {
   "cell_type": "code",
   "execution_count": 26,
   "metadata": {
    "scrolled": false
   },
   "outputs": [
    {
     "data": {
      "text/plain": [
       "No     3498\n",
       "Yes    1011\n",
       "Name: ManageStaff, dtype: int64"
      ]
     },
     "execution_count": 26,
     "metadata": {},
     "output_type": "execute_result"
    }
   ],
   "source": [
    "us['ManageStaff'].value_counts()"
   ]
  },
  {
   "cell_type": "code",
   "execution_count": 27,
   "metadata": {},
   "outputs": [
    {
     "data": {
      "image/png": "[encoded data removed]",
      "text/plain": [
       "<Figure size 864x432 with 1 Axes>"
      ]
     },
     "metadata": {
      "needs_background": "light"
     },
     "output_type": "display_data"
    }
   ],
   "source": [
    "fig, ax = plt.subplots(figsize=(12, 6))\n",
    "(plot_cat(ax, us['ManageStaff'].value_counts(), xlabel='Manage Staff?', ylabel='Frequency', \n",
    "              title='Number of People Managing Staff'))"
   ]
  },
  {
   "cell_type": "markdown",
   "metadata": {},
   "source": [
    "### Years With This Type of Job"
   ]
  },
  {
   "cell_type": "code",
   "execution_count": 28,
   "metadata": {
    "scrolled": true
   },
   "outputs": [
    {
     "data": {
      "text/plain": [
       "1     531\n",
       "2     520\n",
       "3     499\n",
       "5     448\n",
       "4     397\n",
       "10    326\n",
       "6     257\n",
       "7     212\n",
       "15    186\n",
       "8     184\n",
       "20    150\n",
       "12    119\n",
       "9      80\n",
       "18     72\n",
       "17     69\n",
       "11     59\n",
       "16     52\n",
       "13     51\n",
       "25     49\n",
       "0      38\n",
       "14     37\n",
       "22     30\n",
       "19     26\n",
       "21     20\n",
       "30     18\n",
       "23     14\n",
       "28     10\n",
       "24      9\n",
       "29      8\n",
       "26      7\n",
       "27      6\n",
       "32      6\n",
       "35      4\n",
       "38      3\n",
       "34      2\n",
       "33      2\n",
       "31      2\n",
       "40      2\n",
       "36      2\n",
       "39      1\n",
       "37      1\n",
       "Name: YearsWithThisTypeOfJob, dtype: int64"
      ]
     },
     "execution_count": 28,
     "metadata": {},
     "output_type": "execute_result"
    }
   ],
   "source": [
    "us['YearsWithThisTypeOfJob'].value_counts()"
   ]
  },
  {
   "cell_type": "code",
   "execution_count": 29,
   "metadata": {},
   "outputs": [
    {
     "data": {
      "image/png": "[encoded data removed]",
      "text/plain": [
       "<Figure size 864x432 with 1 Axes>"
      ]
     },
     "metadata": {
      "needs_background": "light"
     },
     "output_type": "display_data"
    }
   ],
   "source": [
    "fig, ax = plt.subplots(figsize=(12, 6))\n",
    "(plot_quant(ax, us['YearsWithThisTypeOfJob'], xlabel='Years With This Type of Job', ylabel='Frequency',\n",
    "                        title='Frequency of Years With This Type of Job', bins=50, edgecolor='white'))"
   ]
  },
  {
   "cell_type": "markdown",
   "metadata": {},
   "source": [
    "### Amount of Others on Your Team"
   ]
  },
  {
   "cell_type": "markdown",
   "metadata": {},
   "source": [
    "Label Encode ordinality"
   ]
  },
  {
   "cell_type": "code",
   "execution_count": 30,
   "metadata": {
    "scrolled": true
   },
   "outputs": [
    {
     "data": {
      "text/plain": [
       "None           1842\n",
       "1               942\n",
       "2               521\n",
       "More than 5     422\n",
       "3               378\n",
       "4               239\n",
       "5               165\n",
       "Name: OtherPeopleOnYourTeam, dtype: int64"
      ]
     },
     "execution_count": 30,
     "metadata": {},
     "output_type": "execute_result"
    }
   ],
   "source": [
    "us['OtherPeopleOnYourTeam'].value_counts()"
   ]
  },
  {
   "cell_type": "code",
   "execution_count": 31,
   "metadata": {},
   "outputs": [
    {
     "data": {
      "image/png": "[encoded data removed]",
      "text/plain": [
       "<Figure size 864x432 with 1 Axes>"
      ]
     },
     "metadata": {
      "needs_background": "light"
     },
     "output_type": "display_data"
    }
   ],
   "source": [
    "fig, ax = plt.subplots(figsize=(12, 6))\n",
    "\n",
    "(plot_cat(ax, us['OtherPeopleOnYourTeam'].value_counts().sort_index(), xlabel='Number of People on the Team', ylabel='Frequency',\n",
    "                                         title='Frequency of Number of Teammates'))"
   ]
  },
  {
   "cell_type": "markdown",
   "metadata": {},
   "source": [
    "### Education Level"
   ]
  },
  {
   "cell_type": "markdown",
   "metadata": {},
   "source": [
    "Label Encode ordinality"
   ]
  },
  {
   "cell_type": "code",
   "execution_count": 32,
   "metadata": {},
   "outputs": [
    {
     "data": {
      "text/plain": [
       "Bachelors (4 years)           2548\n",
       "Masters                        762\n",
       "None (no degree completed)     672\n",
       "Associates (2 years)           503\n",
       "Doctorate/PhD                   24\n",
       "Name: Education, dtype: int64"
      ]
     },
     "execution_count": 32,
     "metadata": {},
     "output_type": "execute_result"
    }
   ],
   "source": [
    "us['Education'].value_counts()"
   ]
  },
  {
   "cell_type": "code",
   "execution_count": 33,
   "metadata": {},
   "outputs": [],
   "source": [
    "us.loc[:, 'Education'] = us['Education'].str.replace('\\\\(.*\\\\)', '', regex=True).str.strip()"
   ]
  },
  {
   "cell_type": "code",
   "execution_count": 34,
   "metadata": {},
   "outputs": [
    {
     "data": {
      "image/png": "[encoded data removed]",
      "text/plain": [
       "<Figure size 864x432 with 1 Axes>"
      ]
     },
     "metadata": {
      "needs_background": "light"
     },
     "output_type": "display_data"
    }
   ],
   "source": [
    "fig, ax = plt.subplots(figsize=(12, 6))\n",
    "(plot_cat(ax, us['Education'].value_counts()))\n",
    "ax.tick_params(rotation=90)"
   ]
  },
  {
   "cell_type": "markdown",
   "metadata": {},
   "source": [
    "### Hours Work Per Week"
   ]
  },
  {
   "cell_type": "code",
   "execution_count": 35,
   "metadata": {},
   "outputs": [
    {
     "data": {
      "image/png": "[encoded data removed]",
      "text/plain": [
       "<Figure size 1152x576 with 1 Axes>"
      ]
     },
     "metadata": {
      "needs_background": "light"
     },
     "output_type": "display_data"
    }
   ],
   "source": [
    "fig, ax = plt.subplots(figsize=(16, 8))\n",
    "(plot_quant(ax, us['HoursWorkedPerWeek'], xlabel='Hours Work Per Week', ylabel='Frequency',\n",
    "                 title='Distribution of Hours Work Per Week', bins=25, edgecolor='white'))"
   ]
  },
  {
   "cell_type": "markdown",
   "metadata": {},
   "source": [
    "### Telecommute Days Per Week"
   ]
  },
  {
   "cell_type": "markdown",
   "metadata": {},
   "source": [
    "Label Encode ordinality"
   ]
  },
  {
   "cell_type": "code",
   "execution_count": 36,
   "metadata": {
    "scrolled": false
   },
   "outputs": [
    {
     "data": {
      "image/png": "[encoded data removed]",
      "text/plain": [
       "<Figure size 864x432 with 1 Axes>"
      ]
     },
     "metadata": {
      "needs_background": "light"
     },
     "output_type": "display_data"
    }
   ],
   "source": [
    "fig, ax = plt.subplots(figsize=(12, 6))\n",
    "(plot_cat(ax, us['TelecommuteDaysPerWeek'].value_counts()))\n",
    "ax.tick_params(rotation=90)"
   ]
  },
  {
   "cell_type": "markdown",
   "metadata": {},
   "source": [
    "### Employment Sector"
   ]
  },
  {
   "cell_type": "markdown",
   "metadata": {},
   "source": [
    "OHE"
   ]
  },
  {
   "cell_type": "code",
   "execution_count": 37,
   "metadata": {},
   "outputs": [
    {
     "data": {
      "image/png": "[encoded data removed]",
      "text/plain": [
       "<Figure size 864x432 with 1 Axes>"
      ]
     },
     "metadata": {
      "needs_background": "light"
     },
     "output_type": "display_data"
    }
   ],
   "source": [
    "fig, ax = plt.subplots(figsize=(12, 6))\n",
    "(plot_cat(ax, us['EmploymentSector'].value_counts()))\n",
    "\n",
    "_ = ax.set_xticklabels(labels=us['EmploymentSector'].value_counts().index, rotation=90)"
   ]
  },
  {
   "cell_type": "markdown",
   "metadata": {},
   "source": [
    "### Career Plans This Year"
   ]
  },
  {
   "cell_type": "markdown",
   "metadata": {},
   "source": [
    "Decided to drop due to large number of Not Asked"
   ]
  },
  {
   "cell_type": "code",
   "execution_count": 38,
   "metadata": {
    "scrolled": false
   },
   "outputs": [
    {
     "data": {
      "image/png": "[encoded data removed]",
      "text/plain": [
       "<Figure size 864x432 with 1 Axes>"
      ]
     },
     "metadata": {
      "needs_background": "light"
     },
     "output_type": "display_data"
    }
   ],
   "source": [
    "fig, ax = plt.subplots(figsize=(12, 6))\n",
    "(plot_cat(ax, us['CareerPlansThisYear'].value_counts()))\n",
    "\n",
    "_ = ax.set_xticklabels(labels=us['CareerPlansThisYear'].value_counts().index, rotation=90)"
   ]
  },
  {
   "cell_type": "markdown",
   "metadata": {},
   "source": [
    "### Gender"
   ]
  },
  {
   "cell_type": "markdown",
   "metadata": {},
   "source": [
    "Might have to drop gender due to high number of NaNs/Not Asked."
   ]
  },
  {
   "cell_type": "code",
   "execution_count": 39,
   "metadata": {},
   "outputs": [],
   "source": [
    "def clean_gender(row):\n",
    "    if (row not in ['Male', 'Female']):\n",
    "        return 'Not Asked'\n",
    "    return row"
   ]
  },
  {
   "cell_type": "code",
   "execution_count": 40,
   "metadata": {},
   "outputs": [
    {
     "data": {
      "text/plain": [
       "Male         2266\n",
       "Not Asked    1922\n",
       "Female        321\n",
       "Name: Gender, dtype: int64"
      ]
     },
     "execution_count": 40,
     "metadata": {},
     "output_type": "execute_result"
    }
   ],
   "source": [
    "us['Gender'].apply(clean_gender).value_counts()"
   ]
  },
  {
   "cell_type": "code",
   "execution_count": 41,
   "metadata": {},
   "outputs": [
    {
     "data": {
      "image/png": "[encoded data removed]",
      "text/plain": [
       "<Figure size 864x432 with 1 Axes>"
      ]
     },
     "metadata": {
      "needs_background": "light"
     },
     "output_type": "display_data"
    }
   ],
   "source": [
    "fig, ax = plt.subplots(figsize=(12, 6))\n",
    "(plot_cat(ax, us['Gender'].apply(clean_gender).value_counts()))\n",
    "\n",
    "_ = ax.set_xticklabels(labels=us['Gender'].apply(clean_gender).value_counts().index, rotation=90)"
   ]
  },
  {
   "cell_type": "markdown",
   "metadata": {},
   "source": [
    "### Amount of Other Job Duties"
   ]
  },
  {
   "cell_type": "markdown",
   "metadata": {},
   "source": [
    "Might have to exclude, due to high number of nans/No answers"
   ]
  },
  {
   "cell_type": "code",
   "execution_count": 42,
   "metadata": {},
   "outputs": [
    {
     "data": {
      "text/plain": [
       "0.5021068973164782"
      ]
     },
     "execution_count": 42,
     "metadata": {},
     "output_type": "execute_result"
    }
   ],
   "source": [
    "us['OtherJobDuties'].replace('Not Asked', np.nan).isna().sum() / us['OtherJobDuties'].size"
   ]
  },
  {
   "cell_type": "code",
   "execution_count": 43,
   "metadata": {},
   "outputs": [],
   "source": [
    "ojd = us['OtherJobDuties'].dropna().str.replace('Not Asked', 'N/A').str.replace('\\\\(.*\\\\)', '', regex=True).apply(lambda x: x.split(','))"
   ]
  },
  {
   "cell_type": "code",
   "execution_count": 44,
   "metadata": {},
   "outputs": [],
   "source": [
    "def filter_NA(row):\n",
    "    if ('N/A' in row):\n",
    "        return None\n",
    "    return row"
   ]
  },
  {
   "cell_type": "code",
   "execution_count": 45,
   "metadata": {
    "scrolled": false
   },
   "outputs": [
    {
     "data": {
      "image/png": "[encoded data removed]",
      "text/plain": [
       "<Figure size 864x432 with 1 Axes>"
      ]
     },
     "metadata": {
      "needs_background": "light"
     },
     "output_type": "display_data"
    }
   ],
   "source": [
    "fig, ax = plt.subplots(figsize=(12, 6))\n",
    "(plot_quant(ax, ojd.apply(filter_NA).dropna().apply(lambda x: len(x)), xlabel='Number of other job duties', ylabel='Frequency', \n",
    "                        title='Frequency of other job duties',edgecolor='white'))\n"
   ]
  },
  {
   "cell_type": "markdown",
   "metadata": {},
   "source": [
    "### Feature Engineering"
   ]
  },
  {
   "cell_type": "code",
   "execution_count": 46,
   "metadata": {},
   "outputs": [],
   "source": [
    "X = us.loc[:, features + target]"
   ]
  },
  {
   "cell_type": "code",
   "execution_count": 47,
   "metadata": {},
   "outputs": [
    {
     "data": {
      "text/html": [
       "<div>\n",
       "<style scoped>\n",
       "    .dataframe tbody tr th:only-of-type {\n",
       "        vertical-align: middle;\n",
       "    }\n",
       "\n",
       "    .dataframe tbody tr th {\n",
       "        vertical-align: top;\n",
       "    }\n",
       "\n",
       "    .dataframe thead th {\n",
       "        text-align: right;\n",
       "    }\n",
       "</style>\n",
       "<table border=\"1\" class=\"dataframe\">\n",
       "  <thead>\n",
       "    <tr style=\"text-align: right;\">\n",
       "      <th></th>\n",
       "      <th>SalaryUSD</th>\n",
       "      <th>YearsWithThisDatabase</th>\n",
       "      <th>ManageStaff</th>\n",
       "      <th>YearsWithThisTypeOfJob</th>\n",
       "      <th>OtherPeopleOnYourTeam</th>\n",
       "      <th>Education</th>\n",
       "      <th>HoursWorkedPerWeek</th>\n",
       "      <th>TelecommuteDaysPerWeek</th>\n",
       "      <th>EmploymentSector</th>\n",
       "      <th>LookingForAnotherJob</th>\n",
       "    </tr>\n",
       "  </thead>\n",
       "  <tbody>\n",
       "    <tr>\n",
       "      <th>0</th>\n",
       "      <td>200000.0</td>\n",
       "      <td>10</td>\n",
       "      <td>No</td>\n",
       "      <td>5</td>\n",
       "      <td>2</td>\n",
       "      <td>Masters</td>\n",
       "      <td>45</td>\n",
       "      <td>1</td>\n",
       "      <td>Private business</td>\n",
       "      <td>Yes, but only passively (just curious)</td>\n",
       "    </tr>\n",
       "    <tr>\n",
       "      <th>12</th>\n",
       "      <td>137500.0</td>\n",
       "      <td>16</td>\n",
       "      <td>No</td>\n",
       "      <td>6</td>\n",
       "      <td>4</td>\n",
       "      <td>None</td>\n",
       "      <td>55</td>\n",
       "      <td>5 or more</td>\n",
       "      <td>Private business</td>\n",
       "      <td>No</td>\n",
       "    </tr>\n",
       "    <tr>\n",
       "      <th>14</th>\n",
       "      <td>85000.0</td>\n",
       "      <td>8</td>\n",
       "      <td>No</td>\n",
       "      <td>2</td>\n",
       "      <td>None</td>\n",
       "      <td>Bachelors</td>\n",
       "      <td>50</td>\n",
       "      <td>None, or less than 1 day per week</td>\n",
       "      <td>Private business</td>\n",
       "      <td>Yes, but only passively (just curious)</td>\n",
       "    </tr>\n",
       "    <tr>\n",
       "      <th>15</th>\n",
       "      <td>96000.0</td>\n",
       "      <td>5</td>\n",
       "      <td>No</td>\n",
       "      <td>5</td>\n",
       "      <td>None</td>\n",
       "      <td>Masters</td>\n",
       "      <td>45</td>\n",
       "      <td>1</td>\n",
       "      <td>Private business</td>\n",
       "      <td>Yes, but only passively (just curious)</td>\n",
       "    </tr>\n",
       "    <tr>\n",
       "      <th>17</th>\n",
       "      <td>66000.0</td>\n",
       "      <td>10</td>\n",
       "      <td>No</td>\n",
       "      <td>10</td>\n",
       "      <td>None</td>\n",
       "      <td>Associates</td>\n",
       "      <td>60</td>\n",
       "      <td>5 or more</td>\n",
       "      <td>Private business</td>\n",
       "      <td>Yes, but only passively (just curious)</td>\n",
       "    </tr>\n",
       "  </tbody>\n",
       "</table>\n",
       "</div>"
      ],
      "text/plain": [
       "    SalaryUSD  YearsWithThisDatabase ManageStaff  YearsWithThisTypeOfJob  \\\n",
       "0    200000.0                     10          No                       5   \n",
       "12   137500.0                     16          No                       6   \n",
       "14    85000.0                      8          No                       2   \n",
       "15    96000.0                      5          No                       5   \n",
       "17    66000.0                     10          No                      10   \n",
       "\n",
       "   OtherPeopleOnYourTeam   Education  HoursWorkedPerWeek  \\\n",
       "0                      2     Masters                  45   \n",
       "12                     4        None                  55   \n",
       "14                  None   Bachelors                  50   \n",
       "15                  None     Masters                  45   \n",
       "17                  None  Associates                  60   \n",
       "\n",
       "               TelecommuteDaysPerWeek  EmploymentSector  \\\n",
       "0                                   1  Private business   \n",
       "12                          5 or more  Private business   \n",
       "14  None, or less than 1 day per week  Private business   \n",
       "15                                  1  Private business   \n",
       "17                          5 or more  Private business   \n",
       "\n",
       "                      LookingForAnotherJob  \n",
       "0   Yes, but only passively (just curious)  \n",
       "12                                      No  \n",
       "14  Yes, but only passively (just curious)  \n",
       "15  Yes, but only passively (just curious)  \n",
       "17  Yes, but only passively (just curious)  "
      ]
     },
     "execution_count": 47,
     "metadata": {},
     "output_type": "execute_result"
    }
   ],
   "source": [
    "X.head()"
   ]
  },
  {
   "cell_type": "markdown",
   "metadata": {},
   "source": [
    "### SalaryUSD\n",
    "\n",
    "Cleaning erroneous values"
   ]
  },
  {
   "cell_type": "code",
   "execution_count": 48,
   "metadata": {},
   "outputs": [],
   "source": [
    "X = X.drop(X[X['SalaryUSD'] < 100].index)"
   ]
  },
  {
   "cell_type": "markdown",
   "metadata": {},
   "source": [
    "### YearsWithThisDatabase"
   ]
  },
  {
   "cell_type": "markdown",
   "metadata": {},
   "source": [
    "Cleaning erroneous values"
   ]
  },
  {
   "cell_type": "code",
   "execution_count": 49,
   "metadata": {},
   "outputs": [
    {
     "data": {
      "text/html": [
       "<div>\n",
       "<style scoped>\n",
       "    .dataframe tbody tr th:only-of-type {\n",
       "        vertical-align: middle;\n",
       "    }\n",
       "\n",
       "    .dataframe tbody tr th {\n",
       "        vertical-align: top;\n",
       "    }\n",
       "\n",
       "    .dataframe thead th {\n",
       "        text-align: right;\n",
       "    }\n",
       "</style>\n",
       "<table border=\"1\" class=\"dataframe\">\n",
       "  <thead>\n",
       "    <tr style=\"text-align: right;\">\n",
       "      <th></th>\n",
       "      <th>SalaryUSD</th>\n",
       "      <th>YearsWithThisDatabase</th>\n",
       "      <th>ManageStaff</th>\n",
       "      <th>YearsWithThisTypeOfJob</th>\n",
       "      <th>OtherPeopleOnYourTeam</th>\n",
       "      <th>Education</th>\n",
       "      <th>HoursWorkedPerWeek</th>\n",
       "      <th>TelecommuteDaysPerWeek</th>\n",
       "      <th>EmploymentSector</th>\n",
       "      <th>LookingForAnotherJob</th>\n",
       "    </tr>\n",
       "  </thead>\n",
       "  <tbody>\n",
       "    <tr>\n",
       "      <th>3498</th>\n",
       "      <td>95000.0</td>\n",
       "      <td>53716</td>\n",
       "      <td>No</td>\n",
       "      <td>1</td>\n",
       "      <td>4</td>\n",
       "      <td>Bachelors</td>\n",
       "      <td>45</td>\n",
       "      <td>None, or less than 1 day per week</td>\n",
       "      <td>Private business</td>\n",
       "      <td>Yes, but only passively (just curious)</td>\n",
       "    </tr>\n",
       "    <tr>\n",
       "      <th>4181</th>\n",
       "      <td>98000.0</td>\n",
       "      <td>30331</td>\n",
       "      <td>No</td>\n",
       "      <td>2</td>\n",
       "      <td>3</td>\n",
       "      <td>Bachelors</td>\n",
       "      <td>50</td>\n",
       "      <td>1</td>\n",
       "      <td>Private business</td>\n",
       "      <td>Yes, but only passively (just curious)</td>\n",
       "    </tr>\n",
       "    <tr>\n",
       "      <th>5544</th>\n",
       "      <td>110000.0</td>\n",
       "      <td>2004</td>\n",
       "      <td>No</td>\n",
       "      <td>13</td>\n",
       "      <td>5</td>\n",
       "      <td>None</td>\n",
       "      <td>40</td>\n",
       "      <td>2</td>\n",
       "      <td>Private business</td>\n",
       "      <td>Yes, but only passively (just curious)</td>\n",
       "    </tr>\n",
       "    <tr>\n",
       "      <th>6327</th>\n",
       "      <td>89000.0</td>\n",
       "      <td>2011</td>\n",
       "      <td>No</td>\n",
       "      <td>3</td>\n",
       "      <td>None</td>\n",
       "      <td>Bachelors</td>\n",
       "      <td>40</td>\n",
       "      <td>None, or less than 1 day per week</td>\n",
       "      <td>Private business</td>\n",
       "      <td>No</td>\n",
       "    </tr>\n",
       "    <tr>\n",
       "      <th>6619</th>\n",
       "      <td>131000.0</td>\n",
       "      <td>2000</td>\n",
       "      <td>No</td>\n",
       "      <td>3</td>\n",
       "      <td>None</td>\n",
       "      <td>None</td>\n",
       "      <td>35</td>\n",
       "      <td>None, or less than 1 day per week</td>\n",
       "      <td>Private business</td>\n",
       "      <td>No</td>\n",
       "    </tr>\n",
       "  </tbody>\n",
       "</table>\n",
       "</div>"
      ],
      "text/plain": [
       "      SalaryUSD  YearsWithThisDatabase ManageStaff  YearsWithThisTypeOfJob  \\\n",
       "3498    95000.0                  53716          No                       1   \n",
       "4181    98000.0                  30331          No                       2   \n",
       "5544   110000.0                   2004          No                      13   \n",
       "6327    89000.0                   2011          No                       3   \n",
       "6619   131000.0                   2000          No                       3   \n",
       "\n",
       "     OtherPeopleOnYourTeam  Education  HoursWorkedPerWeek  \\\n",
       "3498                     4  Bachelors                  45   \n",
       "4181                     3  Bachelors                  50   \n",
       "5544                     5       None                  40   \n",
       "6327                  None  Bachelors                  40   \n",
       "6619                  None       None                  35   \n",
       "\n",
       "                 TelecommuteDaysPerWeek  EmploymentSector  \\\n",
       "3498  None, or less than 1 day per week  Private business   \n",
       "4181                                  1  Private business   \n",
       "5544                                  2  Private business   \n",
       "6327  None, or less than 1 day per week  Private business   \n",
       "6619  None, or less than 1 day per week  Private business   \n",
       "\n",
       "                        LookingForAnotherJob  \n",
       "3498  Yes, but only passively (just curious)  \n",
       "4181  Yes, but only passively (just curious)  \n",
       "5544  Yes, but only passively (just curious)  \n",
       "6327                                      No  \n",
       "6619                                      No  "
      ]
     },
     "execution_count": 49,
     "metadata": {},
     "output_type": "execute_result"
    }
   ],
   "source": [
    "X[X['YearsWithThisDatabase'] > 100]"
   ]
  },
  {
   "cell_type": "code",
   "execution_count": 50,
   "metadata": {
    "scrolled": false
   },
   "outputs": [],
   "source": [
    "X = X.drop(X[X['YearsWithThisDatabase'] > 100].index)"
   ]
  },
  {
   "cell_type": "markdown",
   "metadata": {},
   "source": [
    "### ManageStaff\n",
    "\n",
    "Change it into a categorical variable"
   ]
  },
  {
   "cell_type": "code",
   "execution_count": 58,
   "metadata": {},
   "outputs": [],
   "source": [
    "def transform_staff(row):\n",
    "    return 0 if row == 'No' else 1"
   ]
  },
  {
   "cell_type": "code",
   "execution_count": 59,
   "metadata": {
    "scrolled": false
   },
   "outputs": [],
   "source": [
    "X.loc[:, 'ManageStaff'] = X['ManageStaff'].apply(transform_staff)"
   ]
  },
  {
   "cell_type": "code",
   "execution_count": 63,
   "metadata": {},
   "outputs": [
    {
     "data": {
      "text/html": [
       "<div>\n",
       "<style scoped>\n",
       "    .dataframe tbody tr th:only-of-type {\n",
       "        vertical-align: middle;\n",
       "    }\n",
       "\n",
       "    .dataframe tbody tr th {\n",
       "        vertical-align: top;\n",
       "    }\n",
       "\n",
       "    .dataframe thead th {\n",
       "        text-align: right;\n",
       "    }\n",
       "</style>\n",
       "<table border=\"1\" class=\"dataframe\">\n",
       "  <thead>\n",
       "    <tr style=\"text-align: right;\">\n",
       "      <th></th>\n",
       "      <th>SalaryUSD</th>\n",
       "      <th>YearsWithThisDatabase</th>\n",
       "      <th>ManageStaff</th>\n",
       "      <th>YearsWithThisTypeOfJob</th>\n",
       "      <th>OtherPeopleOnYourTeam</th>\n",
       "      <th>Education</th>\n",
       "      <th>HoursWorkedPerWeek</th>\n",
       "      <th>TelecommuteDaysPerWeek</th>\n",
       "      <th>EmploymentSector</th>\n",
       "      <th>LookingForAnotherJob</th>\n",
       "    </tr>\n",
       "  </thead>\n",
       "  <tbody>\n",
       "    <tr>\n",
       "      <th>0</th>\n",
       "      <td>200000.0</td>\n",
       "      <td>10</td>\n",
       "      <td>0</td>\n",
       "      <td>5</td>\n",
       "      <td>2</td>\n",
       "      <td>3</td>\n",
       "      <td>45</td>\n",
       "      <td>1</td>\n",
       "      <td>Private business</td>\n",
       "      <td>Yes, but only passively (just curious)</td>\n",
       "    </tr>\n",
       "    <tr>\n",
       "      <th>12</th>\n",
       "      <td>137500.0</td>\n",
       "      <td>16</td>\n",
       "      <td>0</td>\n",
       "      <td>6</td>\n",
       "      <td>4</td>\n",
       "      <td>0</td>\n",
       "      <td>55</td>\n",
       "      <td>5</td>\n",
       "      <td>Private business</td>\n",
       "      <td>No</td>\n",
       "    </tr>\n",
       "    <tr>\n",
       "      <th>14</th>\n",
       "      <td>85000.0</td>\n",
       "      <td>8</td>\n",
       "      <td>0</td>\n",
       "      <td>2</td>\n",
       "      <td>0</td>\n",
       "      <td>2</td>\n",
       "      <td>50</td>\n",
       "      <td>0</td>\n",
       "      <td>Private business</td>\n",
       "      <td>Yes, but only passively (just curious)</td>\n",
       "    </tr>\n",
       "    <tr>\n",
       "      <th>15</th>\n",
       "      <td>96000.0</td>\n",
       "      <td>5</td>\n",
       "      <td>0</td>\n",
       "      <td>5</td>\n",
       "      <td>0</td>\n",
       "      <td>3</td>\n",
       "      <td>45</td>\n",
       "      <td>1</td>\n",
       "      <td>Private business</td>\n",
       "      <td>Yes, but only passively (just curious)</td>\n",
       "    </tr>\n",
       "    <tr>\n",
       "      <th>17</th>\n",
       "      <td>66000.0</td>\n",
       "      <td>10</td>\n",
       "      <td>0</td>\n",
       "      <td>10</td>\n",
       "      <td>0</td>\n",
       "      <td>1</td>\n",
       "      <td>60</td>\n",
       "      <td>5</td>\n",
       "      <td>Private business</td>\n",
       "      <td>Yes, but only passively (just curious)</td>\n",
       "    </tr>\n",
       "  </tbody>\n",
       "</table>\n",
       "</div>"
      ],
      "text/plain": [
       "    SalaryUSD  YearsWithThisDatabase  ManageStaff  YearsWithThisTypeOfJob  \\\n",
       "0    200000.0                     10            0                       5   \n",
       "12   137500.0                     16            0                       6   \n",
       "14    85000.0                      8            0                       2   \n",
       "15    96000.0                      5            0                       5   \n",
       "17    66000.0                     10            0                      10   \n",
       "\n",
       "    OtherPeopleOnYourTeam  Education  HoursWorkedPerWeek  \\\n",
       "0                       2          3                  45   \n",
       "12                      4          0                  55   \n",
       "14                      0          2                  50   \n",
       "15                      0          3                  45   \n",
       "17                      0          1                  60   \n",
       "\n",
       "    TelecommuteDaysPerWeek  EmploymentSector  \\\n",
       "0                        1  Private business   \n",
       "12                       5  Private business   \n",
       "14                       0  Private business   \n",
       "15                       1  Private business   \n",
       "17                       5  Private business   \n",
       "\n",
       "                      LookingForAnotherJob  \n",
       "0   Yes, but only passively (just curious)  \n",
       "12                                      No  \n",
       "14  Yes, but only passively (just curious)  \n",
       "15  Yes, but only passively (just curious)  \n",
       "17  Yes, but only passively (just curious)  "
      ]
     },
     "execution_count": 63,
     "metadata": {},
     "output_type": "execute_result"
    }
   ],
   "source": [
    "X.head()"
   ]
  },
  {
   "cell_type": "markdown",
   "metadata": {},
   "source": [
    "### Other People On Your Team"
   ]
  },
  {
   "cell_type": "code",
   "execution_count": 52,
   "metadata": {},
   "outputs": [],
   "source": [
    "def transform_team(row):\n",
    "    if (row == 'None'):\n",
    "        return 0\n",
    "    elif (row == 'More than 5'):\n",
    "        return 6\n",
    "    else:\n",
    "        return int(row)"
   ]
  },
  {
   "cell_type": "code",
   "execution_count": 53,
   "metadata": {
    "scrolled": true
   },
   "outputs": [],
   "source": [
    "X.loc[:, 'OtherPeopleOnYourTeam'] = X['OtherPeopleOnYourTeam'].apply(transform_team)"
   ]
  },
  {
   "cell_type": "markdown",
   "metadata": {},
   "source": [
    "### Education"
   ]
  },
  {
   "cell_type": "code",
   "execution_count": 61,
   "metadata": {},
   "outputs": [],
   "source": [
    "def transform_education(row):\n",
    "    if (row == 'None'):\n",
    "        return 0\n",
    "    elif (row == 'Associates'):\n",
    "        return 1\n",
    "    elif (row == 'Bachelors'):\n",
    "        return 2\n",
    "    elif (row == 'Masters'):\n",
    "        return 3\n",
    "    else:\n",
    "        return 4"
   ]
  },
  {
   "cell_type": "code",
   "execution_count": 62,
   "metadata": {},
   "outputs": [],
   "source": [
    "X.loc[:, 'Education'] = X['Education'].apply(transform_education)"
   ]
  },
  {
   "cell_type": "markdown",
   "metadata": {},
   "source": [
    "### TelecommuteDaysPerWeek"
   ]
  },
  {
   "cell_type": "code",
   "execution_count": 55,
   "metadata": {},
   "outputs": [],
   "source": [
    "def transform_telecommute(row):\n",
    "    if ('None' in row):\n",
    "        return 0\n",
    "    elif (row == '5 or more'):\n",
    "        return 5\n",
    "    else:\n",
    "        return int(row)"
   ]
  },
  {
   "cell_type": "code",
   "execution_count": 56,
   "metadata": {},
   "outputs": [],
   "source": [
    "X.loc[:, 'TelecommuteDaysPerWeek'] = X['TelecommuteDaysPerWeek'].apply(transform_telecommute)"
   ]
  },
  {
   "cell_type": "markdown",
   "metadata": {},
   "source": [
    "### EmploymentSector"
   ]
  },
  {
   "cell_type": "code",
   "execution_count": 120,
   "metadata": {},
   "outputs": [],
   "source": [
    "X = pd.concat([X, pd.get_dummies(X['EmploymentSector'])], axis=1)\n",
    "X = X.drop('EmploymentSector', axis=1)"
   ]
  },
  {
   "cell_type": "markdown",
   "metadata": {},
   "source": [
    "### LookingForAnotherJob"
   ]
  },
  {
   "cell_type": "code",
   "execution_count": 64,
   "metadata": {},
   "outputs": [],
   "source": [
    "def transform_another_job(row):\n",
    "    if (row == 'No'):\n",
    "        return 0\n",
    "    elif (row == 'Yes, but only passively (just curious)'):\n",
    "        return 1\n",
    "    else:\n",
    "        return 2"
   ]
  },
  {
   "cell_type": "code",
   "execution_count": 65,
   "metadata": {},
   "outputs": [],
   "source": [
    "X.loc[:, 'LookingForAnotherJob'] = X['LookingForAnotherJob'].apply(transform_another_job)"
   ]
  },
  {
   "cell_type": "code",
   "execution_count": 66,
   "metadata": {},
   "outputs": [
    {
     "name": "stdout",
     "output_type": "stream",
     "text": [
      "<class 'pandas.core.frame.DataFrame'>\n",
      "Int64Index: 4503 entries, 0 to 6891\n",
      "Data columns (total 10 columns):\n",
      " #   Column                  Non-Null Count  Dtype  \n",
      "---  ------                  --------------  -----  \n",
      " 0   SalaryUSD               4503 non-null   float64\n",
      " 1   YearsWithThisDatabase   4503 non-null   int64  \n",
      " 2   ManageStaff             4503 non-null   int64  \n",
      " 3   YearsWithThisTypeOfJob  4503 non-null   int64  \n",
      " 4   OtherPeopleOnYourTeam   4503 non-null   int64  \n",
      " 5   Education               4503 non-null   int64  \n",
      " 6   HoursWorkedPerWeek      4503 non-null   int64  \n",
      " 7   TelecommuteDaysPerWeek  4503 non-null   int64  \n",
      " 8   EmploymentSector        4503 non-null   object \n",
      " 9   LookingForAnotherJob    4503 non-null   int64  \n",
      "dtypes: float64(1), int64(8), object(1)\n",
      "memory usage: 387.0+ KB\n"
     ]
    }
   ],
   "source": [
    "X.info()"
   ]
  },
  {
   "cell_type": "code",
   "execution_count": 67,
   "metadata": {},
   "outputs": [
    {
     "data": {
      "text/html": [
       "<div>\n",
       "<style scoped>\n",
       "    .dataframe tbody tr th:only-of-type {\n",
       "        vertical-align: middle;\n",
       "    }\n",
       "\n",
       "    .dataframe tbody tr th {\n",
       "        vertical-align: top;\n",
       "    }\n",
       "\n",
       "    .dataframe thead th {\n",
       "        text-align: right;\n",
       "    }\n",
       "</style>\n",
       "<table border=\"1\" class=\"dataframe\">\n",
       "  <thead>\n",
       "    <tr style=\"text-align: right;\">\n",
       "      <th></th>\n",
       "      <th>SalaryUSD</th>\n",
       "      <th>YearsWithThisDatabase</th>\n",
       "      <th>ManageStaff</th>\n",
       "      <th>YearsWithThisTypeOfJob</th>\n",
       "      <th>OtherPeopleOnYourTeam</th>\n",
       "      <th>Education</th>\n",
       "      <th>HoursWorkedPerWeek</th>\n",
       "      <th>TelecommuteDaysPerWeek</th>\n",
       "      <th>EmploymentSector</th>\n",
       "      <th>LookingForAnotherJob</th>\n",
       "    </tr>\n",
       "  </thead>\n",
       "  <tbody>\n",
       "    <tr>\n",
       "      <th>0</th>\n",
       "      <td>200000.0</td>\n",
       "      <td>10</td>\n",
       "      <td>0</td>\n",
       "      <td>5</td>\n",
       "      <td>2</td>\n",
       "      <td>3</td>\n",
       "      <td>45</td>\n",
       "      <td>1</td>\n",
       "      <td>Private business</td>\n",
       "      <td>1</td>\n",
       "    </tr>\n",
       "    <tr>\n",
       "      <th>12</th>\n",
       "      <td>137500.0</td>\n",
       "      <td>16</td>\n",
       "      <td>0</td>\n",
       "      <td>6</td>\n",
       "      <td>4</td>\n",
       "      <td>0</td>\n",
       "      <td>55</td>\n",
       "      <td>5</td>\n",
       "      <td>Private business</td>\n",
       "      <td>0</td>\n",
       "    </tr>\n",
       "    <tr>\n",
       "      <th>14</th>\n",
       "      <td>85000.0</td>\n",
       "      <td>8</td>\n",
       "      <td>0</td>\n",
       "      <td>2</td>\n",
       "      <td>0</td>\n",
       "      <td>2</td>\n",
       "      <td>50</td>\n",
       "      <td>0</td>\n",
       "      <td>Private business</td>\n",
       "      <td>1</td>\n",
       "    </tr>\n",
       "    <tr>\n",
       "      <th>15</th>\n",
       "      <td>96000.0</td>\n",
       "      <td>5</td>\n",
       "      <td>0</td>\n",
       "      <td>5</td>\n",
       "      <td>0</td>\n",
       "      <td>3</td>\n",
       "      <td>45</td>\n",
       "      <td>1</td>\n",
       "      <td>Private business</td>\n",
       "      <td>1</td>\n",
       "    </tr>\n",
       "    <tr>\n",
       "      <th>17</th>\n",
       "      <td>66000.0</td>\n",
       "      <td>10</td>\n",
       "      <td>0</td>\n",
       "      <td>10</td>\n",
       "      <td>0</td>\n",
       "      <td>1</td>\n",
       "      <td>60</td>\n",
       "      <td>5</td>\n",
       "      <td>Private business</td>\n",
       "      <td>1</td>\n",
       "    </tr>\n",
       "  </tbody>\n",
       "</table>\n",
       "</div>"
      ],
      "text/plain": [
       "    SalaryUSD  YearsWithThisDatabase  ManageStaff  YearsWithThisTypeOfJob  \\\n",
       "0    200000.0                     10            0                       5   \n",
       "12   137500.0                     16            0                       6   \n",
       "14    85000.0                      8            0                       2   \n",
       "15    96000.0                      5            0                       5   \n",
       "17    66000.0                     10            0                      10   \n",
       "\n",
       "    OtherPeopleOnYourTeam  Education  HoursWorkedPerWeek  \\\n",
       "0                       2          3                  45   \n",
       "12                      4          0                  55   \n",
       "14                      0          2                  50   \n",
       "15                      0          3                  45   \n",
       "17                      0          1                  60   \n",
       "\n",
       "    TelecommuteDaysPerWeek  EmploymentSector  LookingForAnotherJob  \n",
       "0                        1  Private business                     1  \n",
       "12                       5  Private business                     0  \n",
       "14                       0  Private business                     1  \n",
       "15                       1  Private business                     1  \n",
       "17                       5  Private business                     1  "
      ]
     },
     "execution_count": 67,
     "metadata": {},
     "output_type": "execute_result"
    }
   ],
   "source": [
    "X.head()"
   ]
  },
  {
   "cell_type": "markdown",
   "metadata": {},
   "source": [
    "### More plotting for variables"
   ]
  },
  {
   "cell_type": "code",
   "execution_count": 125,
   "metadata": {},
   "outputs": [],
   "source": [
    "sl = pd.concat([X['SalaryUSD'], X['LookingForAnotherJob']], axis=1)"
   ]
  },
  {
   "cell_type": "code",
   "execution_count": 126,
   "metadata": {},
   "outputs": [],
   "source": [
    "sl_q3 = sl['SalaryUSD'].describe()['75%']\n",
    "sl_q1 = sl['SalaryUSD'].describe()['25%']\n",
    "\n",
    "sl_iqr = sl_q3 - sl_q1\n",
    "sl = sl.loc[sl.loc[((sl['SalaryUSD'] < (sl_q3 + 1.5 * sl_iqr)) & (sl['SalaryUSD'] > (sl_q1 - 1.5 * sl_iqr))), 'SalaryUSD'].index]\n",
    "\n"
   ]
  },
  {
   "cell_type": "code",
   "execution_count": 127,
   "metadata": {
    "scrolled": true
   },
   "outputs": [
    {
     "data": {
      "text/plain": [
       "<matplotlib.axes._subplots.AxesSubplot at 0x1a19628e10>"
      ]
     },
     "execution_count": 127,
     "metadata": {},
     "output_type": "execute_result"
    },
    {
     "data": {
      "image/png": "[encoded data removed]",
      "text/plain": [
       "<Figure size 432x288 with 1 Axes>"
      ]
     },
     "metadata": {
      "needs_background": "light"
     },
     "output_type": "display_data"
    }
   ],
   "source": [
    "sns.violinplot(x='LookingForAnotherJob', y='SalaryUSD', data=sl)"
   ]
  },
  {
   "cell_type": "code",
   "execution_count": 129,
   "metadata": {},
   "outputs": [
    {
     "data": {
      "text/plain": [
       "<matplotlib.axes._subplots.AxesSubplot at 0x1a1af1f510>"
      ]
     },
     "execution_count": 129,
     "metadata": {},
     "output_type": "execute_result"
    },
    {
     "data": {
      "image/png": "[encoded data removed]",
      "text/plain": [
       "<Figure size 432x288 with 1 Axes>"
      ]
     },
     "metadata": {
      "needs_background": "light"
     },
     "output_type": "display_data"
    }
   ],
   "source": [
    "sns.violinplot(x='LookingForAnotherJob', y='HoursWorkedPerWeek', data=X)"
   ]
  },
  {
   "cell_type": "code",
   "execution_count": 72,
   "metadata": {},
   "outputs": [],
   "source": [
    "not_looking = X[X['LookingForAnotherJob'] == 0]\n",
    "passively_looking = X[X['LookingForAnotherJob'] == 1]\n",
    "actively_looking = X[X['LookingForAnotherJob'] == 2]"
   ]
  },
  {
   "cell_type": "code",
   "execution_count": 73,
   "metadata": {},
   "outputs": [
    {
     "data": {
      "text/html": [
       "<div>\n",
       "<style scoped>\n",
       "    .dataframe tbody tr th:only-of-type {\n",
       "        vertical-align: middle;\n",
       "    }\n",
       "\n",
       "    .dataframe tbody tr th {\n",
       "        vertical-align: top;\n",
       "    }\n",
       "\n",
       "    .dataframe thead th {\n",
       "        text-align: right;\n",
       "    }\n",
       "</style>\n",
       "<table border=\"1\" class=\"dataframe\">\n",
       "  <thead>\n",
       "    <tr style=\"text-align: right;\">\n",
       "      <th></th>\n",
       "      <th>SalaryUSD</th>\n",
       "      <th>YearsWithThisDatabase</th>\n",
       "      <th>ManageStaff</th>\n",
       "      <th>YearsWithThisTypeOfJob</th>\n",
       "      <th>OtherPeopleOnYourTeam</th>\n",
       "      <th>Education</th>\n",
       "      <th>HoursWorkedPerWeek</th>\n",
       "      <th>TelecommuteDaysPerWeek</th>\n",
       "      <th>EmploymentSector</th>\n",
       "      <th>LookingForAnotherJob</th>\n",
       "    </tr>\n",
       "  </thead>\n",
       "  <tbody>\n",
       "    <tr>\n",
       "      <th>12</th>\n",
       "      <td>137500.0</td>\n",
       "      <td>16</td>\n",
       "      <td>0</td>\n",
       "      <td>6</td>\n",
       "      <td>4</td>\n",
       "      <td>0</td>\n",
       "      <td>55</td>\n",
       "      <td>5</td>\n",
       "      <td>Private business</td>\n",
       "      <td>0</td>\n",
       "    </tr>\n",
       "    <tr>\n",
       "      <th>18</th>\n",
       "      <td>101750.0</td>\n",
       "      <td>13</td>\n",
       "      <td>0</td>\n",
       "      <td>13</td>\n",
       "      <td>0</td>\n",
       "      <td>0</td>\n",
       "      <td>60</td>\n",
       "      <td>2</td>\n",
       "      <td>Private business</td>\n",
       "      <td>0</td>\n",
       "    </tr>\n",
       "    <tr>\n",
       "      <th>22</th>\n",
       "      <td>123000.0</td>\n",
       "      <td>7</td>\n",
       "      <td>0</td>\n",
       "      <td>7</td>\n",
       "      <td>2</td>\n",
       "      <td>2</td>\n",
       "      <td>45</td>\n",
       "      <td>3</td>\n",
       "      <td>Private business</td>\n",
       "      <td>0</td>\n",
       "    </tr>\n",
       "    <tr>\n",
       "      <th>23</th>\n",
       "      <td>100800.0</td>\n",
       "      <td>16</td>\n",
       "      <td>0</td>\n",
       "      <td>6</td>\n",
       "      <td>0</td>\n",
       "      <td>2</td>\n",
       "      <td>40</td>\n",
       "      <td>2</td>\n",
       "      <td>Private business</td>\n",
       "      <td>0</td>\n",
       "    </tr>\n",
       "    <tr>\n",
       "      <th>27</th>\n",
       "      <td>80000.0</td>\n",
       "      <td>3</td>\n",
       "      <td>0</td>\n",
       "      <td>3</td>\n",
       "      <td>1</td>\n",
       "      <td>2</td>\n",
       "      <td>45</td>\n",
       "      <td>0</td>\n",
       "      <td>Private business</td>\n",
       "      <td>0</td>\n",
       "    </tr>\n",
       "    <tr>\n",
       "      <th>...</th>\n",
       "      <td>...</td>\n",
       "      <td>...</td>\n",
       "      <td>...</td>\n",
       "      <td>...</td>\n",
       "      <td>...</td>\n",
       "      <td>...</td>\n",
       "      <td>...</td>\n",
       "      <td>...</td>\n",
       "      <td>...</td>\n",
       "      <td>...</td>\n",
       "    </tr>\n",
       "    <tr>\n",
       "      <th>6870</th>\n",
       "      <td>96000.0</td>\n",
       "      <td>12</td>\n",
       "      <td>0</td>\n",
       "      <td>12</td>\n",
       "      <td>2</td>\n",
       "      <td>1</td>\n",
       "      <td>40</td>\n",
       "      <td>5</td>\n",
       "      <td>Non-profit</td>\n",
       "      <td>0</td>\n",
       "    </tr>\n",
       "    <tr>\n",
       "      <th>6882</th>\n",
       "      <td>123000.0</td>\n",
       "      <td>16</td>\n",
       "      <td>0</td>\n",
       "      <td>6</td>\n",
       "      <td>0</td>\n",
       "      <td>2</td>\n",
       "      <td>45</td>\n",
       "      <td>1</td>\n",
       "      <td>Private business</td>\n",
       "      <td>0</td>\n",
       "    </tr>\n",
       "    <tr>\n",
       "      <th>6883</th>\n",
       "      <td>101500.0</td>\n",
       "      <td>8</td>\n",
       "      <td>0</td>\n",
       "      <td>9</td>\n",
       "      <td>3</td>\n",
       "      <td>2</td>\n",
       "      <td>43</td>\n",
       "      <td>1</td>\n",
       "      <td>Private business</td>\n",
       "      <td>0</td>\n",
       "    </tr>\n",
       "    <tr>\n",
       "      <th>6886</th>\n",
       "      <td>132000.0</td>\n",
       "      <td>20</td>\n",
       "      <td>0</td>\n",
       "      <td>20</td>\n",
       "      <td>3</td>\n",
       "      <td>2</td>\n",
       "      <td>45</td>\n",
       "      <td>5</td>\n",
       "      <td>Private business</td>\n",
       "      <td>0</td>\n",
       "    </tr>\n",
       "    <tr>\n",
       "      <th>6887</th>\n",
       "      <td>58500.0</td>\n",
       "      <td>5</td>\n",
       "      <td>0</td>\n",
       "      <td>5</td>\n",
       "      <td>1</td>\n",
       "      <td>1</td>\n",
       "      <td>40</td>\n",
       "      <td>0</td>\n",
       "      <td>Private business</td>\n",
       "      <td>0</td>\n",
       "    </tr>\n",
       "  </tbody>\n",
       "</table>\n",
       "<p>2350 rows × 10 columns</p>\n",
       "</div>"
      ],
      "text/plain": [
       "      SalaryUSD  YearsWithThisDatabase  ManageStaff  YearsWithThisTypeOfJob  \\\n",
       "12     137500.0                     16            0                       6   \n",
       "18     101750.0                     13            0                      13   \n",
       "22     123000.0                      7            0                       7   \n",
       "23     100800.0                     16            0                       6   \n",
       "27      80000.0                      3            0                       3   \n",
       "...         ...                    ...          ...                     ...   \n",
       "6870    96000.0                     12            0                      12   \n",
       "6882   123000.0                     16            0                       6   \n",
       "6883   101500.0                      8            0                       9   \n",
       "6886   132000.0                     20            0                      20   \n",
       "6887    58500.0                      5            0                       5   \n",
       "\n",
       "      OtherPeopleOnYourTeam  Education  HoursWorkedPerWeek  \\\n",
       "12                        4          0                  55   \n",
       "18                        0          0                  60   \n",
       "22                        2          2                  45   \n",
       "23                        0          2                  40   \n",
       "27                        1          2                  45   \n",
       "...                     ...        ...                 ...   \n",
       "6870                      2          1                  40   \n",
       "6882                      0          2                  45   \n",
       "6883                      3          2                  43   \n",
       "6886                      3          2                  45   \n",
       "6887                      1          1                  40   \n",
       "\n",
       "      TelecommuteDaysPerWeek  EmploymentSector  LookingForAnotherJob  \n",
       "12                         5  Private business                     0  \n",
       "18                         2  Private business                     0  \n",
       "22                         3  Private business                     0  \n",
       "23                         2  Private business                     0  \n",
       "27                         0  Private business                     0  \n",
       "...                      ...               ...                   ...  \n",
       "6870                       5        Non-profit                     0  \n",
       "6882                       1  Private business                     0  \n",
       "6883                       1  Private business                     0  \n",
       "6886                       5  Private business                     0  \n",
       "6887                       0  Private business                     0  \n",
       "\n",
       "[2350 rows x 10 columns]"
      ]
     },
     "execution_count": 73,
     "metadata": {},
     "output_type": "execute_result"
    }
   ],
   "source": [
    "not_looking"
   ]
  },
  {
   "cell_type": "code",
   "execution_count": 74,
   "metadata": {},
   "outputs": [
    {
     "data": {
      "text/html": [
       "<div>\n",
       "<style scoped>\n",
       "    .dataframe tbody tr th:only-of-type {\n",
       "        vertical-align: middle;\n",
       "    }\n",
       "\n",
       "    .dataframe tbody tr th {\n",
       "        vertical-align: top;\n",
       "    }\n",
       "\n",
       "    .dataframe thead th {\n",
       "        text-align: right;\n",
       "    }\n",
       "</style>\n",
       "<table border=\"1\" class=\"dataframe\">\n",
       "  <thead>\n",
       "    <tr style=\"text-align: right;\">\n",
       "      <th></th>\n",
       "      <th>SalaryUSD</th>\n",
       "      <th>YearsWithThisDatabase</th>\n",
       "      <th>ManageStaff</th>\n",
       "      <th>YearsWithThisTypeOfJob</th>\n",
       "      <th>OtherPeopleOnYourTeam</th>\n",
       "      <th>Education</th>\n",
       "      <th>HoursWorkedPerWeek</th>\n",
       "      <th>TelecommuteDaysPerWeek</th>\n",
       "      <th>EmploymentSector</th>\n",
       "      <th>LookingForAnotherJob</th>\n",
       "    </tr>\n",
       "  </thead>\n",
       "  <tbody>\n",
       "    <tr>\n",
       "      <th>0</th>\n",
       "      <td>200000.0</td>\n",
       "      <td>10</td>\n",
       "      <td>0</td>\n",
       "      <td>5</td>\n",
       "      <td>2</td>\n",
       "      <td>3</td>\n",
       "      <td>45</td>\n",
       "      <td>1</td>\n",
       "      <td>Private business</td>\n",
       "      <td>1</td>\n",
       "    </tr>\n",
       "    <tr>\n",
       "      <th>14</th>\n",
       "      <td>85000.0</td>\n",
       "      <td>8</td>\n",
       "      <td>0</td>\n",
       "      <td>2</td>\n",
       "      <td>0</td>\n",
       "      <td>2</td>\n",
       "      <td>50</td>\n",
       "      <td>0</td>\n",
       "      <td>Private business</td>\n",
       "      <td>1</td>\n",
       "    </tr>\n",
       "    <tr>\n",
       "      <th>15</th>\n",
       "      <td>96000.0</td>\n",
       "      <td>5</td>\n",
       "      <td>0</td>\n",
       "      <td>5</td>\n",
       "      <td>0</td>\n",
       "      <td>3</td>\n",
       "      <td>45</td>\n",
       "      <td>1</td>\n",
       "      <td>Private business</td>\n",
       "      <td>1</td>\n",
       "    </tr>\n",
       "    <tr>\n",
       "      <th>17</th>\n",
       "      <td>66000.0</td>\n",
       "      <td>10</td>\n",
       "      <td>0</td>\n",
       "      <td>10</td>\n",
       "      <td>0</td>\n",
       "      <td>1</td>\n",
       "      <td>60</td>\n",
       "      <td>5</td>\n",
       "      <td>Private business</td>\n",
       "      <td>1</td>\n",
       "    </tr>\n",
       "    <tr>\n",
       "      <th>21</th>\n",
       "      <td>78000.0</td>\n",
       "      <td>5</td>\n",
       "      <td>0</td>\n",
       "      <td>10</td>\n",
       "      <td>0</td>\n",
       "      <td>1</td>\n",
       "      <td>60</td>\n",
       "      <td>0</td>\n",
       "      <td>Private business</td>\n",
       "      <td>1</td>\n",
       "    </tr>\n",
       "    <tr>\n",
       "      <th>...</th>\n",
       "      <td>...</td>\n",
       "      <td>...</td>\n",
       "      <td>...</td>\n",
       "      <td>...</td>\n",
       "      <td>...</td>\n",
       "      <td>...</td>\n",
       "      <td>...</td>\n",
       "      <td>...</td>\n",
       "      <td>...</td>\n",
       "      <td>...</td>\n",
       "    </tr>\n",
       "    <tr>\n",
       "      <th>6856</th>\n",
       "      <td>92000.0</td>\n",
       "      <td>15</td>\n",
       "      <td>1</td>\n",
       "      <td>17</td>\n",
       "      <td>2</td>\n",
       "      <td>2</td>\n",
       "      <td>40</td>\n",
       "      <td>2</td>\n",
       "      <td>State/province government</td>\n",
       "      <td>1</td>\n",
       "    </tr>\n",
       "    <tr>\n",
       "      <th>6863</th>\n",
       "      <td>145000.0</td>\n",
       "      <td>10</td>\n",
       "      <td>0</td>\n",
       "      <td>7</td>\n",
       "      <td>2</td>\n",
       "      <td>2</td>\n",
       "      <td>45</td>\n",
       "      <td>1</td>\n",
       "      <td>Private business</td>\n",
       "      <td>1</td>\n",
       "    </tr>\n",
       "    <tr>\n",
       "      <th>6868</th>\n",
       "      <td>97000.0</td>\n",
       "      <td>4</td>\n",
       "      <td>0</td>\n",
       "      <td>4</td>\n",
       "      <td>2</td>\n",
       "      <td>2</td>\n",
       "      <td>40</td>\n",
       "      <td>0</td>\n",
       "      <td>Private business</td>\n",
       "      <td>1</td>\n",
       "    </tr>\n",
       "    <tr>\n",
       "      <th>6881</th>\n",
       "      <td>105000.0</td>\n",
       "      <td>15</td>\n",
       "      <td>0</td>\n",
       "      <td>15</td>\n",
       "      <td>3</td>\n",
       "      <td>2</td>\n",
       "      <td>45</td>\n",
       "      <td>0</td>\n",
       "      <td>Private business</td>\n",
       "      <td>1</td>\n",
       "    </tr>\n",
       "    <tr>\n",
       "      <th>6884</th>\n",
       "      <td>107000.0</td>\n",
       "      <td>9</td>\n",
       "      <td>0</td>\n",
       "      <td>8</td>\n",
       "      <td>0</td>\n",
       "      <td>2</td>\n",
       "      <td>45</td>\n",
       "      <td>1</td>\n",
       "      <td>Private business</td>\n",
       "      <td>1</td>\n",
       "    </tr>\n",
       "  </tbody>\n",
       "</table>\n",
       "<p>1845 rows × 10 columns</p>\n",
       "</div>"
      ],
      "text/plain": [
       "      SalaryUSD  YearsWithThisDatabase  ManageStaff  YearsWithThisTypeOfJob  \\\n",
       "0      200000.0                     10            0                       5   \n",
       "14      85000.0                      8            0                       2   \n",
       "15      96000.0                      5            0                       5   \n",
       "17      66000.0                     10            0                      10   \n",
       "21      78000.0                      5            0                      10   \n",
       "...         ...                    ...          ...                     ...   \n",
       "6856    92000.0                     15            1                      17   \n",
       "6863   145000.0                     10            0                       7   \n",
       "6868    97000.0                      4            0                       4   \n",
       "6881   105000.0                     15            0                      15   \n",
       "6884   107000.0                      9            0                       8   \n",
       "\n",
       "      OtherPeopleOnYourTeam  Education  HoursWorkedPerWeek  \\\n",
       "0                         2          3                  45   \n",
       "14                        0          2                  50   \n",
       "15                        0          3                  45   \n",
       "17                        0          1                  60   \n",
       "21                        0          1                  60   \n",
       "...                     ...        ...                 ...   \n",
       "6856                      2          2                  40   \n",
       "6863                      2          2                  45   \n",
       "6868                      2          2                  40   \n",
       "6881                      3          2                  45   \n",
       "6884                      0          2                  45   \n",
       "\n",
       "      TelecommuteDaysPerWeek           EmploymentSector  LookingForAnotherJob  \n",
       "0                          1           Private business                     1  \n",
       "14                         0           Private business                     1  \n",
       "15                         1           Private business                     1  \n",
       "17                         5           Private business                     1  \n",
       "21                         0           Private business                     1  \n",
       "...                      ...                        ...                   ...  \n",
       "6856                       2  State/province government                     1  \n",
       "6863                       1           Private business                     1  \n",
       "6868                       0           Private business                     1  \n",
       "6881                       0           Private business                     1  \n",
       "6884                       1           Private business                     1  \n",
       "\n",
       "[1845 rows x 10 columns]"
      ]
     },
     "execution_count": 74,
     "metadata": {},
     "output_type": "execute_result"
    }
   ],
   "source": [
    "passively_looking"
   ]
  },
  {
   "cell_type": "code",
   "execution_count": 75,
   "metadata": {},
   "outputs": [
    {
     "data": {
      "text/html": [
       "<div>\n",
       "<style scoped>\n",
       "    .dataframe tbody tr th:only-of-type {\n",
       "        vertical-align: middle;\n",
       "    }\n",
       "\n",
       "    .dataframe tbody tr th {\n",
       "        vertical-align: top;\n",
       "    }\n",
       "\n",
       "    .dataframe thead th {\n",
       "        text-align: right;\n",
       "    }\n",
       "</style>\n",
       "<table border=\"1\" class=\"dataframe\">\n",
       "  <thead>\n",
       "    <tr style=\"text-align: right;\">\n",
       "      <th></th>\n",
       "      <th>SalaryUSD</th>\n",
       "      <th>YearsWithThisDatabase</th>\n",
       "      <th>ManageStaff</th>\n",
       "      <th>YearsWithThisTypeOfJob</th>\n",
       "      <th>OtherPeopleOnYourTeam</th>\n",
       "      <th>Education</th>\n",
       "      <th>HoursWorkedPerWeek</th>\n",
       "      <th>TelecommuteDaysPerWeek</th>\n",
       "      <th>EmploymentSector</th>\n",
       "      <th>LookingForAnotherJob</th>\n",
       "    </tr>\n",
       "  </thead>\n",
       "  <tbody>\n",
       "    <tr>\n",
       "      <th>61</th>\n",
       "      <td>97500.0</td>\n",
       "      <td>9</td>\n",
       "      <td>0</td>\n",
       "      <td>5</td>\n",
       "      <td>6</td>\n",
       "      <td>1</td>\n",
       "      <td>45</td>\n",
       "      <td>2</td>\n",
       "      <td>Private business</td>\n",
       "      <td>2</td>\n",
       "    </tr>\n",
       "    <tr>\n",
       "      <th>100</th>\n",
       "      <td>95000.0</td>\n",
       "      <td>15</td>\n",
       "      <td>0</td>\n",
       "      <td>11</td>\n",
       "      <td>1</td>\n",
       "      <td>2</td>\n",
       "      <td>40</td>\n",
       "      <td>0</td>\n",
       "      <td>Private business</td>\n",
       "      <td>2</td>\n",
       "    </tr>\n",
       "    <tr>\n",
       "      <th>117</th>\n",
       "      <td>87000.0</td>\n",
       "      <td>18</td>\n",
       "      <td>1</td>\n",
       "      <td>5</td>\n",
       "      <td>1</td>\n",
       "      <td>3</td>\n",
       "      <td>40</td>\n",
       "      <td>0</td>\n",
       "      <td>Private business</td>\n",
       "      <td>2</td>\n",
       "    </tr>\n",
       "    <tr>\n",
       "      <th>122</th>\n",
       "      <td>115000.0</td>\n",
       "      <td>12</td>\n",
       "      <td>0</td>\n",
       "      <td>10</td>\n",
       "      <td>1</td>\n",
       "      <td>0</td>\n",
       "      <td>40</td>\n",
       "      <td>0</td>\n",
       "      <td>Private business</td>\n",
       "      <td>2</td>\n",
       "    </tr>\n",
       "    <tr>\n",
       "      <th>134</th>\n",
       "      <td>70000.0</td>\n",
       "      <td>3</td>\n",
       "      <td>0</td>\n",
       "      <td>3</td>\n",
       "      <td>1</td>\n",
       "      <td>2</td>\n",
       "      <td>45</td>\n",
       "      <td>1</td>\n",
       "      <td>Private business</td>\n",
       "      <td>2</td>\n",
       "    </tr>\n",
       "    <tr>\n",
       "      <th>...</th>\n",
       "      <td>...</td>\n",
       "      <td>...</td>\n",
       "      <td>...</td>\n",
       "      <td>...</td>\n",
       "      <td>...</td>\n",
       "      <td>...</td>\n",
       "      <td>...</td>\n",
       "      <td>...</td>\n",
       "      <td>...</td>\n",
       "      <td>...</td>\n",
       "    </tr>\n",
       "    <tr>\n",
       "      <th>6812</th>\n",
       "      <td>80000.0</td>\n",
       "      <td>5</td>\n",
       "      <td>0</td>\n",
       "      <td>5</td>\n",
       "      <td>2</td>\n",
       "      <td>2</td>\n",
       "      <td>42</td>\n",
       "      <td>1</td>\n",
       "      <td>Private business</td>\n",
       "      <td>2</td>\n",
       "    </tr>\n",
       "    <tr>\n",
       "      <th>6819</th>\n",
       "      <td>85000.0</td>\n",
       "      <td>18</td>\n",
       "      <td>0</td>\n",
       "      <td>10</td>\n",
       "      <td>1</td>\n",
       "      <td>0</td>\n",
       "      <td>50</td>\n",
       "      <td>2</td>\n",
       "      <td>Private business</td>\n",
       "      <td>2</td>\n",
       "    </tr>\n",
       "    <tr>\n",
       "      <th>6830</th>\n",
       "      <td>136500.0</td>\n",
       "      <td>18</td>\n",
       "      <td>1</td>\n",
       "      <td>17</td>\n",
       "      <td>0</td>\n",
       "      <td>2</td>\n",
       "      <td>45</td>\n",
       "      <td>1</td>\n",
       "      <td>Private business</td>\n",
       "      <td>2</td>\n",
       "    </tr>\n",
       "    <tr>\n",
       "      <th>6861</th>\n",
       "      <td>160000.0</td>\n",
       "      <td>20</td>\n",
       "      <td>1</td>\n",
       "      <td>8</td>\n",
       "      <td>0</td>\n",
       "      <td>1</td>\n",
       "      <td>50</td>\n",
       "      <td>0</td>\n",
       "      <td>Private business</td>\n",
       "      <td>2</td>\n",
       "    </tr>\n",
       "    <tr>\n",
       "      <th>6891</th>\n",
       "      <td>130000.0</td>\n",
       "      <td>20</td>\n",
       "      <td>0</td>\n",
       "      <td>17</td>\n",
       "      <td>5</td>\n",
       "      <td>2</td>\n",
       "      <td>42</td>\n",
       "      <td>0</td>\n",
       "      <td>Private business</td>\n",
       "      <td>2</td>\n",
       "    </tr>\n",
       "  </tbody>\n",
       "</table>\n",
       "<p>308 rows × 10 columns</p>\n",
       "</div>"
      ],
      "text/plain": [
       "      SalaryUSD  YearsWithThisDatabase  ManageStaff  YearsWithThisTypeOfJob  \\\n",
       "61      97500.0                      9            0                       5   \n",
       "100     95000.0                     15            0                      11   \n",
       "117     87000.0                     18            1                       5   \n",
       "122    115000.0                     12            0                      10   \n",
       "134     70000.0                      3            0                       3   \n",
       "...         ...                    ...          ...                     ...   \n",
       "6812    80000.0                      5            0                       5   \n",
       "6819    85000.0                     18            0                      10   \n",
       "6830   136500.0                     18            1                      17   \n",
       "6861   160000.0                     20            1                       8   \n",
       "6891   130000.0                     20            0                      17   \n",
       "\n",
       "      OtherPeopleOnYourTeam  Education  HoursWorkedPerWeek  \\\n",
       "61                        6          1                  45   \n",
       "100                       1          2                  40   \n",
       "117                       1          3                  40   \n",
       "122                       1          0                  40   \n",
       "134                       1          2                  45   \n",
       "...                     ...        ...                 ...   \n",
       "6812                      2          2                  42   \n",
       "6819                      1          0                  50   \n",
       "6830                      0          2                  45   \n",
       "6861                      0          1                  50   \n",
       "6891                      5          2                  42   \n",
       "\n",
       "      TelecommuteDaysPerWeek  EmploymentSector  LookingForAnotherJob  \n",
       "61                         2  Private business                     2  \n",
       "100                        0  Private business                     2  \n",
       "117                        0  Private business                     2  \n",
       "122                        0  Private business                     2  \n",
       "134                        1  Private business                     2  \n",
       "...                      ...               ...                   ...  \n",
       "6812                       1  Private business                     2  \n",
       "6819                       2  Private business                     2  \n",
       "6830                       1  Private business                     2  \n",
       "6861                       0  Private business                     2  \n",
       "6891                       0  Private business                     2  \n",
       "\n",
       "[308 rows x 10 columns]"
      ]
     },
     "execution_count": 75,
     "metadata": {},
     "output_type": "execute_result"
    }
   ],
   "source": [
    "actively_looking"
   ]
  },
  {
   "cell_type": "markdown",
   "metadata": {},
   "source": [
    "### Testing"
   ]
  },
  {
   "cell_type": "code",
   "execution_count": 76,
   "metadata": {},
   "outputs": [],
   "source": [
    "import scipy.stats as stats"
   ]
  },
  {
   "cell_type": "code",
   "execution_count": 86,
   "metadata": {},
   "outputs": [
    {
     "data": {
      "text/plain": [
       "<matplotlib.axes._subplots.AxesSubplot at 0x1a1c0e1610>"
      ]
     },
     "execution_count": 86,
     "metadata": {},
     "output_type": "execute_result"
    },
    {
     "data": {
      "image/png": "[encoded data removed]",
      "text/plain": [
       "<Figure size 432x288 with 1 Axes>"
      ]
     },
     "metadata": {
      "needs_background": "light"
     },
     "output_type": "display_data"
    }
   ],
   "source": [
    "not_looking['SalaryUSD'].hist()"
   ]
  },
  {
   "cell_type": "code",
   "execution_count": 87,
   "metadata": {},
   "outputs": [
    {
     "data": {
      "text/plain": [
       "<matplotlib.axes._subplots.AxesSubplot at 0x1a1b9f30d0>"
      ]
     },
     "execution_count": 87,
     "metadata": {},
     "output_type": "execute_result"
    },
    {
     "data": {
      "image/png": "[encoded data removed]",
      "text/plain": [
       "<Figure size 432x288 with 1 Axes>"
      ]
     },
     "metadata": {
      "needs_background": "light"
     },
     "output_type": "display_data"
    }
   ],
   "source": [
    "passively_looking['SalaryUSD'].hist()"
   ]
  },
  {
   "cell_type": "code",
   "execution_count": 88,
   "metadata": {
    "scrolled": true
   },
   "outputs": [
    {
     "data": {
      "text/plain": [
       "<matplotlib.axes._subplots.AxesSubplot at 0x1a1b82a850>"
      ]
     },
     "execution_count": 88,
     "metadata": {},
     "output_type": "execute_result"
    },
    {
     "data": {
      "image/png": "[encoded data removed]",
      "text/plain": [
       "<Figure size 432x288 with 1 Axes>"
      ]
     },
     "metadata": {
      "needs_background": "light"
     },
     "output_type": "display_data"
    }
   ],
   "source": [
    "actively_looking['SalaryUSD'].hist()"
   ]
  },
  {
   "cell_type": "code",
   "execution_count": 130,
   "metadata": {},
   "outputs": [],
   "source": [
    "nl_q1 = not_looking['SalaryUSD'].quantile(.25)\n",
    "nl_q3 = not_looking['SalaryUSD'].quantile(.75)\n",
    "nl_iqr = nl_q3 - nl_q1\n",
    "\n",
    "nl_mask = ((not_looking['SalaryUSD'] <= nl_q3 + (1.5 * nl_iqr)) & (not_looking['SalaryUSD'] >= nl_q1 - (1.5 * nl_iqr)))\n",
    "\n",
    "pl_q1 = passively_looking['SalaryUSD'].quantile(.25)\n",
    "pl_q3 = passively_looking['SalaryUSD'].quantile(.75)\n",
    "pl_iqr = pl_q3 - pl_q1\n",
    "\n",
    "pl_mask = ((passively_looking['SalaryUSD'] <= pl_q3 + (1.5 * pl_iqr)) & (passively_looking['SalaryUSD'] >= pl_q1 - (1.5 * pl_iqr)))\n",
    "\n",
    "al_q1 = actively_looking['SalaryUSD'].quantile(.25)\n",
    "al_q3 = actively_looking['SalaryUSD'].quantile(.75)\n",
    "al_iqr = al_q3 - al_q1\n",
    "\n",
    "al_mask = ((actively_looking['SalaryUSD'] <= al_q3 + (1.5 * al_iqr)) & (actively_looking['SalaryUSD'] >= al_q1 - (1.5 * al_iqr)))"
   ]
  },
  {
   "cell_type": "code",
   "execution_count": 132,
   "metadata": {},
   "outputs": [
    {
     "data": {
      "text/plain": [
       "<matplotlib.axes._subplots.AxesSubplot at 0x1a1e4027d0>"
      ]
     },
     "execution_count": 132,
     "metadata": {},
     "output_type": "execute_result"
    },
    {
     "data": {
      "image/png": "[encoded data removed]",
      "text/plain": [
       "<Figure size 432x288 with 1 Axes>"
      ]
     },
     "metadata": {
      "needs_background": "light"
     },
     "output_type": "display_data"
    }
   ],
   "source": [
    "not_looking.loc[nl_mask, 'SalaryUSD'].hist(edgecolor='white')"
   ]
  },
  {
   "cell_type": "code",
   "execution_count": 133,
   "metadata": {},
   "outputs": [
    {
     "data": {
      "text/plain": [
       "725775840.2710052"
      ]
     },
     "execution_count": 133,
     "metadata": {},
     "output_type": "execute_result"
    }
   ],
   "source": [
    "not_looking.loc[nl_mask, 'SalaryUSD'].var()"
   ]
  },
  {
   "cell_type": "code",
   "execution_count": 134,
   "metadata": {},
   "outputs": [
    {
     "data": {
      "text/plain": [
       "<matplotlib.axes._subplots.AxesSubplot at 0x1a1e558c10>"
      ]
     },
     "execution_count": 134,
     "metadata": {},
     "output_type": "execute_result"
    },
    {
     "data": {
      "image/png": "[encoded data removed]",
      "text/plain": [
       "<Figure size 432x288 with 1 Axes>"
      ]
     },
     "metadata": {
      "needs_background": "light"
     },
     "output_type": "display_data"
    }
   ],
   "source": [
    "passively_looking.loc[pl_mask, 'SalaryUSD'].hist(edgecolor='white')"
   ]
  },
  {
   "cell_type": "code",
   "execution_count": 135,
   "metadata": {},
   "outputs": [
    {
     "data": {
      "text/plain": [
       "716397637.2121731"
      ]
     },
     "execution_count": 135,
     "metadata": {},
     "output_type": "execute_result"
    }
   ],
   "source": [
    "passively_looking.loc[pl_mask, 'SalaryUSD'].var()"
   ]
  },
  {
   "cell_type": "code",
   "execution_count": 136,
   "metadata": {},
   "outputs": [
    {
     "data": {
      "text/plain": [
       "<matplotlib.axes._subplots.AxesSubplot at 0x1a1e65ec50>"
      ]
     },
     "execution_count": 136,
     "metadata": {},
     "output_type": "execute_result"
    },
    {
     "data": {
      "image/png": "[encoded data removed]",
      "text/plain": [
       "<Figure size 432x288 with 1 Axes>"
      ]
     },
     "metadata": {
      "needs_background": "light"
     },
     "output_type": "display_data"
    }
   ],
   "source": [
    "actively_looking.loc[al_mask, 'SalaryUSD'].hist(edgecolor='white')"
   ]
  },
  {
   "cell_type": "code",
   "execution_count": 137,
   "metadata": {},
   "outputs": [
    {
     "data": {
      "text/plain": [
       "1001119551.3440312"
      ]
     },
     "execution_count": 137,
     "metadata": {},
     "output_type": "execute_result"
    }
   ],
   "source": [
    "actively_looking.loc[al_mask, 'SalaryUSD'].var()"
   ]
  },
  {
   "cell_type": "markdown",
   "metadata": {},
   "source": [
    "### P-value of 0.05"
   ]
  },
  {
   "cell_type": "markdown",
   "metadata": {},
   "source": [
    "**Salary difference**"
   ]
  },
  {
   "cell_type": "code",
   "execution_count": 138,
   "metadata": {},
   "outputs": [],
   "source": [
    "nl_adj = not_looking.loc[nl_mask, 'SalaryUSD']\n",
    "pl_adj = passively_looking.loc[pl_mask, 'SalaryUSD']\n",
    "al_adj = actively_looking.loc[al_mask, 'SalaryUSD']"
   ]
  },
  {
   "cell_type": "code",
   "execution_count": 215,
   "metadata": {
    "scrolled": false
   },
   "outputs": [
    {
     "data": {
      "text/plain": [
       "Ttest_indResult(statistic=4.066666555799696, pvalue=4.859192220036068e-05)"
      ]
     },
     "execution_count": 215,
     "metadata": {},
     "output_type": "execute_result"
    }
   ],
   "source": [
    "stats.ttest_ind(nl_adj, pl_adj)\n",
    "\n"
   ]
  },
  {
   "cell_type": "code",
   "execution_count": 214,
   "metadata": {},
   "outputs": [
    {
     "data": {
      "text/plain": [
       "Ttest_indResult(statistic=3.065831165357773, pvalue=0.0023347436647396217)"
      ]
     },
     "execution_count": 214,
     "metadata": {},
     "output_type": "execute_result"
    }
   ],
   "source": [
    "stats.ttest_ind(nl_adj, al_adj, equal_var=False)\n",
    "\n"
   ]
  },
  {
   "cell_type": "code",
   "execution_count": 213,
   "metadata": {
    "scrolled": true
   },
   "outputs": [
    {
     "data": {
      "text/plain": [
       "Ttest_indResult(statistic=1.2467507211855793, pvalue=0.21326640505817215)"
      ]
     },
     "execution_count": 213,
     "metadata": {},
     "output_type": "execute_result"
    }
   ],
   "source": [
    "stats.ttest_ind(pl_adj, al_adj, equal_var=False)\n",
    "\n"
   ]
  },
  {
   "cell_type": "code",
   "execution_count": 148,
   "metadata": {},
   "outputs": [],
   "source": [
    "# Not usable due to unequal sample size of actively looking compared to not and passively looking\n",
    "# stats.f_oneway(nl_adj, pl_adj, al_adj)"
   ]
  },
  {
   "cell_type": "markdown",
   "metadata": {},
   "source": [
    "**Hours of Work Per Week difference**"
   ]
  },
  {
   "cell_type": "code",
   "execution_count": 157,
   "metadata": {},
   "outputs": [],
   "source": [
    "nl_hours = not_looking['HoursWorkedPerWeek']\n",
    "pl_hours = passively_looking['HoursWorkedPerWeek']\n",
    "al_hours = actively_looking['HoursWorkedPerWeek']"
   ]
  },
  {
   "cell_type": "code",
   "execution_count": 249,
   "metadata": {},
   "outputs": [],
   "source": [
    "nl_q1 = nl_hours.quantile(.25)\n",
    "nl_q3 = nl_hours.quantile(.75)\n",
    "nl_iqr = nl_q3 - nl_q1\n",
    "\n",
    "nl_mask = ((nl_hours <= nl_q3 + (1.5 * nl_iqr)) & (nl_hours >= nl_q1 - (1.5 * nl_iqr)))\n",
    "\n",
    "pl_q1 = pl_hours.quantile(.25)\n",
    "pl_q3 = pl_hours.quantile(.75)\n",
    "pl_iqr = pl_q3 - pl_q1\n",
    "\n",
    "pl_mask = ((pl_hours <= pl_q3 + (1.5 * pl_iqr)) & (pl_hours >= pl_q1 - (1.5 * pl_iqr)))\n",
    "\n",
    "al_q1 = al_hours.quantile(.25)\n",
    "al_q3 = al_hours.quantile(.75)\n",
    "al_iqr = al_q3 - al_q1\n",
    "\n",
    "al_mask = ((al_hours <= al_q3 + (1.5 * al_iqr)) & (al_hours >= al_q1 - (1.5 * al_iqr)))"
   ]
  },
  {
   "cell_type": "code",
   "execution_count": 251,
   "metadata": {},
   "outputs": [
    {
     "data": {
      "text/plain": [
       "Ttest_indResult(statistic=-8.879469669599349, pvalue=9.940722572963885e-19)"
      ]
     },
     "execution_count": 251,
     "metadata": {},
     "output_type": "execute_result"
    }
   ],
   "source": [
    "stats.ttest_ind(nl_hours[nl_mask], pl_hours[pl_mask])"
   ]
  },
  {
   "cell_type": "code",
   "execution_count": 252,
   "metadata": {},
   "outputs": [
    {
     "data": {
      "text/plain": [
       "Ttest_indResult(statistic=-0.044743107360455225, pvalue=0.9643339009413094)"
      ]
     },
     "execution_count": 252,
     "metadata": {},
     "output_type": "execute_result"
    }
   ],
   "source": [
    "stats.ttest_ind(pl_hours[pl_mask], al_hours[al_mask], equal_var=False)"
   ]
  },
  {
   "cell_type": "code",
   "execution_count": 253,
   "metadata": {},
   "outputs": [
    {
     "data": {
      "text/plain": [
       "Ttest_indResult(statistic=-4.048445961402833, pvalue=6.381045564993862e-05)"
      ]
     },
     "execution_count": 253,
     "metadata": {},
     "output_type": "execute_result"
    }
   ],
   "source": [
    "stats.ttest_ind(nl_hours[nl_mask], al_hours[al_mask], equal_var=False)"
   ]
  },
  {
   "cell_type": "markdown",
   "metadata": {},
   "source": [
    "**Education difference**"
   ]
  },
  {
   "cell_type": "code",
   "execution_count": 177,
   "metadata": {},
   "outputs": [],
   "source": [
    "nl_edu = not_looking['Education'].value_counts().sort_index()\n",
    "pl_edu = passively_looking['Education'].value_counts().sort_index()\n",
    "al_edu = actively_looking['Education'].value_counts().sort_index()"
   ]
  },
  {
   "cell_type": "code",
   "execution_count": 201,
   "metadata": {},
   "outputs": [],
   "source": [
    "cont_table = np.array([nl_edu.values, pl_edu.values, al_edu.values])"
   ]
  },
  {
   "cell_type": "code",
   "execution_count": 203,
   "metadata": {},
   "outputs": [],
   "source": [
    "chi, p, dof, expected = stats.chi2_contingency(cont_table)"
   ]
  },
  {
   "cell_type": "code",
   "execution_count": 219,
   "metadata": {
    "scrolled": true
   },
   "outputs": [
    {
     "name": "stdout",
     "output_type": "stream",
     "text": [
      "Fail to reject null\n"
     ]
    }
   ],
   "source": [
    "if 0.05 > p:\n",
    "    print('Reject null')\n",
    "else:\n",
    "    print('Fail to reject null')"
   ]
  },
  {
   "cell_type": "markdown",
   "metadata": {},
   "source": [
    "**Other People On Your Team difference**"
   ]
  },
  {
   "cell_type": "code",
   "execution_count": 227,
   "metadata": {},
   "outputs": [],
   "source": [
    "nl_people = not_looking['OtherPeopleOnYourTeam'].value_counts().sort_index()\n",
    "pl_people = passively_looking['OtherPeopleOnYourTeam'].value_counts().sort_index()\n",
    "al_people = actively_looking['OtherPeopleOnYourTeam'].value_counts().sort_index()"
   ]
  },
  {
   "cell_type": "code",
   "execution_count": 229,
   "metadata": {},
   "outputs": [],
   "source": [
    "cont_table = np.array([nl_people.values, pl_people.values, al_people.values])"
   ]
  },
  {
   "cell_type": "code",
   "execution_count": 230,
   "metadata": {},
   "outputs": [],
   "source": [
    "chi, p, dof, expected = stats.chi2_contingency(cont_table)"
   ]
  },
  {
   "cell_type": "code",
   "execution_count": 231,
   "metadata": {
    "scrolled": false
   },
   "outputs": [
    {
     "name": "stdout",
     "output_type": "stream",
     "text": [
      "Fail to reject null\n"
     ]
    }
   ],
   "source": [
    "if 0.05 > p:\n",
    "    print('Reject null')\n",
    "else:\n",
    "    print('Fail to reject null')"
   ]
  },
  {
   "cell_type": "markdown",
   "metadata": {},
   "source": [
    "**TelecommuteDaysPerWeek**"
   ]
  },
  {
   "cell_type": "code",
   "execution_count": 244,
   "metadata": {},
   "outputs": [],
   "source": [
    "nl_tele = not_looking['TelecommuteDaysPerWeek'].value_counts().sort_index()\n",
    "pl_tele = passively_looking['TelecommuteDaysPerWeek'].value_counts().sort_index()\n",
    "al_tele = actively_looking['TelecommuteDaysPerWeek'].value_counts().sort_index()"
   ]
  },
  {
   "cell_type": "code",
   "execution_count": 245,
   "metadata": {},
   "outputs": [],
   "source": [
    "cont_table = np.array([nl_tele.values, pl_tele.values, al_tele.values])"
   ]
  },
  {
   "cell_type": "code",
   "execution_count": 246,
   "metadata": {},
   "outputs": [],
   "source": [
    "chi, p, dof, expected = stats.chi2_contingency(cont_table)"
   ]
  },
  {
   "cell_type": "code",
   "execution_count": 247,
   "metadata": {
    "scrolled": false
   },
   "outputs": [
    {
     "name": "stdout",
     "output_type": "stream",
     "text": [
      "Fail to reject null\n"
     ]
    }
   ],
   "source": [
    "if 0.05 > p:\n",
    "    print('Reject null')\n",
    "else:\n",
    "    print('Fail to reject null')"
   ]
  },
  {
   "cell_type": "markdown",
   "metadata": {},
   "source": [
    "### Future plans"
   ]
  },
  {
   "cell_type": "code",
   "execution_count": null,
   "metadata": {},
   "outputs": [],
   "source": [
    "# countries_more_than_ten = countries.index[countries > 10]\n",
    "# df = df[df['Country'].isin(countries_more_than_ten)]\n",
    "# df.head()"
   ]
  },
  {
   "cell_type": "code",
   "execution_count": null,
   "metadata": {},
   "outputs": [],
   "source": []
  },
  {
   "cell_type": "code",
   "execution_count": null,
   "metadata": {},
   "outputs": [],
   "source": []
  },
  {
   "cell_type": "markdown",
   "metadata": {},
   "source": [
    "### Predictive pipelines"
   ]
  },
  {
   "cell_type": "code",
   "execution_count": null,
   "metadata": {},
   "outputs": [],
   "source": []
  },
  {
   "cell_type": "code",
   "execution_count": null,
   "metadata": {},
   "outputs": [],
   "source": []
  }
 ],
 "metadata": {
  "kernelspec": {
   "display_name": "Python 3",
   "language": "python",
   "name": "python3"
  },
  "language_info": {
   "codemirror_mode": {
    "name": "ipython",
    "version": 3
   },
   "file_extension": ".py",
   "mimetype": "text/x-python",
   "name": "python",
   "nbconvert_exporter": "python",
   "pygments_lexer": "ipython3",
   "version": "3.7.4"
  }
 },
 "nbformat": 4,
 "nbformat_minor": 2
}
