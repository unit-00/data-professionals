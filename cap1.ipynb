{
 "cells": [
  {
   "cell_type": "code",
   "execution_count": 116,
   "metadata": {},
   "outputs": [],
   "source": [
    "import pandas as pd\n",
    "import numpy as np\n",
    "import json\n",
    "# import psycopg2\n",
    "# from sqlalchemy import create_engine\n",
    "# import os\n",
    "# from dotenv import load_dotenv\n",
    "# load_dotenv()\n",
    "\n",
    "# from script.database_pipeline import Pipeline\n",
    "from script.helper import *\n",
    "\n",
    "import seaborn as sns\n",
    "import matplotlib.pyplot as plt\n",
    "\n",
    "sns.set_style('darkgrid')"
   ]
  },
  {
   "cell_type": "code",
   "execution_count": 117,
   "metadata": {},
   "outputs": [
    {
     "name": "stdout",
     "output_type": "stream",
     "text": [
      "The autoreload extension is already loaded. To reload it, use:\n",
      "  %reload_ext autoreload\n"
     ]
    }
   ],
   "source": [
    "%load_ext autoreload\n",
    "%autoreload 2\n",
    "%matplotlib inline"
   ]
  },
  {
   "cell_type": "markdown",
   "metadata": {},
   "source": [
    "### Setting up DB"
   ]
  },
  {
   "cell_type": "markdown",
   "metadata": {},
   "source": [
    "**Decided to put database on hold**"
   ]
  },
  {
   "cell_type": "code",
   "execution_count": 118,
   "metadata": {
    "scrolled": true
   },
   "outputs": [],
   "source": [
    "# username = os.getenv('PSQL_USER')\n",
    "# password = os.getenv('PASS')\n",
    "# host = os.getenv('HOST')\n",
    "# port = os.getenv('PORT')\n",
    "\n",
    "# db_url = (f\"postgresql+psycopg2://{username}:{password}@{host}:{port}/data_prof\")"
   ]
  },
  {
   "cell_type": "code",
   "execution_count": 119,
   "metadata": {},
   "outputs": [],
   "source": [
    "# engine = create_engine(db_url)"
   ]
  },
  {
   "cell_type": "code",
   "execution_count": 120,
   "metadata": {},
   "outputs": [],
   "source": [
    "# Converted into a csv\n",
    "df = pd.read_csv('ds_2019.csv')"
   ]
  },
  {
   "cell_type": "code",
   "execution_count": 121,
   "metadata": {},
   "outputs": [],
   "source": [
    "# pipe = Pipeline(engine)\n",
    "# pipe.add_table(df, 'og')"
   ]
  },
  {
   "cell_type": "markdown",
   "metadata": {},
   "source": [
    "### EDA\n",
    "\n",
    "Exploring and cleaning"
   ]
  },
  {
   "cell_type": "code",
   "execution_count": 122,
   "metadata": {},
   "outputs": [
    {
     "data": {
      "text/html": [
       "<div>\n",
       "<style scoped>\n",
       "    .dataframe tbody tr th:only-of-type {\n",
       "        vertical-align: middle;\n",
       "    }\n",
       "\n",
       "    .dataframe tbody tr th {\n",
       "        vertical-align: top;\n",
       "    }\n",
       "\n",
       "    .dataframe thead th {\n",
       "        text-align: right;\n",
       "    }\n",
       "</style>\n",
       "<table border=\"1\" class=\"dataframe\">\n",
       "  <thead>\n",
       "    <tr style=\"text-align: right;\">\n",
       "      <th></th>\n",
       "      <th>Survey Year</th>\n",
       "      <th>Timestamp</th>\n",
       "      <th>SalaryUSD</th>\n",
       "      <th>Country</th>\n",
       "      <th>PostalCode</th>\n",
       "      <th>PrimaryDatabase</th>\n",
       "      <th>YearsWithThisDatabase</th>\n",
       "      <th>OtherDatabases</th>\n",
       "      <th>EmploymentStatus</th>\n",
       "      <th>JobTitle</th>\n",
       "      <th>...</th>\n",
       "      <th>HoursWorkedPerWeek</th>\n",
       "      <th>TelecommuteDaysPerWeek</th>\n",
       "      <th>PopulationOfLargestCityWithin20Miles</th>\n",
       "      <th>EmploymentSector</th>\n",
       "      <th>LookingForAnotherJob</th>\n",
       "      <th>CareerPlansThisYear</th>\n",
       "      <th>Gender</th>\n",
       "      <th>OtherJobDuties</th>\n",
       "      <th>KindsOfTasksPerformed</th>\n",
       "      <th>Counter</th>\n",
       "    </tr>\n",
       "  </thead>\n",
       "  <tbody>\n",
       "    <tr>\n",
       "      <th>0</th>\n",
       "      <td>2017</td>\n",
       "      <td>2017-01-05 05:10:20.451</td>\n",
       "      <td>200000</td>\n",
       "      <td>United States</td>\n",
       "      <td>Not Asked</td>\n",
       "      <td>Microsoft SQL Server</td>\n",
       "      <td>10</td>\n",
       "      <td>MySQL/MariaDB</td>\n",
       "      <td>Full time employee</td>\n",
       "      <td>DBA</td>\n",
       "      <td>...</td>\n",
       "      <td>45</td>\n",
       "      <td>1</td>\n",
       "      <td>Not Asked</td>\n",
       "      <td>Private business</td>\n",
       "      <td>Yes, but only passively (just curious)</td>\n",
       "      <td>Not Asked</td>\n",
       "      <td>Not Asked</td>\n",
       "      <td>Not Asked</td>\n",
       "      <td>Not Asked</td>\n",
       "      <td>1</td>\n",
       "    </tr>\n",
       "    <tr>\n",
       "      <th>1</th>\n",
       "      <td>2017</td>\n",
       "      <td>2017-01-05 05:26:23.388</td>\n",
       "      <td>61515</td>\n",
       "      <td>United Kingdom</td>\n",
       "      <td>Not Asked</td>\n",
       "      <td>Microsoft SQL Server</td>\n",
       "      <td>15</td>\n",
       "      <td>Oracle, PostgreSQL</td>\n",
       "      <td>Full time employee</td>\n",
       "      <td>DBA</td>\n",
       "      <td>...</td>\n",
       "      <td>35</td>\n",
       "      <td>2</td>\n",
       "      <td>Not Asked</td>\n",
       "      <td>Private business</td>\n",
       "      <td>No</td>\n",
       "      <td>Not Asked</td>\n",
       "      <td>Not Asked</td>\n",
       "      <td>Not Asked</td>\n",
       "      <td>Not Asked</td>\n",
       "      <td>1</td>\n",
       "    </tr>\n",
       "    <tr>\n",
       "      <th>2</th>\n",
       "      <td>2017</td>\n",
       "      <td>2017-01-05 05:32:57.367</td>\n",
       "      <td>95000</td>\n",
       "      <td>Germany</td>\n",
       "      <td>Not Asked</td>\n",
       "      <td>Microsoft SQL Server</td>\n",
       "      <td>5</td>\n",
       "      <td>Oracle, MySQL/MariaDB, Informix</td>\n",
       "      <td>Full time employee</td>\n",
       "      <td>Other</td>\n",
       "      <td>...</td>\n",
       "      <td>45</td>\n",
       "      <td>None, or less than 1 day per week</td>\n",
       "      <td>Not Asked</td>\n",
       "      <td>Private business</td>\n",
       "      <td>Yes, but only passively (just curious)</td>\n",
       "      <td>Not Asked</td>\n",
       "      <td>Not Asked</td>\n",
       "      <td>Not Asked</td>\n",
       "      <td>Not Asked</td>\n",
       "      <td>1</td>\n",
       "    </tr>\n",
       "    <tr>\n",
       "      <th>3</th>\n",
       "      <td>2017</td>\n",
       "      <td>2017-01-05 05:33:03.316</td>\n",
       "      <td>56000</td>\n",
       "      <td>United Kingdom</td>\n",
       "      <td>Not Asked</td>\n",
       "      <td>Microsoft SQL Server</td>\n",
       "      <td>6</td>\n",
       "      <td>NaN</td>\n",
       "      <td>Full time employee</td>\n",
       "      <td>DBA</td>\n",
       "      <td>...</td>\n",
       "      <td>40</td>\n",
       "      <td>1</td>\n",
       "      <td>Not Asked</td>\n",
       "      <td>Private business</td>\n",
       "      <td>Yes, but only passively (just curious)</td>\n",
       "      <td>Not Asked</td>\n",
       "      <td>Not Asked</td>\n",
       "      <td>Not Asked</td>\n",
       "      <td>Not Asked</td>\n",
       "      <td>1</td>\n",
       "    </tr>\n",
       "    <tr>\n",
       "      <th>4</th>\n",
       "      <td>2017</td>\n",
       "      <td>2017-01-05 05:34:33.866</td>\n",
       "      <td>35000</td>\n",
       "      <td>France</td>\n",
       "      <td>Not Asked</td>\n",
       "      <td>Microsoft SQL Server</td>\n",
       "      <td>10</td>\n",
       "      <td>Oracle</td>\n",
       "      <td>Full time employee of a consulting/contracting...</td>\n",
       "      <td>DBA</td>\n",
       "      <td>...</td>\n",
       "      <td>40</td>\n",
       "      <td>None, or less than 1 day per week</td>\n",
       "      <td>Not Asked</td>\n",
       "      <td>Private business</td>\n",
       "      <td>Yes, but only passively (just curious)</td>\n",
       "      <td>Not Asked</td>\n",
       "      <td>Not Asked</td>\n",
       "      <td>Not Asked</td>\n",
       "      <td>Not Asked</td>\n",
       "      <td>1</td>\n",
       "    </tr>\n",
       "  </tbody>\n",
       "</table>\n",
       "<p>5 rows × 29 columns</p>\n",
       "</div>"
      ],
      "text/plain": [
       "   Survey Year                Timestamp SalaryUSD         Country PostalCode  \\\n",
       "0         2017  2017-01-05 05:10:20.451    200000   United States  Not Asked   \n",
       "1         2017  2017-01-05 05:26:23.388     61515  United Kingdom  Not Asked   \n",
       "2         2017  2017-01-05 05:32:57.367     95000         Germany  Not Asked   \n",
       "3         2017  2017-01-05 05:33:03.316     56000  United Kingdom  Not Asked   \n",
       "4         2017  2017-01-05 05:34:33.866     35000          France  Not Asked   \n",
       "\n",
       "        PrimaryDatabase  YearsWithThisDatabase  \\\n",
       "0  Microsoft SQL Server                     10   \n",
       "1  Microsoft SQL Server                     15   \n",
       "2  Microsoft SQL Server                      5   \n",
       "3  Microsoft SQL Server                      6   \n",
       "4  Microsoft SQL Server                     10   \n",
       "\n",
       "                    OtherDatabases  \\\n",
       "0                    MySQL/MariaDB   \n",
       "1               Oracle, PostgreSQL   \n",
       "2  Oracle, MySQL/MariaDB, Informix   \n",
       "3                              NaN   \n",
       "4                           Oracle   \n",
       "\n",
       "                                    EmploymentStatus JobTitle  ...  \\\n",
       "0                                 Full time employee      DBA  ...   \n",
       "1                                 Full time employee      DBA  ...   \n",
       "2                                 Full time employee    Other  ...   \n",
       "3                                 Full time employee      DBA  ...   \n",
       "4  Full time employee of a consulting/contracting...      DBA  ...   \n",
       "\n",
       "  HoursWorkedPerWeek             TelecommuteDaysPerWeek  \\\n",
       "0                 45                                  1   \n",
       "1                 35                                  2   \n",
       "2                 45  None, or less than 1 day per week   \n",
       "3                 40                                  1   \n",
       "4                 40  None, or less than 1 day per week   \n",
       "\n",
       "  PopulationOfLargestCityWithin20Miles  EmploymentSector  \\\n",
       "0                            Not Asked  Private business   \n",
       "1                            Not Asked  Private business   \n",
       "2                            Not Asked  Private business   \n",
       "3                            Not Asked  Private business   \n",
       "4                            Not Asked  Private business   \n",
       "\n",
       "                     LookingForAnotherJob  CareerPlansThisYear     Gender  \\\n",
       "0  Yes, but only passively (just curious)            Not Asked  Not Asked   \n",
       "1                                      No            Not Asked  Not Asked   \n",
       "2  Yes, but only passively (just curious)            Not Asked  Not Asked   \n",
       "3  Yes, but only passively (just curious)            Not Asked  Not Asked   \n",
       "4  Yes, but only passively (just curious)            Not Asked  Not Asked   \n",
       "\n",
       "  OtherJobDuties KindsOfTasksPerformed  Counter  \n",
       "0      Not Asked             Not Asked        1  \n",
       "1      Not Asked             Not Asked        1  \n",
       "2      Not Asked             Not Asked        1  \n",
       "3      Not Asked             Not Asked        1  \n",
       "4      Not Asked             Not Asked        1  \n",
       "\n",
       "[5 rows x 29 columns]"
      ]
     },
     "execution_count": 122,
     "metadata": {},
     "output_type": "execute_result"
    }
   ],
   "source": [
    "df.head()"
   ]
  },
  {
   "cell_type": "code",
   "execution_count": 123,
   "metadata": {
    "scrolled": false
   },
   "outputs": [
    {
     "name": "stdout",
     "output_type": "stream",
     "text": [
      "<class 'pandas.core.frame.DataFrame'>\n",
      "RangeIndex: 6893 entries, 0 to 6892\n",
      "Data columns (total 29 columns):\n",
      " #   Column                                Non-Null Count  Dtype \n",
      "---  ------                                --------------  ----- \n",
      " 0   Survey Year                           6893 non-null   int64 \n",
      " 1   Timestamp                             6893 non-null   object\n",
      " 2   SalaryUSD                             6893 non-null   object\n",
      " 3   Country                               6893 non-null   object\n",
      " 4   PostalCode                            5934 non-null   object\n",
      " 5   PrimaryDatabase                       6893 non-null   object\n",
      " 6   YearsWithThisDatabase                 6893 non-null   int64 \n",
      " 7   OtherDatabases                        5520 non-null   object\n",
      " 8   EmploymentStatus                      6893 non-null   object\n",
      " 9   JobTitle                              6893 non-null   object\n",
      " 10  ManageStaff                           6893 non-null   object\n",
      " 11  YearsWithThisTypeOfJob                6893 non-null   int64 \n",
      " 12  HowManyCompanies                      6893 non-null   object\n",
      " 13  OtherPeopleOnYourTeam                 6893 non-null   object\n",
      " 14  CompanyEmployeesOverall               6893 non-null   object\n",
      " 15  DatabaseServers                       6893 non-null   int64 \n",
      " 16  Education                             6893 non-null   object\n",
      " 17  EducationIsComputerRelated            5677 non-null   object\n",
      " 18  Certifications                        6893 non-null   object\n",
      " 19  HoursWorkedPerWeek                    6893 non-null   int64 \n",
      " 20  TelecommuteDaysPerWeek                6893 non-null   object\n",
      " 21  PopulationOfLargestCityWithin20Miles  6893 non-null   object\n",
      " 22  EmploymentSector                      6893 non-null   object\n",
      " 23  LookingForAnotherJob                  6893 non-null   object\n",
      " 24  CareerPlansThisYear                   6893 non-null   object\n",
      " 25  Gender                                6893 non-null   object\n",
      " 26  OtherJobDuties                        6273 non-null   object\n",
      " 27  KindsOfTasksPerformed                 6686 non-null   object\n",
      " 28  Counter                               6893 non-null   int64 \n",
      "dtypes: int64(6), object(23)\n",
      "memory usage: 1.5+ MB\n"
     ]
    }
   ],
   "source": [
    "df.info()"
   ]
  },
  {
   "cell_type": "code",
   "execution_count": 124,
   "metadata": {},
   "outputs": [
    {
     "data": {
      "text/plain": [
       "Survey Year                             0.000000\n",
       "Timestamp                               0.000000\n",
       "SalaryUSD                               0.000000\n",
       "Country                                 0.000000\n",
       "PostalCode                              0.139127\n",
       "PrimaryDatabase                         0.000000\n",
       "YearsWithThisDatabase                   0.000000\n",
       "OtherDatabases                          0.199188\n",
       "EmploymentStatus                        0.000000\n",
       "JobTitle                                0.000000\n",
       "ManageStaff                             0.000000\n",
       "YearsWithThisTypeOfJob                  0.000000\n",
       "HowManyCompanies                        0.000000\n",
       "OtherPeopleOnYourTeam                   0.000000\n",
       "CompanyEmployeesOverall                 0.000000\n",
       "DatabaseServers                         0.000000\n",
       "Education                               0.000000\n",
       "EducationIsComputerRelated              0.176411\n",
       "Certifications                          0.000000\n",
       "HoursWorkedPerWeek                      0.000000\n",
       "TelecommuteDaysPerWeek                  0.000000\n",
       "PopulationOfLargestCityWithin20Miles    0.000000\n",
       "EmploymentSector                        0.000000\n",
       "LookingForAnotherJob                    0.000000\n",
       "CareerPlansThisYear                     0.000000\n",
       "Gender                                  0.000000\n",
       "OtherJobDuties                          0.089946\n",
       "KindsOfTasksPerformed                   0.030030\n",
       "Counter                                 0.000000\n",
       "dtype: float64"
      ]
     },
     "execution_count": 124,
     "metadata": {},
     "output_type": "execute_result"
    }
   ],
   "source": [
    "df.isna().mean()"
   ]
  },
  {
   "cell_type": "code",
   "execution_count": 125,
   "metadata": {},
   "outputs": [
    {
     "data": {
      "text/plain": [
       "United States     4509\n",
       "United Kingdom     667\n",
       "Canada             244\n",
       "Australia          185\n",
       "India              112\n",
       "Name: Country, dtype: int64"
      ]
     },
     "execution_count": 125,
     "metadata": {},
     "output_type": "execute_result"
    }
   ],
   "source": [
    "countries = df['Country'].value_counts()\n",
    "countries.head()"
   ]
  },
  {
   "cell_type": "markdown",
   "metadata": {},
   "source": [
    "### Looking at US to start with\n",
    "\n",
    "since majority of the data is in US"
   ]
  },
  {
   "cell_type": "code",
   "execution_count": 126,
   "metadata": {},
   "outputs": [],
   "source": [
    "us = df[df['Country'] == 'United States'].copy()"
   ]
  },
  {
   "cell_type": "code",
   "execution_count": 127,
   "metadata": {},
   "outputs": [],
   "source": [
    "# Separate into three groups later, 2017, 2018, 2019\n",
    "# us2017 = us[us['Survey Year'] == 2017]\n",
    "# us2018 = us[us['Survey Year'] == 2018]\n",
    "# us2019 = us[us['Survey Year'] == 2019]"
   ]
  },
  {
   "cell_type": "code",
   "execution_count": 128,
   "metadata": {},
   "outputs": [
    {
     "data": {
      "text/plain": [
       "Survey Year                             0.000000\n",
       "Timestamp                               0.000000\n",
       "SalaryUSD                               0.000000\n",
       "Country                                 0.000000\n",
       "PostalCode                              0.066977\n",
       "PrimaryDatabase                         0.000000\n",
       "YearsWithThisDatabase                   0.000000\n",
       "OtherDatabases                          0.193613\n",
       "EmploymentStatus                        0.000000\n",
       "JobTitle                                0.000000\n",
       "ManageStaff                             0.000000\n",
       "YearsWithThisTypeOfJob                  0.000000\n",
       "HowManyCompanies                        0.000000\n",
       "OtherPeopleOnYourTeam                   0.000000\n",
       "CompanyEmployeesOverall                 0.000000\n",
       "DatabaseServers                         0.000000\n",
       "Education                               0.000000\n",
       "EducationIsComputerRelated              0.157241\n",
       "Certifications                          0.000000\n",
       "HoursWorkedPerWeek                      0.000000\n",
       "TelecommuteDaysPerWeek                  0.000000\n",
       "PopulationOfLargestCityWithin20Miles    0.000000\n",
       "EmploymentSector                        0.000000\n",
       "LookingForAnotherJob                    0.000000\n",
       "CareerPlansThisYear                     0.000000\n",
       "Gender                                  0.000000\n",
       "OtherJobDuties                          0.085385\n",
       "KindsOfTasksPerformed                   0.027944\n",
       "Counter                                 0.000000\n",
       "dtype: float64"
      ]
     },
     "execution_count": 128,
     "metadata": {},
     "output_type": "execute_result"
    }
   ],
   "source": [
    "us.isna().mean()"
   ]
  },
  {
   "cell_type": "code",
   "execution_count": 129,
   "metadata": {},
   "outputs": [
    {
     "name": "stderr",
     "output_type": "stream",
     "text": [
      "/usr/local/anaconda3/envs/cap1/lib/python3.7/site-packages/pandas/core/ops/array_ops.py:253: FutureWarning: elementwise comparison failed; returning scalar instead, but in the future will perform elementwise comparison\n",
      "  res_values = method(rvalues)\n"
     ]
    },
    {
     "data": {
      "text/plain": [
       "Survey Year                             0.000000\n",
       "Timestamp                               0.000000\n",
       "SalaryUSD                               0.000000\n",
       "Country                                 0.000000\n",
       "PostalCode                              0.416722\n",
       "PrimaryDatabase                         0.000000\n",
       "YearsWithThisDatabase                   0.000000\n",
       "OtherDatabases                          0.000000\n",
       "EmploymentStatus                        0.000000\n",
       "JobTitle                                0.000000\n",
       "ManageStaff                             0.000000\n",
       "YearsWithThisTypeOfJob                  0.000000\n",
       "HowManyCompanies                        0.866489\n",
       "OtherPeopleOnYourTeam                   0.000000\n",
       "CompanyEmployeesOverall                 0.866489\n",
       "DatabaseServers                         0.000000\n",
       "Education                               0.000000\n",
       "EducationIsComputerRelated              0.000000\n",
       "Certifications                          0.000000\n",
       "HoursWorkedPerWeek                      0.000000\n",
       "TelecommuteDaysPerWeek                  0.000000\n",
       "PopulationOfLargestCityWithin20Miles    0.866489\n",
       "EmploymentSector                        0.000000\n",
       "LookingForAnotherJob                    0.000000\n",
       "CareerPlansThisYear                     0.416722\n",
       "Gender                                  0.416722\n",
       "OtherJobDuties                          0.416722\n",
       "KindsOfTasksPerformed                   0.416722\n",
       "Counter                                 0.000000\n",
       "dtype: float64"
      ]
     },
     "execution_count": 129,
     "metadata": {},
     "output_type": "execute_result"
    }
   ],
   "source": [
    "(us == 'Not Asked').mean(axis=0)"
   ]
  },
  {
   "cell_type": "code",
   "execution_count": 130,
   "metadata": {},
   "outputs": [
    {
     "data": {
      "text/plain": [
       "2017    1879\n",
       "Name: Survey Year, dtype: int64"
      ]
     },
     "execution_count": 130,
     "metadata": {},
     "output_type": "execute_result"
    }
   ],
   "source": [
    "us[us['CareerPlansThisYear'] == 'Not Asked']['Survey Year'].value_counts()"
   ]
  },
  {
   "cell_type": "code",
   "execution_count": 131,
   "metadata": {},
   "outputs": [],
   "source": [
    "features = ['SalaryUSD', 'YearsWithThisDatabase', 'ManageStaff', 'YearsWithThisTypeOfJob', 'OtherPeopleOnYourTeam', \\\n",
    "            'DatabaseServers', 'Education', 'HoursWorkedPerWeek', 'TelecommuteDaysPerWeek', 'EmploymentSector', \\\n",
    "            'Gender', 'OtherJobDuties']\n",
    "target = ['LookingForAnotherJob']"
   ]
  },
  {
   "cell_type": "markdown",
   "metadata": {},
   "source": [
    "### Salary"
   ]
  },
  {
   "cell_type": "code",
   "execution_count": 132,
   "metadata": {},
   "outputs": [],
   "source": [
    "us_cleaned = us.copy()"
   ]
  },
  {
   "cell_type": "code",
   "execution_count": 133,
   "metadata": {
    "scrolled": true
   },
   "outputs": [],
   "source": [
    "us_cleaned.loc[:, 'SalaryUSD'] = us['SalaryUSD'].apply(str).replace(',|\\s+', '', regex=True).astype(float)"
   ]
  },
  {
   "cell_type": "code",
   "execution_count": 134,
   "metadata": {},
   "outputs": [
    {
     "data": {
      "text/plain": [
       "count    4.509000e+03\n",
       "mean     1.075171e+05\n",
       "std      5.717729e+04\n",
       "min      9.227000e+01\n",
       "25%      8.500000e+04\n",
       "50%      1.020000e+05\n",
       "75%      1.220000e+05\n",
       "max      1.450000e+06\n",
       "Name: SalaryUSD, dtype: float64"
      ]
     },
     "execution_count": 134,
     "metadata": {},
     "output_type": "execute_result"
    }
   ],
   "source": [
    "us_cleaned['SalaryUSD'].describe()"
   ]
  },
  {
   "cell_type": "code",
   "execution_count": 135,
   "metadata": {},
   "outputs": [
    {
     "data": {
      "image/png": "[encoded data removed]",
      "text/plain": [
       "<Figure size 864x432 with 1 Axes>"
      ]
     },
     "metadata": {
      "needs_background": "light"
     },
     "output_type": "display_data"
    }
   ],
   "source": [
    "fig, ax = plt.subplots(figsize=(12, 6))\n",
    "(plot_quant(ax, us_cleaned['SalaryUSD'], xlabel='Salary not adj.', ylabel='Frequency',\n",
    "                 title='Frequency of Salary, not adj.', shade=True))"
   ]
  },
  {
   "cell_type": "markdown",
   "metadata": {},
   "source": [
    "### Remove salary outliers"
   ]
  },
  {
   "cell_type": "code",
   "execution_count": 136,
   "metadata": {},
   "outputs": [],
   "source": [
    "salary = us_cleaned['SalaryUSD']"
   ]
  },
  {
   "cell_type": "code",
   "execution_count": 137,
   "metadata": {},
   "outputs": [
    {
     "data": {
      "text/plain": [
       "count    4.509000e+03\n",
       "mean     1.075171e+05\n",
       "std      5.717729e+04\n",
       "min      9.227000e+01\n",
       "25%      8.500000e+04\n",
       "50%      1.020000e+05\n",
       "75%      1.220000e+05\n",
       "max      1.450000e+06\n",
       "Name: SalaryUSD, dtype: float64"
      ]
     },
     "execution_count": 137,
     "metadata": {},
     "output_type": "execute_result"
    }
   ],
   "source": [
    "salary.describe()"
   ]
  },
  {
   "cell_type": "code",
   "execution_count": 138,
   "metadata": {},
   "outputs": [],
   "source": [
    "salary_q3 = salary.quantile(.75)\n",
    "salary_q1 = salary.quantile(.25)\n",
    "\n",
    "salary_iqr = salary_q3 - salary_q1\n",
    "salary_adj = salary[(salary < (salary_q3 + 1.5 * salary_iqr)) & (salary > (salary_q1 - 1.5 * salary_iqr))]"
   ]
  },
  {
   "cell_type": "code",
   "execution_count": 139,
   "metadata": {
    "scrolled": false
   },
   "outputs": [
    {
     "data": {
      "image/png": "[encoded data removed]",
      "text/plain": [
       "<Figure size 864x432 with 1 Axes>"
      ]
     },
     "metadata": {
      "needs_background": "light"
     },
     "output_type": "display_data"
    }
   ],
   "source": [
    "fig, ax = plt.subplots(figsize=(12, 6))\n",
    "(plot_quant(ax, salary_adj, xlabel='Salary adj.', ylabel='Frequency',\n",
    "                 title='Distribution of Salary adj.', shade=True))"
   ]
  },
  {
   "cell_type": "markdown",
   "metadata": {},
   "source": [
    "### Postal Code"
   ]
  },
  {
   "cell_type": "code",
   "execution_count": 140,
   "metadata": {
    "scrolled": true
   },
   "outputs": [
    {
     "data": {
      "text/plain": [
       "0       Not Asked\n",
       "12      Not Asked\n",
       "14      Not Asked\n",
       "15      Not Asked\n",
       "17      Not Asked\n",
       "          ...    \n",
       "6883        44122\n",
       "6884        29201\n",
       "6886        03873\n",
       "6887        50266\n",
       "6891        49506\n",
       "Name: PostalCode, Length: 4509, dtype: object"
      ]
     },
     "execution_count": 140,
     "metadata": {},
     "output_type": "execute_result"
    }
   ],
   "source": [
    "us_cleaned['PostalCode']"
   ]
  },
  {
   "cell_type": "code",
   "execution_count": 141,
   "metadata": {},
   "outputs": [
    {
     "data": {
      "text/plain": [
       "302"
      ]
     },
     "execution_count": 141,
     "metadata": {},
     "output_type": "execute_result"
    }
   ],
   "source": [
    "us_cleaned['PostalCode'].isna().sum()"
   ]
  },
  {
   "cell_type": "code",
   "execution_count": 142,
   "metadata": {
    "scrolled": false
   },
   "outputs": [
    {
     "data": {
      "text/plain": [
       "2630"
      ]
     },
     "execution_count": 142,
     "metadata": {},
     "output_type": "execute_result"
    }
   ],
   "source": [
    "(us_cleaned['PostalCode'] != 'Not Asked').sum()"
   ]
  },
  {
   "cell_type": "markdown",
   "metadata": {},
   "source": [
    "### Years with this database"
   ]
  },
  {
   "cell_type": "code",
   "execution_count": 143,
   "metadata": {
    "scrolled": true
   },
   "outputs": [
    {
     "data": {
      "text/plain": [
       "0          6\n",
       "1        109\n",
       "2        163\n",
       "3        231\n",
       "4        241\n",
       "5        304\n",
       "6        216\n",
       "7        222\n",
       "8        226\n",
       "9         99\n",
       "10       486\n",
       "11       100\n",
       "12       219\n",
       "13       111\n",
       "14        88\n",
       "15       432\n",
       "16       155\n",
       "17       232\n",
       "18       221\n",
       "19        58\n",
       "20       369\n",
       "21        43\n",
       "22        42\n",
       "23        29\n",
       "24        13\n",
       "25        61\n",
       "26         5\n",
       "27         4\n",
       "28         6\n",
       "29         1\n",
       "30         9\n",
       "32         2\n",
       "38         1\n",
       "2000       1\n",
       "2004       1\n",
       "2011       1\n",
       "30331      1\n",
       "53716      1\n",
       "Name: YearsWithThisDatabase, dtype: int64"
      ]
     },
     "execution_count": 143,
     "metadata": {},
     "output_type": "execute_result"
    }
   ],
   "source": [
    "us['YearsWithThisDatabase'].value_counts().sort_index()"
   ]
  },
  {
   "cell_type": "code",
   "execution_count": 144,
   "metadata": {},
   "outputs": [],
   "source": [
    "us_cleaned.loc[:, 'YearsWithThisDatabase'] = us.loc[us['YearsWithThisDatabase'] < 100, 'YearsWithThisDatabase']"
   ]
  },
  {
   "cell_type": "code",
   "execution_count": 145,
   "metadata": {},
   "outputs": [],
   "source": [
    "year_db = us_cleaned['YearsWithThisDatabase']"
   ]
  },
  {
   "cell_type": "code",
   "execution_count": 146,
   "metadata": {},
   "outputs": [],
   "source": [
    "yeardb_q3 = year_db.describe()['75%']\n",
    "yeardb_q1 = year_db.describe()['25%']\n",
    "\n",
    "yeardb_iqr = yeardb_q3 - yeardb_q1\n",
    "yeardb_adj = year_db[(year_db < (yeardb_q3 + 1.5 * yeardb_iqr)) & (year_db > (yeardb_q1 - 1.5 * yeardb_iqr))]"
   ]
  },
  {
   "cell_type": "code",
   "execution_count": 147,
   "metadata": {},
   "outputs": [
    {
     "data": {
      "image/png": "[encoded data removed]",
      "text/plain": [
       "<Figure size 864x432 with 1 Axes>"
      ]
     },
     "metadata": {
      "needs_background": "light"
     },
     "output_type": "display_data"
    }
   ],
   "source": [
    "fig, ax = plt.subplots(figsize=(12, 6))\n",
    "(plot_quant(ax, yeardb_adj, xlabel='Years with Database', ylabel='Frequency',\n",
    "                 title='Distribution of Years with Database', shade=True))"
   ]
  },
  {
   "cell_type": "markdown",
   "metadata": {},
   "source": [
    "### Manage Staff"
   ]
  },
  {
   "cell_type": "code",
   "execution_count": 148,
   "metadata": {
    "scrolled": false
   },
   "outputs": [
    {
     "data": {
      "text/plain": [
       "No     3498\n",
       "Yes    1011\n",
       "Name: ManageStaff, dtype: int64"
      ]
     },
     "execution_count": 148,
     "metadata": {},
     "output_type": "execute_result"
    }
   ],
   "source": [
    "us_cleaned['ManageStaff'].value_counts()"
   ]
  },
  {
   "cell_type": "code",
   "execution_count": 149,
   "metadata": {},
   "outputs": [
    {
     "data": {
      "image/png": "[encoded data removed]",
      "text/plain": [
       "<Figure size 864x432 with 1 Axes>"
      ]
     },
     "metadata": {
      "needs_background": "light"
     },
     "output_type": "display_data"
    }
   ],
   "source": [
    "fig, ax = plt.subplots(figsize=(12, 6))\n",
    "(plot_cat(ax, 'ManageStaff', us, xlabel='Manage Staff?', ylabel='Frequency', \n",
    "              title='Number of People Managing Staff'))"
   ]
  },
  {
   "cell_type": "markdown",
   "metadata": {},
   "source": [
    "### Years With This Type of Job"
   ]
  },
  {
   "cell_type": "code",
   "execution_count": 150,
   "metadata": {
    "scrolled": true
   },
   "outputs": [
    {
     "data": {
      "text/plain": [
       "0      38\n",
       "1     531\n",
       "2     520\n",
       "3     499\n",
       "4     397\n",
       "5     448\n",
       "6     257\n",
       "7     212\n",
       "8     184\n",
       "9      80\n",
       "10    326\n",
       "11     59\n",
       "12    119\n",
       "13     51\n",
       "14     37\n",
       "15    186\n",
       "16     52\n",
       "17     69\n",
       "18     72\n",
       "19     26\n",
       "20    150\n",
       "21     20\n",
       "22     30\n",
       "23     14\n",
       "24      9\n",
       "25     49\n",
       "26      7\n",
       "27      6\n",
       "28     10\n",
       "29      8\n",
       "30     18\n",
       "31      2\n",
       "32      6\n",
       "33      2\n",
       "34      2\n",
       "35      4\n",
       "36      2\n",
       "37      1\n",
       "38      3\n",
       "39      1\n",
       "40      2\n",
       "Name: YearsWithThisTypeOfJob, dtype: int64"
      ]
     },
     "execution_count": 150,
     "metadata": {},
     "output_type": "execute_result"
    }
   ],
   "source": [
    "us_cleaned['YearsWithThisTypeOfJob'].value_counts().sort_index()"
   ]
  },
  {
   "cell_type": "code",
   "execution_count": 151,
   "metadata": {},
   "outputs": [
    {
     "data": {
      "image/png": "[encoded data removed]",
      "text/plain": [
       "<Figure size 864x432 with 1 Axes>"
      ]
     },
     "metadata": {
      "needs_background": "light"
     },
     "output_type": "display_data"
    }
   ],
   "source": [
    "fig, ax = plt.subplots(figsize=(12, 6))\n",
    "(plot_quant(ax, us_cleaned['YearsWithThisTypeOfJob'], xlabel='Years With This Type of Job', ylabel='Frequency',\n",
    "                        title='Frequency of Years With This Type of Job', shade=True))"
   ]
  },
  {
   "cell_type": "markdown",
   "metadata": {},
   "source": [
    "### Amount of Others on Your Team"
   ]
  },
  {
   "cell_type": "markdown",
   "metadata": {},
   "source": [
    "Label Encode ordinality"
   ]
  },
  {
   "cell_type": "code",
   "execution_count": 152,
   "metadata": {
    "scrolled": true
   },
   "outputs": [
    {
     "data": {
      "text/plain": [
       "None           1842\n",
       "1               942\n",
       "2               521\n",
       "More than 5     422\n",
       "3               378\n",
       "4               239\n",
       "5               165\n",
       "Name: OtherPeopleOnYourTeam, dtype: int64"
      ]
     },
     "execution_count": 152,
     "metadata": {},
     "output_type": "execute_result"
    }
   ],
   "source": [
    "us_cleaned['OtherPeopleOnYourTeam'].value_counts()"
   ]
  },
  {
   "cell_type": "code",
   "execution_count": 153,
   "metadata": {},
   "outputs": [
    {
     "data": {
      "image/png": "[encoded data removed]",
      "text/plain": [
       "<Figure size 864x432 with 1 Axes>"
      ]
     },
     "metadata": {
      "needs_background": "light"
     },
     "output_type": "display_data"
    }
   ],
   "source": [
    "fig, ax = plt.subplots(figsize=(12, 6))\n",
    "\n",
    "(plot_cat(ax, 'OtherPeopleOnYourTeam', us_cleaned, xlabel='Number of People on the Team', ylabel='Frequency',\n",
    "        title='Frequency of Number of Teammates', order=us['OtherPeopleOnYourTeam'].value_counts().sort_index().index))\n",
    "\n"
   ]
  },
  {
   "cell_type": "markdown",
   "metadata": {},
   "source": [
    "### Education Level"
   ]
  },
  {
   "cell_type": "markdown",
   "metadata": {},
   "source": [
    "Label Encode ordinality"
   ]
  },
  {
   "cell_type": "code",
   "execution_count": 154,
   "metadata": {},
   "outputs": [
    {
     "data": {
      "text/plain": [
       "Bachelors (4 years)           2548\n",
       "Masters                        762\n",
       "None (no degree completed)     672\n",
       "Associates (2 years)           503\n",
       "Doctorate/PhD                   24\n",
       "Name: Education, dtype: int64"
      ]
     },
     "execution_count": 154,
     "metadata": {},
     "output_type": "execute_result"
    }
   ],
   "source": [
    "us_cleaned['Education'].value_counts()"
   ]
  },
  {
   "cell_type": "code",
   "execution_count": 155,
   "metadata": {},
   "outputs": [],
   "source": [
    "us_cleaned.loc[:, 'Education'] = us['Education'].str.replace('\\\\(.*\\\\)', '', regex=True).str.strip()"
   ]
  },
  {
   "cell_type": "code",
   "execution_count": 156,
   "metadata": {},
   "outputs": [
    {
     "data": {
      "image/png": "[encoded data removed]",
      "text/plain": [
       "<Figure size 864x432 with 1 Axes>"
      ]
     },
     "metadata": {
      "needs_background": "light"
     },
     "output_type": "display_data"
    }
   ],
   "source": [
    "fig, ax = plt.subplots(figsize=(12, 6))\n",
    "(plot_cat(ax, 'Education', us_cleaned, xlabel='Level of Degree', ylabel='Frequency', \n",
    "         title='Frequency of Degrees', order=['None', 'Associates', 'Bachelors', 'Masters', 'Doctorate/PhD'])\n",
    ")"
   ]
  },
  {
   "cell_type": "markdown",
   "metadata": {},
   "source": [
    "### Hours Worked Per Week"
   ]
  },
  {
   "cell_type": "code",
   "execution_count": 157,
   "metadata": {},
   "outputs": [
    {
     "data": {
      "image/png": "[encoded data removed]",
      "text/plain": [
       "<Figure size 1152x576 with 1 Axes>"
      ]
     },
     "metadata": {
      "needs_background": "light"
     },
     "output_type": "display_data"
    }
   ],
   "source": [
    "fig, ax = plt.subplots(figsize=(16, 8))\n",
    "(plot_quant(ax, us_cleaned['HoursWorkedPerWeek'], xlabel='Hours Work Per Week', ylabel='Frequency',\n",
    "                 title='Distribution of Hours Work Per Week', shade=True))"
   ]
  },
  {
   "cell_type": "markdown",
   "metadata": {},
   "source": [
    "### Telecommute Days Per Week"
   ]
  },
  {
   "cell_type": "markdown",
   "metadata": {},
   "source": [
    "Label Encode ordinality"
   ]
  },
  {
   "cell_type": "code",
   "execution_count": 158,
   "metadata": {
    "scrolled": false
   },
   "outputs": [
    {
     "data": {
      "image/png": "[encoded data removed]",
      "text/plain": [
       "<Figure size 864x432 with 1 Axes>"
      ]
     },
     "metadata": {
      "needs_background": "light"
     },
     "output_type": "display_data"
    }
   ],
   "source": [
    "fig, ax = plt.subplots(figsize=(12, 6))\n",
    "(plot_cat(ax, 'TelecommuteDaysPerWeek', us_cleaned, xlabel='Num of Days Per Week', ylabel='Count',\n",
    "             title='Count of Num of Telecommute Days Per Week', \n",
    "             order=us_cleaned['TelecommuteDaysPerWeek'].value_counts().sort_index().index))\n",
    "\n",
    "_ = ax.set_xticklabels(us_cleaned['TelecommuteDaysPerWeek'].value_counts().sort_index().index, rotation=90)\n",
    "\n"
   ]
  },
  {
   "cell_type": "markdown",
   "metadata": {},
   "source": [
    "### Employment Sector"
   ]
  },
  {
   "cell_type": "markdown",
   "metadata": {},
   "source": [
    "Maybe OHE"
   ]
  },
  {
   "cell_type": "code",
   "execution_count": 159,
   "metadata": {},
   "outputs": [
    {
     "data": {
      "image/png": "[encoded data removed]",
      "text/plain": [
       "<Figure size 864x432 with 1 Axes>"
      ]
     },
     "metadata": {
      "needs_background": "light"
     },
     "output_type": "display_data"
    }
   ],
   "source": [
    "fig, ax = plt.subplots(figsize=(12, 6))\n",
    "(plot_cat(ax, 'EmploymentSector', us_cleaned, xlabel='Employment Sector', ylabel='Count',\n",
    "         title='Count of Num of Employment Sector', order=us_cleaned['EmploymentSector'].value_counts().index))\n",
    "\n",
    "_ = ax.set_xticklabels(us_cleaned['EmploymentSector'].value_counts().index, rotation=90)"
   ]
  },
  {
   "cell_type": "markdown",
   "metadata": {},
   "source": [
    "### Gender"
   ]
  },
  {
   "cell_type": "markdown",
   "metadata": {},
   "source": [
    "Might have to drop gender due to high number of third category/random answers/Not Asked."
   ]
  },
  {
   "cell_type": "code",
   "execution_count": 160,
   "metadata": {},
   "outputs": [],
   "source": [
    "def clean_gender(row):\n",
    "    if (row not in ['Male', 'Female', 'Not Asked']):\n",
    "        return 'Other'\n",
    "    return row"
   ]
  },
  {
   "cell_type": "code",
   "execution_count": 161,
   "metadata": {},
   "outputs": [],
   "source": [
    "us_cleaned.loc[:, 'Gender'] = us['Gender'].apply(clean_gender)"
   ]
  },
  {
   "cell_type": "code",
   "execution_count": 162,
   "metadata": {},
   "outputs": [
    {
     "data": {
      "image/png": "[encoded data removed]",
      "text/plain": [
       "<Figure size 864x432 with 1 Axes>"
      ]
     },
     "metadata": {
      "needs_background": "light"
     },
     "output_type": "display_data"
    }
   ],
   "source": [
    "fig, ax = plt.subplots(figsize=(12, 6))\n",
    "(plot_cat(ax, 'Gender', us_cleaned, xlabel='Gender', ylabel='Count',\n",
    "         title='Count of Num of Gender', order=us_cleaned['Gender'].value_counts().sort_index().index))\n",
    "\n",
    "_ = ax.set_xticklabels(us_cleaned['Gender'].value_counts().sort_index().index, rotation=90)"
   ]
  },
  {
   "cell_type": "markdown",
   "metadata": {},
   "source": [
    "### Amount of Other Job Duties"
   ]
  },
  {
   "cell_type": "markdown",
   "metadata": {},
   "source": [
    "Might have to exclude, due to high number of nans/No answers"
   ]
  },
  {
   "cell_type": "code",
   "execution_count": 163,
   "metadata": {},
   "outputs": [
    {
     "data": {
      "text/plain": [
       "0.5021068973164782"
      ]
     },
     "execution_count": 163,
     "metadata": {},
     "output_type": "execute_result"
    }
   ],
   "source": [
    "us['OtherJobDuties'].replace('Not Asked', np.nan).isna().mean()"
   ]
  },
  {
   "cell_type": "code",
   "execution_count": 164,
   "metadata": {},
   "outputs": [],
   "source": [
    "def transform_ojd(row):\n",
    "    if (row == 'Not Asked'):\n",
    "        return ['N/A']\n",
    "    return row.split(',')\n",
    "\n",
    "def count_ojd(row):\n",
    "    if ('N/A' in row):\n",
    "        return np.nan\n",
    "    elif ('None' in row):\n",
    "        return 0\n",
    "    return len(row)"
   ]
  },
  {
   "cell_type": "code",
   "execution_count": 165,
   "metadata": {},
   "outputs": [],
   "source": [
    "us_cleaned['OJD_count'] = (us['OtherJobDuties'].replace(np.nan, 'None')\n",
    "                                               .str.strip()\n",
    "                                               .replace('\\\\(.*\\\\)', '', regex=True)\n",
    "                                               .apply(transform_ojd)\n",
    "                                               .apply(count_ojd))"
   ]
  },
  {
   "cell_type": "code",
   "execution_count": 166,
   "metadata": {
    "scrolled": false
   },
   "outputs": [
    {
     "data": {
      "image/png": "[encoded data removed]",
      "text/plain": [
       "<Figure size 864x432 with 1 Axes>"
      ]
     },
     "metadata": {
      "needs_background": "light"
     },
     "output_type": "display_data"
    }
   ],
   "source": [
    "fig, ax = plt.subplots(figsize=(12, 6))\n",
    "(plot_cat(ax, 'OJD_count', us_cleaned, xlabel='Number of Other Job Duties', ylabel='Frequency', \n",
    "                        title='Frequency of Other Job Duties'))"
   ]
  },
  {
   "cell_type": "code",
   "execution_count": 167,
   "metadata": {},
   "outputs": [],
   "source": [
    "features += ['PostalCode', 'OJD_count']"
   ]
  },
  {
   "cell_type": "code",
   "execution_count": 168,
   "metadata": {},
   "outputs": [
    {
     "data": {
      "text/plain": [
       "['SalaryUSD',\n",
       " 'YearsWithThisDatabase',\n",
       " 'ManageStaff',\n",
       " 'YearsWithThisTypeOfJob',\n",
       " 'OtherPeopleOnYourTeam',\n",
       " 'DatabaseServers',\n",
       " 'Education',\n",
       " 'HoursWorkedPerWeek',\n",
       " 'TelecommuteDaysPerWeek',\n",
       " 'EmploymentSector',\n",
       " 'Gender',\n",
       " 'OtherJobDuties',\n",
       " 'PostalCode',\n",
       " 'OJD_count']"
      ]
     },
     "execution_count": 168,
     "metadata": {},
     "output_type": "execute_result"
    }
   ],
   "source": [
    "features"
   ]
  },
  {
   "cell_type": "markdown",
   "metadata": {},
   "source": [
    "### Feature Engineering"
   ]
  },
  {
   "cell_type": "code",
   "execution_count": 204,
   "metadata": {},
   "outputs": [],
   "source": [
    "X = us_cleaned.loc[:, features + target]"
   ]
  },
  {
   "cell_type": "code",
   "execution_count": 205,
   "metadata": {
    "scrolled": true
   },
   "outputs": [
    {
     "data": {
      "text/html": [
       "<div>\n",
       "<style scoped>\n",
       "    .dataframe tbody tr th:only-of-type {\n",
       "        vertical-align: middle;\n",
       "    }\n",
       "\n",
       "    .dataframe tbody tr th {\n",
       "        vertical-align: top;\n",
       "    }\n",
       "\n",
       "    .dataframe thead th {\n",
       "        text-align: right;\n",
       "    }\n",
       "</style>\n",
       "<table border=\"1\" class=\"dataframe\">\n",
       "  <thead>\n",
       "    <tr style=\"text-align: right;\">\n",
       "      <th></th>\n",
       "      <th>SalaryUSD</th>\n",
       "      <th>YearsWithThisDatabase</th>\n",
       "      <th>ManageStaff</th>\n",
       "      <th>YearsWithThisTypeOfJob</th>\n",
       "      <th>OtherPeopleOnYourTeam</th>\n",
       "      <th>DatabaseServers</th>\n",
       "      <th>Education</th>\n",
       "      <th>HoursWorkedPerWeek</th>\n",
       "      <th>TelecommuteDaysPerWeek</th>\n",
       "      <th>EmploymentSector</th>\n",
       "      <th>Gender</th>\n",
       "      <th>OtherJobDuties</th>\n",
       "      <th>PostalCode</th>\n",
       "      <th>OJD_count</th>\n",
       "      <th>LookingForAnotherJob</th>\n",
       "    </tr>\n",
       "  </thead>\n",
       "  <tbody>\n",
       "    <tr>\n",
       "      <th>0</th>\n",
       "      <td>200000.0</td>\n",
       "      <td>10.0</td>\n",
       "      <td>No</td>\n",
       "      <td>5</td>\n",
       "      <td>2</td>\n",
       "      <td>350</td>\n",
       "      <td>Masters</td>\n",
       "      <td>45</td>\n",
       "      <td>1</td>\n",
       "      <td>Private business</td>\n",
       "      <td>Not Asked</td>\n",
       "      <td>Not Asked</td>\n",
       "      <td>Not Asked</td>\n",
       "      <td>NaN</td>\n",
       "      <td>Yes, but only passively (just curious)</td>\n",
       "    </tr>\n",
       "    <tr>\n",
       "      <th>12</th>\n",
       "      <td>137500.0</td>\n",
       "      <td>16.0</td>\n",
       "      <td>No</td>\n",
       "      <td>6</td>\n",
       "      <td>4</td>\n",
       "      <td>200</td>\n",
       "      <td>None</td>\n",
       "      <td>55</td>\n",
       "      <td>5 or more</td>\n",
       "      <td>Private business</td>\n",
       "      <td>Not Asked</td>\n",
       "      <td>Not Asked</td>\n",
       "      <td>Not Asked</td>\n",
       "      <td>NaN</td>\n",
       "      <td>No</td>\n",
       "    </tr>\n",
       "    <tr>\n",
       "      <th>14</th>\n",
       "      <td>85000.0</td>\n",
       "      <td>8.0</td>\n",
       "      <td>No</td>\n",
       "      <td>2</td>\n",
       "      <td>None</td>\n",
       "      <td>15</td>\n",
       "      <td>Bachelors</td>\n",
       "      <td>50</td>\n",
       "      <td>None, or less than 1 day per week</td>\n",
       "      <td>Private business</td>\n",
       "      <td>Not Asked</td>\n",
       "      <td>Not Asked</td>\n",
       "      <td>Not Asked</td>\n",
       "      <td>NaN</td>\n",
       "      <td>Yes, but only passively (just curious)</td>\n",
       "    </tr>\n",
       "    <tr>\n",
       "      <th>15</th>\n",
       "      <td>96000.0</td>\n",
       "      <td>5.0</td>\n",
       "      <td>No</td>\n",
       "      <td>5</td>\n",
       "      <td>None</td>\n",
       "      <td>100</td>\n",
       "      <td>Masters</td>\n",
       "      <td>45</td>\n",
       "      <td>1</td>\n",
       "      <td>Private business</td>\n",
       "      <td>Not Asked</td>\n",
       "      <td>Not Asked</td>\n",
       "      <td>Not Asked</td>\n",
       "      <td>NaN</td>\n",
       "      <td>Yes, but only passively (just curious)</td>\n",
       "    </tr>\n",
       "    <tr>\n",
       "      <th>17</th>\n",
       "      <td>66000.0</td>\n",
       "      <td>10.0</td>\n",
       "      <td>No</td>\n",
       "      <td>10</td>\n",
       "      <td>None</td>\n",
       "      <td>4</td>\n",
       "      <td>Associates</td>\n",
       "      <td>60</td>\n",
       "      <td>5 or more</td>\n",
       "      <td>Private business</td>\n",
       "      <td>Not Asked</td>\n",
       "      <td>Not Asked</td>\n",
       "      <td>Not Asked</td>\n",
       "      <td>NaN</td>\n",
       "      <td>Yes, but only passively (just curious)</td>\n",
       "    </tr>\n",
       "  </tbody>\n",
       "</table>\n",
       "</div>"
      ],
      "text/plain": [
       "    SalaryUSD  YearsWithThisDatabase ManageStaff  YearsWithThisTypeOfJob  \\\n",
       "0    200000.0                   10.0          No                       5   \n",
       "12   137500.0                   16.0          No                       6   \n",
       "14    85000.0                    8.0          No                       2   \n",
       "15    96000.0                    5.0          No                       5   \n",
       "17    66000.0                   10.0          No                      10   \n",
       "\n",
       "   OtherPeopleOnYourTeam  DatabaseServers   Education  HoursWorkedPerWeek  \\\n",
       "0                      2              350     Masters                  45   \n",
       "12                     4              200        None                  55   \n",
       "14                  None               15   Bachelors                  50   \n",
       "15                  None              100     Masters                  45   \n",
       "17                  None                4  Associates                  60   \n",
       "\n",
       "               TelecommuteDaysPerWeek  EmploymentSector     Gender  \\\n",
       "0                                   1  Private business  Not Asked   \n",
       "12                          5 or more  Private business  Not Asked   \n",
       "14  None, or less than 1 day per week  Private business  Not Asked   \n",
       "15                                  1  Private business  Not Asked   \n",
       "17                          5 or more  Private business  Not Asked   \n",
       "\n",
       "   OtherJobDuties PostalCode  OJD_count  \\\n",
       "0       Not Asked  Not Asked        NaN   \n",
       "12      Not Asked  Not Asked        NaN   \n",
       "14      Not Asked  Not Asked        NaN   \n",
       "15      Not Asked  Not Asked        NaN   \n",
       "17      Not Asked  Not Asked        NaN   \n",
       "\n",
       "                      LookingForAnotherJob  \n",
       "0   Yes, but only passively (just curious)  \n",
       "12                                      No  \n",
       "14  Yes, but only passively (just curious)  \n",
       "15  Yes, but only passively (just curious)  \n",
       "17  Yes, but only passively (just curious)  "
      ]
     },
     "execution_count": 205,
     "metadata": {},
     "output_type": "execute_result"
    }
   ],
   "source": [
    "X.head()"
   ]
  },
  {
   "cell_type": "markdown",
   "metadata": {},
   "source": [
    "### SalaryUSD\n",
    "\n",
    "Cleaning erroneous values"
   ]
  },
  {
   "cell_type": "code",
   "execution_count": 206,
   "metadata": {},
   "outputs": [],
   "source": [
    "X = X.drop(X[X['SalaryUSD'] < 100].index)"
   ]
  },
  {
   "cell_type": "code",
   "execution_count": 207,
   "metadata": {},
   "outputs": [
    {
     "data": {
      "text/html": [
       "<div>\n",
       "<style scoped>\n",
       "    .dataframe tbody tr th:only-of-type {\n",
       "        vertical-align: middle;\n",
       "    }\n",
       "\n",
       "    .dataframe tbody tr th {\n",
       "        vertical-align: top;\n",
       "    }\n",
       "\n",
       "    .dataframe thead th {\n",
       "        text-align: right;\n",
       "    }\n",
       "</style>\n",
       "<table border=\"1\" class=\"dataframe\">\n",
       "  <thead>\n",
       "    <tr style=\"text-align: right;\">\n",
       "      <th></th>\n",
       "      <th>SalaryUSD</th>\n",
       "      <th>YearsWithThisDatabase</th>\n",
       "      <th>ManageStaff</th>\n",
       "      <th>YearsWithThisTypeOfJob</th>\n",
       "      <th>OtherPeopleOnYourTeam</th>\n",
       "      <th>DatabaseServers</th>\n",
       "      <th>Education</th>\n",
       "      <th>HoursWorkedPerWeek</th>\n",
       "      <th>TelecommuteDaysPerWeek</th>\n",
       "      <th>EmploymentSector</th>\n",
       "      <th>Gender</th>\n",
       "      <th>OtherJobDuties</th>\n",
       "      <th>PostalCode</th>\n",
       "      <th>OJD_count</th>\n",
       "      <th>LookingForAnotherJob</th>\n",
       "    </tr>\n",
       "  </thead>\n",
       "  <tbody>\n",
       "    <tr>\n",
       "      <th>0</th>\n",
       "      <td>200000.0</td>\n",
       "      <td>10.0</td>\n",
       "      <td>No</td>\n",
       "      <td>5</td>\n",
       "      <td>2</td>\n",
       "      <td>350</td>\n",
       "      <td>Masters</td>\n",
       "      <td>45</td>\n",
       "      <td>1</td>\n",
       "      <td>Private business</td>\n",
       "      <td>Not Asked</td>\n",
       "      <td>Not Asked</td>\n",
       "      <td>Not Asked</td>\n",
       "      <td>NaN</td>\n",
       "      <td>Yes, but only passively (just curious)</td>\n",
       "    </tr>\n",
       "    <tr>\n",
       "      <th>12</th>\n",
       "      <td>137500.0</td>\n",
       "      <td>16.0</td>\n",
       "      <td>No</td>\n",
       "      <td>6</td>\n",
       "      <td>4</td>\n",
       "      <td>200</td>\n",
       "      <td>None</td>\n",
       "      <td>55</td>\n",
       "      <td>5 or more</td>\n",
       "      <td>Private business</td>\n",
       "      <td>Not Asked</td>\n",
       "      <td>Not Asked</td>\n",
       "      <td>Not Asked</td>\n",
       "      <td>NaN</td>\n",
       "      <td>No</td>\n",
       "    </tr>\n",
       "    <tr>\n",
       "      <th>14</th>\n",
       "      <td>85000.0</td>\n",
       "      <td>8.0</td>\n",
       "      <td>No</td>\n",
       "      <td>2</td>\n",
       "      <td>None</td>\n",
       "      <td>15</td>\n",
       "      <td>Bachelors</td>\n",
       "      <td>50</td>\n",
       "      <td>None, or less than 1 day per week</td>\n",
       "      <td>Private business</td>\n",
       "      <td>Not Asked</td>\n",
       "      <td>Not Asked</td>\n",
       "      <td>Not Asked</td>\n",
       "      <td>NaN</td>\n",
       "      <td>Yes, but only passively (just curious)</td>\n",
       "    </tr>\n",
       "    <tr>\n",
       "      <th>15</th>\n",
       "      <td>96000.0</td>\n",
       "      <td>5.0</td>\n",
       "      <td>No</td>\n",
       "      <td>5</td>\n",
       "      <td>None</td>\n",
       "      <td>100</td>\n",
       "      <td>Masters</td>\n",
       "      <td>45</td>\n",
       "      <td>1</td>\n",
       "      <td>Private business</td>\n",
       "      <td>Not Asked</td>\n",
       "      <td>Not Asked</td>\n",
       "      <td>Not Asked</td>\n",
       "      <td>NaN</td>\n",
       "      <td>Yes, but only passively (just curious)</td>\n",
       "    </tr>\n",
       "    <tr>\n",
       "      <th>17</th>\n",
       "      <td>66000.0</td>\n",
       "      <td>10.0</td>\n",
       "      <td>No</td>\n",
       "      <td>10</td>\n",
       "      <td>None</td>\n",
       "      <td>4</td>\n",
       "      <td>Associates</td>\n",
       "      <td>60</td>\n",
       "      <td>5 or more</td>\n",
       "      <td>Private business</td>\n",
       "      <td>Not Asked</td>\n",
       "      <td>Not Asked</td>\n",
       "      <td>Not Asked</td>\n",
       "      <td>NaN</td>\n",
       "      <td>Yes, but only passively (just curious)</td>\n",
       "    </tr>\n",
       "  </tbody>\n",
       "</table>\n",
       "</div>"
      ],
      "text/plain": [
       "    SalaryUSD  YearsWithThisDatabase ManageStaff  YearsWithThisTypeOfJob  \\\n",
       "0    200000.0                   10.0          No                       5   \n",
       "12   137500.0                   16.0          No                       6   \n",
       "14    85000.0                    8.0          No                       2   \n",
       "15    96000.0                    5.0          No                       5   \n",
       "17    66000.0                   10.0          No                      10   \n",
       "\n",
       "   OtherPeopleOnYourTeam  DatabaseServers   Education  HoursWorkedPerWeek  \\\n",
       "0                      2              350     Masters                  45   \n",
       "12                     4              200        None                  55   \n",
       "14                  None               15   Bachelors                  50   \n",
       "15                  None              100     Masters                  45   \n",
       "17                  None                4  Associates                  60   \n",
       "\n",
       "               TelecommuteDaysPerWeek  EmploymentSector     Gender  \\\n",
       "0                                   1  Private business  Not Asked   \n",
       "12                          5 or more  Private business  Not Asked   \n",
       "14  None, or less than 1 day per week  Private business  Not Asked   \n",
       "15                                  1  Private business  Not Asked   \n",
       "17                          5 or more  Private business  Not Asked   \n",
       "\n",
       "   OtherJobDuties PostalCode  OJD_count  \\\n",
       "0       Not Asked  Not Asked        NaN   \n",
       "12      Not Asked  Not Asked        NaN   \n",
       "14      Not Asked  Not Asked        NaN   \n",
       "15      Not Asked  Not Asked        NaN   \n",
       "17      Not Asked  Not Asked        NaN   \n",
       "\n",
       "                      LookingForAnotherJob  \n",
       "0   Yes, but only passively (just curious)  \n",
       "12                                      No  \n",
       "14  Yes, but only passively (just curious)  \n",
       "15  Yes, but only passively (just curious)  \n",
       "17  Yes, but only passively (just curious)  "
      ]
     },
     "execution_count": 207,
     "metadata": {},
     "output_type": "execute_result"
    }
   ],
   "source": [
    "X.head()"
   ]
  },
  {
   "cell_type": "markdown",
   "metadata": {},
   "source": [
    "### PostalCode"
   ]
  },
  {
   "cell_type": "code",
   "execution_count": 208,
   "metadata": {},
   "outputs": [],
   "source": [
    "with open('postcodeclean.json', 'r') as f:\n",
    "    results_combined = json.load(f)"
   ]
  },
  {
   "cell_type": "code",
   "execution_count": 209,
   "metadata": {},
   "outputs": [],
   "source": [
    "def transform_zipcode(row):\n",
    "    if row in results_combined:\n",
    "        return results_combined[row]\n",
    "    return row"
   ]
  },
  {
   "cell_type": "code",
   "execution_count": 210,
   "metadata": {},
   "outputs": [],
   "source": [
    "X.loc[:, 'PostalCodeStates'] = X['PostalCode'].apply(transform_zipcode)"
   ]
  },
  {
   "cell_type": "code",
   "execution_count": 211,
   "metadata": {},
   "outputs": [],
   "source": [
    "X = X.drop('PostalCode', axis=1)"
   ]
  },
  {
   "cell_type": "code",
   "execution_count": 212,
   "metadata": {},
   "outputs": [
    {
     "data": {
      "text/html": [
       "<div>\n",
       "<style scoped>\n",
       "    .dataframe tbody tr th:only-of-type {\n",
       "        vertical-align: middle;\n",
       "    }\n",
       "\n",
       "    .dataframe tbody tr th {\n",
       "        vertical-align: top;\n",
       "    }\n",
       "\n",
       "    .dataframe thead th {\n",
       "        text-align: right;\n",
       "    }\n",
       "</style>\n",
       "<table border=\"1\" class=\"dataframe\">\n",
       "  <thead>\n",
       "    <tr style=\"text-align: right;\">\n",
       "      <th></th>\n",
       "      <th>SalaryUSD</th>\n",
       "      <th>YearsWithThisDatabase</th>\n",
       "      <th>ManageStaff</th>\n",
       "      <th>YearsWithThisTypeOfJob</th>\n",
       "      <th>OtherPeopleOnYourTeam</th>\n",
       "      <th>DatabaseServers</th>\n",
       "      <th>Education</th>\n",
       "      <th>HoursWorkedPerWeek</th>\n",
       "      <th>TelecommuteDaysPerWeek</th>\n",
       "      <th>EmploymentSector</th>\n",
       "      <th>Gender</th>\n",
       "      <th>OtherJobDuties</th>\n",
       "      <th>OJD_count</th>\n",
       "      <th>LookingForAnotherJob</th>\n",
       "      <th>PostalCodeStates</th>\n",
       "    </tr>\n",
       "  </thead>\n",
       "  <tbody>\n",
       "    <tr>\n",
       "      <th>0</th>\n",
       "      <td>200000.0</td>\n",
       "      <td>10.0</td>\n",
       "      <td>No</td>\n",
       "      <td>5</td>\n",
       "      <td>2</td>\n",
       "      <td>350</td>\n",
       "      <td>Masters</td>\n",
       "      <td>45</td>\n",
       "      <td>1</td>\n",
       "      <td>Private business</td>\n",
       "      <td>Not Asked</td>\n",
       "      <td>Not Asked</td>\n",
       "      <td>NaN</td>\n",
       "      <td>Yes, but only passively (just curious)</td>\n",
       "      <td>Not Asked</td>\n",
       "    </tr>\n",
       "    <tr>\n",
       "      <th>12</th>\n",
       "      <td>137500.0</td>\n",
       "      <td>16.0</td>\n",
       "      <td>No</td>\n",
       "      <td>6</td>\n",
       "      <td>4</td>\n",
       "      <td>200</td>\n",
       "      <td>None</td>\n",
       "      <td>55</td>\n",
       "      <td>5 or more</td>\n",
       "      <td>Private business</td>\n",
       "      <td>Not Asked</td>\n",
       "      <td>Not Asked</td>\n",
       "      <td>NaN</td>\n",
       "      <td>No</td>\n",
       "      <td>Not Asked</td>\n",
       "    </tr>\n",
       "    <tr>\n",
       "      <th>14</th>\n",
       "      <td>85000.0</td>\n",
       "      <td>8.0</td>\n",
       "      <td>No</td>\n",
       "      <td>2</td>\n",
       "      <td>None</td>\n",
       "      <td>15</td>\n",
       "      <td>Bachelors</td>\n",
       "      <td>50</td>\n",
       "      <td>None, or less than 1 day per week</td>\n",
       "      <td>Private business</td>\n",
       "      <td>Not Asked</td>\n",
       "      <td>Not Asked</td>\n",
       "      <td>NaN</td>\n",
       "      <td>Yes, but only passively (just curious)</td>\n",
       "      <td>Not Asked</td>\n",
       "    </tr>\n",
       "    <tr>\n",
       "      <th>15</th>\n",
       "      <td>96000.0</td>\n",
       "      <td>5.0</td>\n",
       "      <td>No</td>\n",
       "      <td>5</td>\n",
       "      <td>None</td>\n",
       "      <td>100</td>\n",
       "      <td>Masters</td>\n",
       "      <td>45</td>\n",
       "      <td>1</td>\n",
       "      <td>Private business</td>\n",
       "      <td>Not Asked</td>\n",
       "      <td>Not Asked</td>\n",
       "      <td>NaN</td>\n",
       "      <td>Yes, but only passively (just curious)</td>\n",
       "      <td>Not Asked</td>\n",
       "    </tr>\n",
       "    <tr>\n",
       "      <th>17</th>\n",
       "      <td>66000.0</td>\n",
       "      <td>10.0</td>\n",
       "      <td>No</td>\n",
       "      <td>10</td>\n",
       "      <td>None</td>\n",
       "      <td>4</td>\n",
       "      <td>Associates</td>\n",
       "      <td>60</td>\n",
       "      <td>5 or more</td>\n",
       "      <td>Private business</td>\n",
       "      <td>Not Asked</td>\n",
       "      <td>Not Asked</td>\n",
       "      <td>NaN</td>\n",
       "      <td>Yes, but only passively (just curious)</td>\n",
       "      <td>Not Asked</td>\n",
       "    </tr>\n",
       "  </tbody>\n",
       "</table>\n",
       "</div>"
      ],
      "text/plain": [
       "    SalaryUSD  YearsWithThisDatabase ManageStaff  YearsWithThisTypeOfJob  \\\n",
       "0    200000.0                   10.0          No                       5   \n",
       "12   137500.0                   16.0          No                       6   \n",
       "14    85000.0                    8.0          No                       2   \n",
       "15    96000.0                    5.0          No                       5   \n",
       "17    66000.0                   10.0          No                      10   \n",
       "\n",
       "   OtherPeopleOnYourTeam  DatabaseServers   Education  HoursWorkedPerWeek  \\\n",
       "0                      2              350     Masters                  45   \n",
       "12                     4              200        None                  55   \n",
       "14                  None               15   Bachelors                  50   \n",
       "15                  None              100     Masters                  45   \n",
       "17                  None                4  Associates                  60   \n",
       "\n",
       "               TelecommuteDaysPerWeek  EmploymentSector     Gender  \\\n",
       "0                                   1  Private business  Not Asked   \n",
       "12                          5 or more  Private business  Not Asked   \n",
       "14  None, or less than 1 day per week  Private business  Not Asked   \n",
       "15                                  1  Private business  Not Asked   \n",
       "17                          5 or more  Private business  Not Asked   \n",
       "\n",
       "   OtherJobDuties  OJD_count                    LookingForAnotherJob  \\\n",
       "0       Not Asked        NaN  Yes, but only passively (just curious)   \n",
       "12      Not Asked        NaN                                      No   \n",
       "14      Not Asked        NaN  Yes, but only passively (just curious)   \n",
       "15      Not Asked        NaN  Yes, but only passively (just curious)   \n",
       "17      Not Asked        NaN  Yes, but only passively (just curious)   \n",
       "\n",
       "   PostalCodeStates  \n",
       "0         Not Asked  \n",
       "12        Not Asked  \n",
       "14        Not Asked  \n",
       "15        Not Asked  \n",
       "17        Not Asked  "
      ]
     },
     "execution_count": 212,
     "metadata": {},
     "output_type": "execute_result"
    }
   ],
   "source": [
    "X.head()"
   ]
  },
  {
   "cell_type": "markdown",
   "metadata": {},
   "source": [
    "### ManageStaff\n",
    "\n",
    "Change it into a categorical variable"
   ]
  },
  {
   "cell_type": "code",
   "execution_count": 213,
   "metadata": {},
   "outputs": [],
   "source": [
    "ms = X['ManageStaff'].value_counts().index"
   ]
  },
  {
   "cell_type": "code",
   "execution_count": 214,
   "metadata": {},
   "outputs": [],
   "source": [
    "ms_map = {v: i for i, v in enumerate(ms)}"
   ]
  },
  {
   "cell_type": "code",
   "execution_count": 215,
   "metadata": {
    "scrolled": false
   },
   "outputs": [],
   "source": [
    "X.loc[:, 'ManageStaff'] = X['ManageStaff'].map(ms_map)"
   ]
  },
  {
   "cell_type": "code",
   "execution_count": 216,
   "metadata": {
    "scrolled": true
   },
   "outputs": [
    {
     "data": {
      "text/html": [
       "<div>\n",
       "<style scoped>\n",
       "    .dataframe tbody tr th:only-of-type {\n",
       "        vertical-align: middle;\n",
       "    }\n",
       "\n",
       "    .dataframe tbody tr th {\n",
       "        vertical-align: top;\n",
       "    }\n",
       "\n",
       "    .dataframe thead th {\n",
       "        text-align: right;\n",
       "    }\n",
       "</style>\n",
       "<table border=\"1\" class=\"dataframe\">\n",
       "  <thead>\n",
       "    <tr style=\"text-align: right;\">\n",
       "      <th></th>\n",
       "      <th>SalaryUSD</th>\n",
       "      <th>YearsWithThisDatabase</th>\n",
       "      <th>ManageStaff</th>\n",
       "      <th>YearsWithThisTypeOfJob</th>\n",
       "      <th>OtherPeopleOnYourTeam</th>\n",
       "      <th>DatabaseServers</th>\n",
       "      <th>Education</th>\n",
       "      <th>HoursWorkedPerWeek</th>\n",
       "      <th>TelecommuteDaysPerWeek</th>\n",
       "      <th>EmploymentSector</th>\n",
       "      <th>Gender</th>\n",
       "      <th>OtherJobDuties</th>\n",
       "      <th>OJD_count</th>\n",
       "      <th>LookingForAnotherJob</th>\n",
       "      <th>PostalCodeStates</th>\n",
       "    </tr>\n",
       "  </thead>\n",
       "  <tbody>\n",
       "    <tr>\n",
       "      <th>0</th>\n",
       "      <td>200000.0</td>\n",
       "      <td>10.0</td>\n",
       "      <td>0</td>\n",
       "      <td>5</td>\n",
       "      <td>2</td>\n",
       "      <td>350</td>\n",
       "      <td>Masters</td>\n",
       "      <td>45</td>\n",
       "      <td>1</td>\n",
       "      <td>Private business</td>\n",
       "      <td>Not Asked</td>\n",
       "      <td>Not Asked</td>\n",
       "      <td>NaN</td>\n",
       "      <td>Yes, but only passively (just curious)</td>\n",
       "      <td>Not Asked</td>\n",
       "    </tr>\n",
       "    <tr>\n",
       "      <th>12</th>\n",
       "      <td>137500.0</td>\n",
       "      <td>16.0</td>\n",
       "      <td>0</td>\n",
       "      <td>6</td>\n",
       "      <td>4</td>\n",
       "      <td>200</td>\n",
       "      <td>None</td>\n",
       "      <td>55</td>\n",
       "      <td>5 or more</td>\n",
       "      <td>Private business</td>\n",
       "      <td>Not Asked</td>\n",
       "      <td>Not Asked</td>\n",
       "      <td>NaN</td>\n",
       "      <td>No</td>\n",
       "      <td>Not Asked</td>\n",
       "    </tr>\n",
       "    <tr>\n",
       "      <th>14</th>\n",
       "      <td>85000.0</td>\n",
       "      <td>8.0</td>\n",
       "      <td>0</td>\n",
       "      <td>2</td>\n",
       "      <td>None</td>\n",
       "      <td>15</td>\n",
       "      <td>Bachelors</td>\n",
       "      <td>50</td>\n",
       "      <td>None, or less than 1 day per week</td>\n",
       "      <td>Private business</td>\n",
       "      <td>Not Asked</td>\n",
       "      <td>Not Asked</td>\n",
       "      <td>NaN</td>\n",
       "      <td>Yes, but only passively (just curious)</td>\n",
       "      <td>Not Asked</td>\n",
       "    </tr>\n",
       "    <tr>\n",
       "      <th>15</th>\n",
       "      <td>96000.0</td>\n",
       "      <td>5.0</td>\n",
       "      <td>0</td>\n",
       "      <td>5</td>\n",
       "      <td>None</td>\n",
       "      <td>100</td>\n",
       "      <td>Masters</td>\n",
       "      <td>45</td>\n",
       "      <td>1</td>\n",
       "      <td>Private business</td>\n",
       "      <td>Not Asked</td>\n",
       "      <td>Not Asked</td>\n",
       "      <td>NaN</td>\n",
       "      <td>Yes, but only passively (just curious)</td>\n",
       "      <td>Not Asked</td>\n",
       "    </tr>\n",
       "    <tr>\n",
       "      <th>17</th>\n",
       "      <td>66000.0</td>\n",
       "      <td>10.0</td>\n",
       "      <td>0</td>\n",
       "      <td>10</td>\n",
       "      <td>None</td>\n",
       "      <td>4</td>\n",
       "      <td>Associates</td>\n",
       "      <td>60</td>\n",
       "      <td>5 or more</td>\n",
       "      <td>Private business</td>\n",
       "      <td>Not Asked</td>\n",
       "      <td>Not Asked</td>\n",
       "      <td>NaN</td>\n",
       "      <td>Yes, but only passively (just curious)</td>\n",
       "      <td>Not Asked</td>\n",
       "    </tr>\n",
       "  </tbody>\n",
       "</table>\n",
       "</div>"
      ],
      "text/plain": [
       "    SalaryUSD  YearsWithThisDatabase  ManageStaff  YearsWithThisTypeOfJob  \\\n",
       "0    200000.0                   10.0            0                       5   \n",
       "12   137500.0                   16.0            0                       6   \n",
       "14    85000.0                    8.0            0                       2   \n",
       "15    96000.0                    5.0            0                       5   \n",
       "17    66000.0                   10.0            0                      10   \n",
       "\n",
       "   OtherPeopleOnYourTeam  DatabaseServers   Education  HoursWorkedPerWeek  \\\n",
       "0                      2              350     Masters                  45   \n",
       "12                     4              200        None                  55   \n",
       "14                  None               15   Bachelors                  50   \n",
       "15                  None              100     Masters                  45   \n",
       "17                  None                4  Associates                  60   \n",
       "\n",
       "               TelecommuteDaysPerWeek  EmploymentSector     Gender  \\\n",
       "0                                   1  Private business  Not Asked   \n",
       "12                          5 or more  Private business  Not Asked   \n",
       "14  None, or less than 1 day per week  Private business  Not Asked   \n",
       "15                                  1  Private business  Not Asked   \n",
       "17                          5 or more  Private business  Not Asked   \n",
       "\n",
       "   OtherJobDuties  OJD_count                    LookingForAnotherJob  \\\n",
       "0       Not Asked        NaN  Yes, but only passively (just curious)   \n",
       "12      Not Asked        NaN                                      No   \n",
       "14      Not Asked        NaN  Yes, but only passively (just curious)   \n",
       "15      Not Asked        NaN  Yes, but only passively (just curious)   \n",
       "17      Not Asked        NaN  Yes, but only passively (just curious)   \n",
       "\n",
       "   PostalCodeStates  \n",
       "0         Not Asked  \n",
       "12        Not Asked  \n",
       "14        Not Asked  \n",
       "15        Not Asked  \n",
       "17        Not Asked  "
      ]
     },
     "execution_count": 216,
     "metadata": {},
     "output_type": "execute_result"
    }
   ],
   "source": [
    "X.head()"
   ]
  },
  {
   "cell_type": "markdown",
   "metadata": {},
   "source": [
    "### OtherPeopleOnYourTeam"
   ]
  },
  {
   "cell_type": "code",
   "execution_count": 217,
   "metadata": {},
   "outputs": [],
   "source": [
    "others_map = {'None': 0, \n",
    "              '1': 1, \n",
    "              '2': 2,\n",
    "              '3': 3,\n",
    "              '4': 4,\n",
    "              '5': 5,\n",
    "             'More than 5': 6}"
   ]
  },
  {
   "cell_type": "code",
   "execution_count": 218,
   "metadata": {
    "scrolled": true
   },
   "outputs": [],
   "source": [
    "X.loc[:, 'OtherPeopleOnYourTeam'] = X['OtherPeopleOnYourTeam'].map(others_map)"
   ]
  },
  {
   "cell_type": "code",
   "execution_count": 219,
   "metadata": {},
   "outputs": [
    {
     "data": {
      "text/html": [
       "<div>\n",
       "<style scoped>\n",
       "    .dataframe tbody tr th:only-of-type {\n",
       "        vertical-align: middle;\n",
       "    }\n",
       "\n",
       "    .dataframe tbody tr th {\n",
       "        vertical-align: top;\n",
       "    }\n",
       "\n",
       "    .dataframe thead th {\n",
       "        text-align: right;\n",
       "    }\n",
       "</style>\n",
       "<table border=\"1\" class=\"dataframe\">\n",
       "  <thead>\n",
       "    <tr style=\"text-align: right;\">\n",
       "      <th></th>\n",
       "      <th>SalaryUSD</th>\n",
       "      <th>YearsWithThisDatabase</th>\n",
       "      <th>ManageStaff</th>\n",
       "      <th>YearsWithThisTypeOfJob</th>\n",
       "      <th>OtherPeopleOnYourTeam</th>\n",
       "      <th>DatabaseServers</th>\n",
       "      <th>Education</th>\n",
       "      <th>HoursWorkedPerWeek</th>\n",
       "      <th>TelecommuteDaysPerWeek</th>\n",
       "      <th>EmploymentSector</th>\n",
       "      <th>Gender</th>\n",
       "      <th>OtherJobDuties</th>\n",
       "      <th>OJD_count</th>\n",
       "      <th>LookingForAnotherJob</th>\n",
       "      <th>PostalCodeStates</th>\n",
       "    </tr>\n",
       "  </thead>\n",
       "  <tbody>\n",
       "    <tr>\n",
       "      <th>0</th>\n",
       "      <td>200000.0</td>\n",
       "      <td>10.0</td>\n",
       "      <td>0</td>\n",
       "      <td>5</td>\n",
       "      <td>2</td>\n",
       "      <td>350</td>\n",
       "      <td>Masters</td>\n",
       "      <td>45</td>\n",
       "      <td>1</td>\n",
       "      <td>Private business</td>\n",
       "      <td>Not Asked</td>\n",
       "      <td>Not Asked</td>\n",
       "      <td>NaN</td>\n",
       "      <td>Yes, but only passively (just curious)</td>\n",
       "      <td>Not Asked</td>\n",
       "    </tr>\n",
       "    <tr>\n",
       "      <th>12</th>\n",
       "      <td>137500.0</td>\n",
       "      <td>16.0</td>\n",
       "      <td>0</td>\n",
       "      <td>6</td>\n",
       "      <td>4</td>\n",
       "      <td>200</td>\n",
       "      <td>None</td>\n",
       "      <td>55</td>\n",
       "      <td>5 or more</td>\n",
       "      <td>Private business</td>\n",
       "      <td>Not Asked</td>\n",
       "      <td>Not Asked</td>\n",
       "      <td>NaN</td>\n",
       "      <td>No</td>\n",
       "      <td>Not Asked</td>\n",
       "    </tr>\n",
       "    <tr>\n",
       "      <th>14</th>\n",
       "      <td>85000.0</td>\n",
       "      <td>8.0</td>\n",
       "      <td>0</td>\n",
       "      <td>2</td>\n",
       "      <td>0</td>\n",
       "      <td>15</td>\n",
       "      <td>Bachelors</td>\n",
       "      <td>50</td>\n",
       "      <td>None, or less than 1 day per week</td>\n",
       "      <td>Private business</td>\n",
       "      <td>Not Asked</td>\n",
       "      <td>Not Asked</td>\n",
       "      <td>NaN</td>\n",
       "      <td>Yes, but only passively (just curious)</td>\n",
       "      <td>Not Asked</td>\n",
       "    </tr>\n",
       "    <tr>\n",
       "      <th>15</th>\n",
       "      <td>96000.0</td>\n",
       "      <td>5.0</td>\n",
       "      <td>0</td>\n",
       "      <td>5</td>\n",
       "      <td>0</td>\n",
       "      <td>100</td>\n",
       "      <td>Masters</td>\n",
       "      <td>45</td>\n",
       "      <td>1</td>\n",
       "      <td>Private business</td>\n",
       "      <td>Not Asked</td>\n",
       "      <td>Not Asked</td>\n",
       "      <td>NaN</td>\n",
       "      <td>Yes, but only passively (just curious)</td>\n",
       "      <td>Not Asked</td>\n",
       "    </tr>\n",
       "    <tr>\n",
       "      <th>17</th>\n",
       "      <td>66000.0</td>\n",
       "      <td>10.0</td>\n",
       "      <td>0</td>\n",
       "      <td>10</td>\n",
       "      <td>0</td>\n",
       "      <td>4</td>\n",
       "      <td>Associates</td>\n",
       "      <td>60</td>\n",
       "      <td>5 or more</td>\n",
       "      <td>Private business</td>\n",
       "      <td>Not Asked</td>\n",
       "      <td>Not Asked</td>\n",
       "      <td>NaN</td>\n",
       "      <td>Yes, but only passively (just curious)</td>\n",
       "      <td>Not Asked</td>\n",
       "    </tr>\n",
       "  </tbody>\n",
       "</table>\n",
       "</div>"
      ],
      "text/plain": [
       "    SalaryUSD  YearsWithThisDatabase  ManageStaff  YearsWithThisTypeOfJob  \\\n",
       "0    200000.0                   10.0            0                       5   \n",
       "12   137500.0                   16.0            0                       6   \n",
       "14    85000.0                    8.0            0                       2   \n",
       "15    96000.0                    5.0            0                       5   \n",
       "17    66000.0                   10.0            0                      10   \n",
       "\n",
       "    OtherPeopleOnYourTeam  DatabaseServers   Education  HoursWorkedPerWeek  \\\n",
       "0                       2              350     Masters                  45   \n",
       "12                      4              200        None                  55   \n",
       "14                      0               15   Bachelors                  50   \n",
       "15                      0              100     Masters                  45   \n",
       "17                      0                4  Associates                  60   \n",
       "\n",
       "               TelecommuteDaysPerWeek  EmploymentSector     Gender  \\\n",
       "0                                   1  Private business  Not Asked   \n",
       "12                          5 or more  Private business  Not Asked   \n",
       "14  None, or less than 1 day per week  Private business  Not Asked   \n",
       "15                                  1  Private business  Not Asked   \n",
       "17                          5 or more  Private business  Not Asked   \n",
       "\n",
       "   OtherJobDuties  OJD_count                    LookingForAnotherJob  \\\n",
       "0       Not Asked        NaN  Yes, but only passively (just curious)   \n",
       "12      Not Asked        NaN                                      No   \n",
       "14      Not Asked        NaN  Yes, but only passively (just curious)   \n",
       "15      Not Asked        NaN  Yes, but only passively (just curious)   \n",
       "17      Not Asked        NaN  Yes, but only passively (just curious)   \n",
       "\n",
       "   PostalCodeStates  \n",
       "0         Not Asked  \n",
       "12        Not Asked  \n",
       "14        Not Asked  \n",
       "15        Not Asked  \n",
       "17        Not Asked  "
      ]
     },
     "execution_count": 219,
     "metadata": {},
     "output_type": "execute_result"
    }
   ],
   "source": [
    "X.head()"
   ]
  },
  {
   "cell_type": "markdown",
   "metadata": {},
   "source": [
    "### Education"
   ]
  },
  {
   "cell_type": "code",
   "execution_count": 220,
   "metadata": {},
   "outputs": [],
   "source": [
    "edu_map = {\n",
    "    'None': 0,\n",
    "    'Associates': 1,\n",
    "    'Bachelors': 2,\n",
    "    'Masters': 3,\n",
    "    'Doctorate/PhD': 4\n",
    "}"
   ]
  },
  {
   "cell_type": "code",
   "execution_count": 221,
   "metadata": {},
   "outputs": [],
   "source": [
    "X.loc[:, 'Education'] = X['Education'].map(edu_map)"
   ]
  },
  {
   "cell_type": "code",
   "execution_count": 222,
   "metadata": {},
   "outputs": [
    {
     "data": {
      "text/html": [
       "<div>\n",
       "<style scoped>\n",
       "    .dataframe tbody tr th:only-of-type {\n",
       "        vertical-align: middle;\n",
       "    }\n",
       "\n",
       "    .dataframe tbody tr th {\n",
       "        vertical-align: top;\n",
       "    }\n",
       "\n",
       "    .dataframe thead th {\n",
       "        text-align: right;\n",
       "    }\n",
       "</style>\n",
       "<table border=\"1\" class=\"dataframe\">\n",
       "  <thead>\n",
       "    <tr style=\"text-align: right;\">\n",
       "      <th></th>\n",
       "      <th>SalaryUSD</th>\n",
       "      <th>YearsWithThisDatabase</th>\n",
       "      <th>ManageStaff</th>\n",
       "      <th>YearsWithThisTypeOfJob</th>\n",
       "      <th>OtherPeopleOnYourTeam</th>\n",
       "      <th>DatabaseServers</th>\n",
       "      <th>Education</th>\n",
       "      <th>HoursWorkedPerWeek</th>\n",
       "      <th>TelecommuteDaysPerWeek</th>\n",
       "      <th>EmploymentSector</th>\n",
       "      <th>Gender</th>\n",
       "      <th>OtherJobDuties</th>\n",
       "      <th>OJD_count</th>\n",
       "      <th>LookingForAnotherJob</th>\n",
       "      <th>PostalCodeStates</th>\n",
       "    </tr>\n",
       "  </thead>\n",
       "  <tbody>\n",
       "    <tr>\n",
       "      <th>0</th>\n",
       "      <td>200000.0</td>\n",
       "      <td>10.0</td>\n",
       "      <td>0</td>\n",
       "      <td>5</td>\n",
       "      <td>2</td>\n",
       "      <td>350</td>\n",
       "      <td>3</td>\n",
       "      <td>45</td>\n",
       "      <td>1</td>\n",
       "      <td>Private business</td>\n",
       "      <td>Not Asked</td>\n",
       "      <td>Not Asked</td>\n",
       "      <td>NaN</td>\n",
       "      <td>Yes, but only passively (just curious)</td>\n",
       "      <td>Not Asked</td>\n",
       "    </tr>\n",
       "    <tr>\n",
       "      <th>12</th>\n",
       "      <td>137500.0</td>\n",
       "      <td>16.0</td>\n",
       "      <td>0</td>\n",
       "      <td>6</td>\n",
       "      <td>4</td>\n",
       "      <td>200</td>\n",
       "      <td>0</td>\n",
       "      <td>55</td>\n",
       "      <td>5 or more</td>\n",
       "      <td>Private business</td>\n",
       "      <td>Not Asked</td>\n",
       "      <td>Not Asked</td>\n",
       "      <td>NaN</td>\n",
       "      <td>No</td>\n",
       "      <td>Not Asked</td>\n",
       "    </tr>\n",
       "    <tr>\n",
       "      <th>14</th>\n",
       "      <td>85000.0</td>\n",
       "      <td>8.0</td>\n",
       "      <td>0</td>\n",
       "      <td>2</td>\n",
       "      <td>0</td>\n",
       "      <td>15</td>\n",
       "      <td>2</td>\n",
       "      <td>50</td>\n",
       "      <td>None, or less than 1 day per week</td>\n",
       "      <td>Private business</td>\n",
       "      <td>Not Asked</td>\n",
       "      <td>Not Asked</td>\n",
       "      <td>NaN</td>\n",
       "      <td>Yes, but only passively (just curious)</td>\n",
       "      <td>Not Asked</td>\n",
       "    </tr>\n",
       "    <tr>\n",
       "      <th>15</th>\n",
       "      <td>96000.0</td>\n",
       "      <td>5.0</td>\n",
       "      <td>0</td>\n",
       "      <td>5</td>\n",
       "      <td>0</td>\n",
       "      <td>100</td>\n",
       "      <td>3</td>\n",
       "      <td>45</td>\n",
       "      <td>1</td>\n",
       "      <td>Private business</td>\n",
       "      <td>Not Asked</td>\n",
       "      <td>Not Asked</td>\n",
       "      <td>NaN</td>\n",
       "      <td>Yes, but only passively (just curious)</td>\n",
       "      <td>Not Asked</td>\n",
       "    </tr>\n",
       "    <tr>\n",
       "      <th>17</th>\n",
       "      <td>66000.0</td>\n",
       "      <td>10.0</td>\n",
       "      <td>0</td>\n",
       "      <td>10</td>\n",
       "      <td>0</td>\n",
       "      <td>4</td>\n",
       "      <td>1</td>\n",
       "      <td>60</td>\n",
       "      <td>5 or more</td>\n",
       "      <td>Private business</td>\n",
       "      <td>Not Asked</td>\n",
       "      <td>Not Asked</td>\n",
       "      <td>NaN</td>\n",
       "      <td>Yes, but only passively (just curious)</td>\n",
       "      <td>Not Asked</td>\n",
       "    </tr>\n",
       "  </tbody>\n",
       "</table>\n",
       "</div>"
      ],
      "text/plain": [
       "    SalaryUSD  YearsWithThisDatabase  ManageStaff  YearsWithThisTypeOfJob  \\\n",
       "0    200000.0                   10.0            0                       5   \n",
       "12   137500.0                   16.0            0                       6   \n",
       "14    85000.0                    8.0            0                       2   \n",
       "15    96000.0                    5.0            0                       5   \n",
       "17    66000.0                   10.0            0                      10   \n",
       "\n",
       "    OtherPeopleOnYourTeam  DatabaseServers  Education  HoursWorkedPerWeek  \\\n",
       "0                       2              350          3                  45   \n",
       "12                      4              200          0                  55   \n",
       "14                      0               15          2                  50   \n",
       "15                      0              100          3                  45   \n",
       "17                      0                4          1                  60   \n",
       "\n",
       "               TelecommuteDaysPerWeek  EmploymentSector     Gender  \\\n",
       "0                                   1  Private business  Not Asked   \n",
       "12                          5 or more  Private business  Not Asked   \n",
       "14  None, or less than 1 day per week  Private business  Not Asked   \n",
       "15                                  1  Private business  Not Asked   \n",
       "17                          5 or more  Private business  Not Asked   \n",
       "\n",
       "   OtherJobDuties  OJD_count                    LookingForAnotherJob  \\\n",
       "0       Not Asked        NaN  Yes, but only passively (just curious)   \n",
       "12      Not Asked        NaN                                      No   \n",
       "14      Not Asked        NaN  Yes, but only passively (just curious)   \n",
       "15      Not Asked        NaN  Yes, but only passively (just curious)   \n",
       "17      Not Asked        NaN  Yes, but only passively (just curious)   \n",
       "\n",
       "   PostalCodeStates  \n",
       "0         Not Asked  \n",
       "12        Not Asked  \n",
       "14        Not Asked  \n",
       "15        Not Asked  \n",
       "17        Not Asked  "
      ]
     },
     "execution_count": 222,
     "metadata": {},
     "output_type": "execute_result"
    }
   ],
   "source": [
    "X.head()"
   ]
  },
  {
   "cell_type": "markdown",
   "metadata": {},
   "source": [
    "### TelecommuteDaysPerWeek"
   ]
  },
  {
   "cell_type": "code",
   "execution_count": 223,
   "metadata": {},
   "outputs": [],
   "source": [
    "tele_map = {\n",
    "    'None, or less than 1 day per week': 0,\n",
    "    '1': 1,\n",
    "    '2': 2,\n",
    "    '3': 3,\n",
    "    '4': 4,\n",
    "    '5 or more': 5\n",
    "}"
   ]
  },
  {
   "cell_type": "code",
   "execution_count": 224,
   "metadata": {},
   "outputs": [],
   "source": [
    "X.loc[:, 'TelecommuteDaysPerWeek'] = X['TelecommuteDaysPerWeek'].map(tele_map)"
   ]
  },
  {
   "cell_type": "code",
   "execution_count": 225,
   "metadata": {},
   "outputs": [
    {
     "data": {
      "text/html": [
       "<div>\n",
       "<style scoped>\n",
       "    .dataframe tbody tr th:only-of-type {\n",
       "        vertical-align: middle;\n",
       "    }\n",
       "\n",
       "    .dataframe tbody tr th {\n",
       "        vertical-align: top;\n",
       "    }\n",
       "\n",
       "    .dataframe thead th {\n",
       "        text-align: right;\n",
       "    }\n",
       "</style>\n",
       "<table border=\"1\" class=\"dataframe\">\n",
       "  <thead>\n",
       "    <tr style=\"text-align: right;\">\n",
       "      <th></th>\n",
       "      <th>SalaryUSD</th>\n",
       "      <th>YearsWithThisDatabase</th>\n",
       "      <th>ManageStaff</th>\n",
       "      <th>YearsWithThisTypeOfJob</th>\n",
       "      <th>OtherPeopleOnYourTeam</th>\n",
       "      <th>DatabaseServers</th>\n",
       "      <th>Education</th>\n",
       "      <th>HoursWorkedPerWeek</th>\n",
       "      <th>TelecommuteDaysPerWeek</th>\n",
       "      <th>EmploymentSector</th>\n",
       "      <th>Gender</th>\n",
       "      <th>OtherJobDuties</th>\n",
       "      <th>OJD_count</th>\n",
       "      <th>LookingForAnotherJob</th>\n",
       "      <th>PostalCodeStates</th>\n",
       "    </tr>\n",
       "  </thead>\n",
       "  <tbody>\n",
       "    <tr>\n",
       "      <th>0</th>\n",
       "      <td>200000.0</td>\n",
       "      <td>10.0</td>\n",
       "      <td>0</td>\n",
       "      <td>5</td>\n",
       "      <td>2</td>\n",
       "      <td>350</td>\n",
       "      <td>3</td>\n",
       "      <td>45</td>\n",
       "      <td>1</td>\n",
       "      <td>Private business</td>\n",
       "      <td>Not Asked</td>\n",
       "      <td>Not Asked</td>\n",
       "      <td>NaN</td>\n",
       "      <td>Yes, but only passively (just curious)</td>\n",
       "      <td>Not Asked</td>\n",
       "    </tr>\n",
       "    <tr>\n",
       "      <th>12</th>\n",
       "      <td>137500.0</td>\n",
       "      <td>16.0</td>\n",
       "      <td>0</td>\n",
       "      <td>6</td>\n",
       "      <td>4</td>\n",
       "      <td>200</td>\n",
       "      <td>0</td>\n",
       "      <td>55</td>\n",
       "      <td>5</td>\n",
       "      <td>Private business</td>\n",
       "      <td>Not Asked</td>\n",
       "      <td>Not Asked</td>\n",
       "      <td>NaN</td>\n",
       "      <td>No</td>\n",
       "      <td>Not Asked</td>\n",
       "    </tr>\n",
       "    <tr>\n",
       "      <th>14</th>\n",
       "      <td>85000.0</td>\n",
       "      <td>8.0</td>\n",
       "      <td>0</td>\n",
       "      <td>2</td>\n",
       "      <td>0</td>\n",
       "      <td>15</td>\n",
       "      <td>2</td>\n",
       "      <td>50</td>\n",
       "      <td>0</td>\n",
       "      <td>Private business</td>\n",
       "      <td>Not Asked</td>\n",
       "      <td>Not Asked</td>\n",
       "      <td>NaN</td>\n",
       "      <td>Yes, but only passively (just curious)</td>\n",
       "      <td>Not Asked</td>\n",
       "    </tr>\n",
       "    <tr>\n",
       "      <th>15</th>\n",
       "      <td>96000.0</td>\n",
       "      <td>5.0</td>\n",
       "      <td>0</td>\n",
       "      <td>5</td>\n",
       "      <td>0</td>\n",
       "      <td>100</td>\n",
       "      <td>3</td>\n",
       "      <td>45</td>\n",
       "      <td>1</td>\n",
       "      <td>Private business</td>\n",
       "      <td>Not Asked</td>\n",
       "      <td>Not Asked</td>\n",
       "      <td>NaN</td>\n",
       "      <td>Yes, but only passively (just curious)</td>\n",
       "      <td>Not Asked</td>\n",
       "    </tr>\n",
       "    <tr>\n",
       "      <th>17</th>\n",
       "      <td>66000.0</td>\n",
       "      <td>10.0</td>\n",
       "      <td>0</td>\n",
       "      <td>10</td>\n",
       "      <td>0</td>\n",
       "      <td>4</td>\n",
       "      <td>1</td>\n",
       "      <td>60</td>\n",
       "      <td>5</td>\n",
       "      <td>Private business</td>\n",
       "      <td>Not Asked</td>\n",
       "      <td>Not Asked</td>\n",
       "      <td>NaN</td>\n",
       "      <td>Yes, but only passively (just curious)</td>\n",
       "      <td>Not Asked</td>\n",
       "    </tr>\n",
       "  </tbody>\n",
       "</table>\n",
       "</div>"
      ],
      "text/plain": [
       "    SalaryUSD  YearsWithThisDatabase  ManageStaff  YearsWithThisTypeOfJob  \\\n",
       "0    200000.0                   10.0            0                       5   \n",
       "12   137500.0                   16.0            0                       6   \n",
       "14    85000.0                    8.0            0                       2   \n",
       "15    96000.0                    5.0            0                       5   \n",
       "17    66000.0                   10.0            0                      10   \n",
       "\n",
       "    OtherPeopleOnYourTeam  DatabaseServers  Education  HoursWorkedPerWeek  \\\n",
       "0                       2              350          3                  45   \n",
       "12                      4              200          0                  55   \n",
       "14                      0               15          2                  50   \n",
       "15                      0              100          3                  45   \n",
       "17                      0                4          1                  60   \n",
       "\n",
       "    TelecommuteDaysPerWeek  EmploymentSector     Gender OtherJobDuties  \\\n",
       "0                        1  Private business  Not Asked      Not Asked   \n",
       "12                       5  Private business  Not Asked      Not Asked   \n",
       "14                       0  Private business  Not Asked      Not Asked   \n",
       "15                       1  Private business  Not Asked      Not Asked   \n",
       "17                       5  Private business  Not Asked      Not Asked   \n",
       "\n",
       "    OJD_count                    LookingForAnotherJob PostalCodeStates  \n",
       "0         NaN  Yes, but only passively (just curious)        Not Asked  \n",
       "12        NaN                                      No        Not Asked  \n",
       "14        NaN  Yes, but only passively (just curious)        Not Asked  \n",
       "15        NaN  Yes, but only passively (just curious)        Not Asked  \n",
       "17        NaN  Yes, but only passively (just curious)        Not Asked  "
      ]
     },
     "execution_count": 225,
     "metadata": {},
     "output_type": "execute_result"
    }
   ],
   "source": [
    "X.head()"
   ]
  },
  {
   "cell_type": "markdown",
   "metadata": {},
   "source": [
    "### EmploymentSector"
   ]
  },
  {
   "cell_type": "code",
   "execution_count": 74,
   "metadata": {},
   "outputs": [],
   "source": [
    "# Get dummies later\n",
    "\n",
    "# X = pd.concat([X, pd.get_dummies(X['EmploymentSector'])], axis=1)\n",
    "# X = X.drop('EmploymentSector', axis=1)"
   ]
  },
  {
   "cell_type": "code",
   "execution_count": 226,
   "metadata": {},
   "outputs": [],
   "source": [
    "sectors = X['EmploymentSector'].value_counts().index"
   ]
  },
  {
   "cell_type": "code",
   "execution_count": 227,
   "metadata": {},
   "outputs": [],
   "source": [
    "sector_map = {v: i for i, v in enumerate(sectors)}"
   ]
  },
  {
   "cell_type": "code",
   "execution_count": 230,
   "metadata": {
    "scrolled": true
   },
   "outputs": [],
   "source": [
    "X.loc[:, 'EmploymentSector'] = X['EmploymentSector'].map(sector_map)"
   ]
  },
  {
   "cell_type": "code",
   "execution_count": 231,
   "metadata": {},
   "outputs": [
    {
     "data": {
      "text/html": [
       "<div>\n",
       "<style scoped>\n",
       "    .dataframe tbody tr th:only-of-type {\n",
       "        vertical-align: middle;\n",
       "    }\n",
       "\n",
       "    .dataframe tbody tr th {\n",
       "        vertical-align: top;\n",
       "    }\n",
       "\n",
       "    .dataframe thead th {\n",
       "        text-align: right;\n",
       "    }\n",
       "</style>\n",
       "<table border=\"1\" class=\"dataframe\">\n",
       "  <thead>\n",
       "    <tr style=\"text-align: right;\">\n",
       "      <th></th>\n",
       "      <th>SalaryUSD</th>\n",
       "      <th>YearsWithThisDatabase</th>\n",
       "      <th>ManageStaff</th>\n",
       "      <th>YearsWithThisTypeOfJob</th>\n",
       "      <th>OtherPeopleOnYourTeam</th>\n",
       "      <th>DatabaseServers</th>\n",
       "      <th>Education</th>\n",
       "      <th>HoursWorkedPerWeek</th>\n",
       "      <th>TelecommuteDaysPerWeek</th>\n",
       "      <th>EmploymentSector</th>\n",
       "      <th>Gender</th>\n",
       "      <th>OtherJobDuties</th>\n",
       "      <th>OJD_count</th>\n",
       "      <th>LookingForAnotherJob</th>\n",
       "      <th>PostalCodeStates</th>\n",
       "    </tr>\n",
       "  </thead>\n",
       "  <tbody>\n",
       "    <tr>\n",
       "      <th>0</th>\n",
       "      <td>200000.0</td>\n",
       "      <td>10.0</td>\n",
       "      <td>0</td>\n",
       "      <td>5</td>\n",
       "      <td>2</td>\n",
       "      <td>350</td>\n",
       "      <td>3</td>\n",
       "      <td>45</td>\n",
       "      <td>1</td>\n",
       "      <td>0</td>\n",
       "      <td>Not Asked</td>\n",
       "      <td>Not Asked</td>\n",
       "      <td>NaN</td>\n",
       "      <td>Yes, but only passively (just curious)</td>\n",
       "      <td>Not Asked</td>\n",
       "    </tr>\n",
       "    <tr>\n",
       "      <th>12</th>\n",
       "      <td>137500.0</td>\n",
       "      <td>16.0</td>\n",
       "      <td>0</td>\n",
       "      <td>6</td>\n",
       "      <td>4</td>\n",
       "      <td>200</td>\n",
       "      <td>0</td>\n",
       "      <td>55</td>\n",
       "      <td>5</td>\n",
       "      <td>0</td>\n",
       "      <td>Not Asked</td>\n",
       "      <td>Not Asked</td>\n",
       "      <td>NaN</td>\n",
       "      <td>No</td>\n",
       "      <td>Not Asked</td>\n",
       "    </tr>\n",
       "    <tr>\n",
       "      <th>14</th>\n",
       "      <td>85000.0</td>\n",
       "      <td>8.0</td>\n",
       "      <td>0</td>\n",
       "      <td>2</td>\n",
       "      <td>0</td>\n",
       "      <td>15</td>\n",
       "      <td>2</td>\n",
       "      <td>50</td>\n",
       "      <td>0</td>\n",
       "      <td>0</td>\n",
       "      <td>Not Asked</td>\n",
       "      <td>Not Asked</td>\n",
       "      <td>NaN</td>\n",
       "      <td>Yes, but only passively (just curious)</td>\n",
       "      <td>Not Asked</td>\n",
       "    </tr>\n",
       "    <tr>\n",
       "      <th>15</th>\n",
       "      <td>96000.0</td>\n",
       "      <td>5.0</td>\n",
       "      <td>0</td>\n",
       "      <td>5</td>\n",
       "      <td>0</td>\n",
       "      <td>100</td>\n",
       "      <td>3</td>\n",
       "      <td>45</td>\n",
       "      <td>1</td>\n",
       "      <td>0</td>\n",
       "      <td>Not Asked</td>\n",
       "      <td>Not Asked</td>\n",
       "      <td>NaN</td>\n",
       "      <td>Yes, but only passively (just curious)</td>\n",
       "      <td>Not Asked</td>\n",
       "    </tr>\n",
       "    <tr>\n",
       "      <th>17</th>\n",
       "      <td>66000.0</td>\n",
       "      <td>10.0</td>\n",
       "      <td>0</td>\n",
       "      <td>10</td>\n",
       "      <td>0</td>\n",
       "      <td>4</td>\n",
       "      <td>1</td>\n",
       "      <td>60</td>\n",
       "      <td>5</td>\n",
       "      <td>0</td>\n",
       "      <td>Not Asked</td>\n",
       "      <td>Not Asked</td>\n",
       "      <td>NaN</td>\n",
       "      <td>Yes, but only passively (just curious)</td>\n",
       "      <td>Not Asked</td>\n",
       "    </tr>\n",
       "  </tbody>\n",
       "</table>\n",
       "</div>"
      ],
      "text/plain": [
       "    SalaryUSD  YearsWithThisDatabase  ManageStaff  YearsWithThisTypeOfJob  \\\n",
       "0    200000.0                   10.0            0                       5   \n",
       "12   137500.0                   16.0            0                       6   \n",
       "14    85000.0                    8.0            0                       2   \n",
       "15    96000.0                    5.0            0                       5   \n",
       "17    66000.0                   10.0            0                      10   \n",
       "\n",
       "    OtherPeopleOnYourTeam  DatabaseServers  Education  HoursWorkedPerWeek  \\\n",
       "0                       2              350          3                  45   \n",
       "12                      4              200          0                  55   \n",
       "14                      0               15          2                  50   \n",
       "15                      0              100          3                  45   \n",
       "17                      0                4          1                  60   \n",
       "\n",
       "    TelecommuteDaysPerWeek  EmploymentSector     Gender OtherJobDuties  \\\n",
       "0                        1                 0  Not Asked      Not Asked   \n",
       "12                       5                 0  Not Asked      Not Asked   \n",
       "14                       0                 0  Not Asked      Not Asked   \n",
       "15                       1                 0  Not Asked      Not Asked   \n",
       "17                       5                 0  Not Asked      Not Asked   \n",
       "\n",
       "    OJD_count                    LookingForAnotherJob PostalCodeStates  \n",
       "0         NaN  Yes, but only passively (just curious)        Not Asked  \n",
       "12        NaN                                      No        Not Asked  \n",
       "14        NaN  Yes, but only passively (just curious)        Not Asked  \n",
       "15        NaN  Yes, but only passively (just curious)        Not Asked  \n",
       "17        NaN  Yes, but only passively (just curious)        Not Asked  "
      ]
     },
     "execution_count": 231,
     "metadata": {},
     "output_type": "execute_result"
    }
   ],
   "source": [
    "X.head()"
   ]
  },
  {
   "cell_type": "markdown",
   "metadata": {},
   "source": [
    "### Gender"
   ]
  },
  {
   "cell_type": "code",
   "execution_count": 234,
   "metadata": {},
   "outputs": [],
   "source": [
    "gender_map = {\n",
    "    'Female': 0,\n",
    "    'Male': 1,\n",
    "    'Other': 3,\n",
    "    'Not Asked': np.nan\n",
    "}"
   ]
  },
  {
   "cell_type": "code",
   "execution_count": 236,
   "metadata": {},
   "outputs": [],
   "source": [
    "X.loc[:, 'Gender'] = X['Gender'].map(gender_map)"
   ]
  },
  {
   "cell_type": "markdown",
   "metadata": {},
   "source": [
    "### Other Job Duties"
   ]
  },
  {
   "cell_type": "code",
   "execution_count": 79,
   "metadata": {},
   "outputs": [],
   "source": [
    "# Created OJD count up there while trying to visualize it"
   ]
  },
  {
   "cell_type": "code",
   "execution_count": 238,
   "metadata": {},
   "outputs": [],
   "source": [
    "X = X.drop('OtherJobDuties', axis=1)"
   ]
  },
  {
   "cell_type": "code",
   "execution_count": 239,
   "metadata": {},
   "outputs": [
    {
     "data": {
      "text/html": [
       "<div>\n",
       "<style scoped>\n",
       "    .dataframe tbody tr th:only-of-type {\n",
       "        vertical-align: middle;\n",
       "    }\n",
       "\n",
       "    .dataframe tbody tr th {\n",
       "        vertical-align: top;\n",
       "    }\n",
       "\n",
       "    .dataframe thead th {\n",
       "        text-align: right;\n",
       "    }\n",
       "</style>\n",
       "<table border=\"1\" class=\"dataframe\">\n",
       "  <thead>\n",
       "    <tr style=\"text-align: right;\">\n",
       "      <th></th>\n",
       "      <th>SalaryUSD</th>\n",
       "      <th>YearsWithThisDatabase</th>\n",
       "      <th>ManageStaff</th>\n",
       "      <th>YearsWithThisTypeOfJob</th>\n",
       "      <th>OtherPeopleOnYourTeam</th>\n",
       "      <th>DatabaseServers</th>\n",
       "      <th>Education</th>\n",
       "      <th>HoursWorkedPerWeek</th>\n",
       "      <th>TelecommuteDaysPerWeek</th>\n",
       "      <th>EmploymentSector</th>\n",
       "      <th>Gender</th>\n",
       "      <th>OJD_count</th>\n",
       "      <th>LookingForAnotherJob</th>\n",
       "      <th>PostalCodeStates</th>\n",
       "    </tr>\n",
       "  </thead>\n",
       "  <tbody>\n",
       "    <tr>\n",
       "      <th>0</th>\n",
       "      <td>200000.0</td>\n",
       "      <td>10.0</td>\n",
       "      <td>0</td>\n",
       "      <td>5</td>\n",
       "      <td>2</td>\n",
       "      <td>350</td>\n",
       "      <td>3</td>\n",
       "      <td>45</td>\n",
       "      <td>1</td>\n",
       "      <td>0</td>\n",
       "      <td>NaN</td>\n",
       "      <td>NaN</td>\n",
       "      <td>Yes, but only passively (just curious)</td>\n",
       "      <td>Not Asked</td>\n",
       "    </tr>\n",
       "    <tr>\n",
       "      <th>12</th>\n",
       "      <td>137500.0</td>\n",
       "      <td>16.0</td>\n",
       "      <td>0</td>\n",
       "      <td>6</td>\n",
       "      <td>4</td>\n",
       "      <td>200</td>\n",
       "      <td>0</td>\n",
       "      <td>55</td>\n",
       "      <td>5</td>\n",
       "      <td>0</td>\n",
       "      <td>NaN</td>\n",
       "      <td>NaN</td>\n",
       "      <td>No</td>\n",
       "      <td>Not Asked</td>\n",
       "    </tr>\n",
       "    <tr>\n",
       "      <th>14</th>\n",
       "      <td>85000.0</td>\n",
       "      <td>8.0</td>\n",
       "      <td>0</td>\n",
       "      <td>2</td>\n",
       "      <td>0</td>\n",
       "      <td>15</td>\n",
       "      <td>2</td>\n",
       "      <td>50</td>\n",
       "      <td>0</td>\n",
       "      <td>0</td>\n",
       "      <td>NaN</td>\n",
       "      <td>NaN</td>\n",
       "      <td>Yes, but only passively (just curious)</td>\n",
       "      <td>Not Asked</td>\n",
       "    </tr>\n",
       "    <tr>\n",
       "      <th>15</th>\n",
       "      <td>96000.0</td>\n",
       "      <td>5.0</td>\n",
       "      <td>0</td>\n",
       "      <td>5</td>\n",
       "      <td>0</td>\n",
       "      <td>100</td>\n",
       "      <td>3</td>\n",
       "      <td>45</td>\n",
       "      <td>1</td>\n",
       "      <td>0</td>\n",
       "      <td>NaN</td>\n",
       "      <td>NaN</td>\n",
       "      <td>Yes, but only passively (just curious)</td>\n",
       "      <td>Not Asked</td>\n",
       "    </tr>\n",
       "    <tr>\n",
       "      <th>17</th>\n",
       "      <td>66000.0</td>\n",
       "      <td>10.0</td>\n",
       "      <td>0</td>\n",
       "      <td>10</td>\n",
       "      <td>0</td>\n",
       "      <td>4</td>\n",
       "      <td>1</td>\n",
       "      <td>60</td>\n",
       "      <td>5</td>\n",
       "      <td>0</td>\n",
       "      <td>NaN</td>\n",
       "      <td>NaN</td>\n",
       "      <td>Yes, but only passively (just curious)</td>\n",
       "      <td>Not Asked</td>\n",
       "    </tr>\n",
       "  </tbody>\n",
       "</table>\n",
       "</div>"
      ],
      "text/plain": [
       "    SalaryUSD  YearsWithThisDatabase  ManageStaff  YearsWithThisTypeOfJob  \\\n",
       "0    200000.0                   10.0            0                       5   \n",
       "12   137500.0                   16.0            0                       6   \n",
       "14    85000.0                    8.0            0                       2   \n",
       "15    96000.0                    5.0            0                       5   \n",
       "17    66000.0                   10.0            0                      10   \n",
       "\n",
       "    OtherPeopleOnYourTeam  DatabaseServers  Education  HoursWorkedPerWeek  \\\n",
       "0                       2              350          3                  45   \n",
       "12                      4              200          0                  55   \n",
       "14                      0               15          2                  50   \n",
       "15                      0              100          3                  45   \n",
       "17                      0                4          1                  60   \n",
       "\n",
       "    TelecommuteDaysPerWeek  EmploymentSector  Gender  OJD_count  \\\n",
       "0                        1                 0     NaN        NaN   \n",
       "12                       5                 0     NaN        NaN   \n",
       "14                       0                 0     NaN        NaN   \n",
       "15                       1                 0     NaN        NaN   \n",
       "17                       5                 0     NaN        NaN   \n",
       "\n",
       "                      LookingForAnotherJob PostalCodeStates  \n",
       "0   Yes, but only passively (just curious)        Not Asked  \n",
       "12                                      No        Not Asked  \n",
       "14  Yes, but only passively (just curious)        Not Asked  \n",
       "15  Yes, but only passively (just curious)        Not Asked  \n",
       "17  Yes, but only passively (just curious)        Not Asked  "
      ]
     },
     "execution_count": 239,
     "metadata": {},
     "output_type": "execute_result"
    }
   ],
   "source": [
    "X.head()"
   ]
  },
  {
   "cell_type": "markdown",
   "metadata": {},
   "source": [
    "### LookingForAnotherJob"
   ]
  },
  {
   "cell_type": "code",
   "execution_count": 245,
   "metadata": {},
   "outputs": [],
   "source": [
    "looking = X['LookingForAnotherJob'].value_counts().index"
   ]
  },
  {
   "cell_type": "code",
   "execution_count": 246,
   "metadata": {},
   "outputs": [],
   "source": [
    "looking_map = { v: i for i, v in enumerate(looking)}"
   ]
  },
  {
   "cell_type": "code",
   "execution_count": 249,
   "metadata": {},
   "outputs": [],
   "source": [
    "X.loc[:, 'LookingForAnotherJob'] = X['LookingForAnotherJob'].map(looking_map)"
   ]
  },
  {
   "cell_type": "code",
   "execution_count": 250,
   "metadata": {},
   "outputs": [
    {
     "name": "stdout",
     "output_type": "stream",
     "text": [
      "<class 'pandas.core.frame.DataFrame'>\n",
      "Int64Index: 4508 entries, 0 to 6891\n",
      "Data columns (total 14 columns):\n",
      " #   Column                  Non-Null Count  Dtype  \n",
      "---  ------                  --------------  -----  \n",
      " 0   SalaryUSD               4508 non-null   float64\n",
      " 1   YearsWithThisDatabase   4503 non-null   float64\n",
      " 2   ManageStaff             4508 non-null   int64  \n",
      " 3   YearsWithThisTypeOfJob  4508 non-null   int64  \n",
      " 4   OtherPeopleOnYourTeam   4508 non-null   int64  \n",
      " 5   DatabaseServers         4508 non-null   int64  \n",
      " 6   Education               4508 non-null   int64  \n",
      " 7   HoursWorkedPerWeek      4508 non-null   int64  \n",
      " 8   TelecommuteDaysPerWeek  4508 non-null   int64  \n",
      " 9   EmploymentSector        4508 non-null   int64  \n",
      " 10  Gender                  2629 non-null   float64\n",
      " 11  OJD_count               2629 non-null   float64\n",
      " 12  LookingForAnotherJob    4508 non-null   int64  \n",
      " 13  PostalCodeStates        4206 non-null   object \n",
      "dtypes: float64(4), int64(9), object(1)\n",
      "memory usage: 528.3+ KB\n"
     ]
    }
   ],
   "source": [
    "X.info()"
   ]
  },
  {
   "cell_type": "code",
   "execution_count": 251,
   "metadata": {},
   "outputs": [
    {
     "data": {
      "text/html": [
       "<div>\n",
       "<style scoped>\n",
       "    .dataframe tbody tr th:only-of-type {\n",
       "        vertical-align: middle;\n",
       "    }\n",
       "\n",
       "    .dataframe tbody tr th {\n",
       "        vertical-align: top;\n",
       "    }\n",
       "\n",
       "    .dataframe thead th {\n",
       "        text-align: right;\n",
       "    }\n",
       "</style>\n",
       "<table border=\"1\" class=\"dataframe\">\n",
       "  <thead>\n",
       "    <tr style=\"text-align: right;\">\n",
       "      <th></th>\n",
       "      <th>SalaryUSD</th>\n",
       "      <th>YearsWithThisDatabase</th>\n",
       "      <th>ManageStaff</th>\n",
       "      <th>YearsWithThisTypeOfJob</th>\n",
       "      <th>OtherPeopleOnYourTeam</th>\n",
       "      <th>DatabaseServers</th>\n",
       "      <th>Education</th>\n",
       "      <th>HoursWorkedPerWeek</th>\n",
       "      <th>TelecommuteDaysPerWeek</th>\n",
       "      <th>EmploymentSector</th>\n",
       "      <th>Gender</th>\n",
       "      <th>OJD_count</th>\n",
       "      <th>LookingForAnotherJob</th>\n",
       "      <th>PostalCodeStates</th>\n",
       "    </tr>\n",
       "  </thead>\n",
       "  <tbody>\n",
       "    <tr>\n",
       "      <th>0</th>\n",
       "      <td>200000.0</td>\n",
       "      <td>10.0</td>\n",
       "      <td>0</td>\n",
       "      <td>5</td>\n",
       "      <td>2</td>\n",
       "      <td>350</td>\n",
       "      <td>3</td>\n",
       "      <td>45</td>\n",
       "      <td>1</td>\n",
       "      <td>0</td>\n",
       "      <td>NaN</td>\n",
       "      <td>NaN</td>\n",
       "      <td>1</td>\n",
       "      <td>Not Asked</td>\n",
       "    </tr>\n",
       "    <tr>\n",
       "      <th>12</th>\n",
       "      <td>137500.0</td>\n",
       "      <td>16.0</td>\n",
       "      <td>0</td>\n",
       "      <td>6</td>\n",
       "      <td>4</td>\n",
       "      <td>200</td>\n",
       "      <td>0</td>\n",
       "      <td>55</td>\n",
       "      <td>5</td>\n",
       "      <td>0</td>\n",
       "      <td>NaN</td>\n",
       "      <td>NaN</td>\n",
       "      <td>0</td>\n",
       "      <td>Not Asked</td>\n",
       "    </tr>\n",
       "    <tr>\n",
       "      <th>14</th>\n",
       "      <td>85000.0</td>\n",
       "      <td>8.0</td>\n",
       "      <td>0</td>\n",
       "      <td>2</td>\n",
       "      <td>0</td>\n",
       "      <td>15</td>\n",
       "      <td>2</td>\n",
       "      <td>50</td>\n",
       "      <td>0</td>\n",
       "      <td>0</td>\n",
       "      <td>NaN</td>\n",
       "      <td>NaN</td>\n",
       "      <td>1</td>\n",
       "      <td>Not Asked</td>\n",
       "    </tr>\n",
       "    <tr>\n",
       "      <th>15</th>\n",
       "      <td>96000.0</td>\n",
       "      <td>5.0</td>\n",
       "      <td>0</td>\n",
       "      <td>5</td>\n",
       "      <td>0</td>\n",
       "      <td>100</td>\n",
       "      <td>3</td>\n",
       "      <td>45</td>\n",
       "      <td>1</td>\n",
       "      <td>0</td>\n",
       "      <td>NaN</td>\n",
       "      <td>NaN</td>\n",
       "      <td>1</td>\n",
       "      <td>Not Asked</td>\n",
       "    </tr>\n",
       "    <tr>\n",
       "      <th>17</th>\n",
       "      <td>66000.0</td>\n",
       "      <td>10.0</td>\n",
       "      <td>0</td>\n",
       "      <td>10</td>\n",
       "      <td>0</td>\n",
       "      <td>4</td>\n",
       "      <td>1</td>\n",
       "      <td>60</td>\n",
       "      <td>5</td>\n",
       "      <td>0</td>\n",
       "      <td>NaN</td>\n",
       "      <td>NaN</td>\n",
       "      <td>1</td>\n",
       "      <td>Not Asked</td>\n",
       "    </tr>\n",
       "  </tbody>\n",
       "</table>\n",
       "</div>"
      ],
      "text/plain": [
       "    SalaryUSD  YearsWithThisDatabase  ManageStaff  YearsWithThisTypeOfJob  \\\n",
       "0    200000.0                   10.0            0                       5   \n",
       "12   137500.0                   16.0            0                       6   \n",
       "14    85000.0                    8.0            0                       2   \n",
       "15    96000.0                    5.0            0                       5   \n",
       "17    66000.0                   10.0            0                      10   \n",
       "\n",
       "    OtherPeopleOnYourTeam  DatabaseServers  Education  HoursWorkedPerWeek  \\\n",
       "0                       2              350          3                  45   \n",
       "12                      4              200          0                  55   \n",
       "14                      0               15          2                  50   \n",
       "15                      0              100          3                  45   \n",
       "17                      0                4          1                  60   \n",
       "\n",
       "    TelecommuteDaysPerWeek  EmploymentSector  Gender  OJD_count  \\\n",
       "0                        1                 0     NaN        NaN   \n",
       "12                       5                 0     NaN        NaN   \n",
       "14                       0                 0     NaN        NaN   \n",
       "15                       1                 0     NaN        NaN   \n",
       "17                       5                 0     NaN        NaN   \n",
       "\n",
       "    LookingForAnotherJob PostalCodeStates  \n",
       "0                      1        Not Asked  \n",
       "12                     0        Not Asked  \n",
       "14                     1        Not Asked  \n",
       "15                     1        Not Asked  \n",
       "17                     1        Not Asked  "
      ]
     },
     "execution_count": 251,
     "metadata": {},
     "output_type": "execute_result"
    }
   ],
   "source": [
    "X.head()"
   ]
  },
  {
   "cell_type": "markdown",
   "metadata": {},
   "source": [
    "### More plotting for variables"
   ]
  },
  {
   "cell_type": "code",
   "execution_count": 252,
   "metadata": {},
   "outputs": [],
   "source": [
    "sl = pd.concat([X['SalaryUSD'], X['LookingForAnotherJob']], axis=1)"
   ]
  },
  {
   "cell_type": "code",
   "execution_count": 253,
   "metadata": {},
   "outputs": [],
   "source": [
    "sl_q3 = sl['SalaryUSD'].describe()['75%']\n",
    "sl_q1 = sl['SalaryUSD'].describe()['25%']\n",
    "\n",
    "sl_iqr = sl_q3 - sl_q1\n",
    "sl = sl.loc[sl.loc[((sl['SalaryUSD'] < (sl_q3 + 1.5 * sl_iqr)) & (sl['SalaryUSD'] > (sl_q1 - 1.5 * sl_iqr))), 'SalaryUSD'].index]\n",
    "\n"
   ]
  },
  {
   "cell_type": "code",
   "execution_count": 254,
   "metadata": {
    "scrolled": true
   },
   "outputs": [
    {
     "data": {
      "text/plain": [
       "<matplotlib.axes._subplots.AxesSubplot at 0x1a1ae32150>"
      ]
     },
     "execution_count": 254,
     "metadata": {},
     "output_type": "execute_result"
    },
    {
     "data": {
      "image/png": "[encoded data removed]",
      "text/plain": [
       "<Figure size 432x288 with 1 Axes>"
      ]
     },
     "metadata": {
      "needs_background": "light"
     },
     "output_type": "display_data"
    }
   ],
   "source": [
    "sns.violinplot(x='LookingForAnotherJob', y='SalaryUSD', data=sl)"
   ]
  },
  {
   "cell_type": "code",
   "execution_count": 255,
   "metadata": {},
   "outputs": [
    {
     "data": {
      "text/plain": [
       "<matplotlib.axes._subplots.AxesSubplot at 0x1a198a85d0>"
      ]
     },
     "execution_count": 255,
     "metadata": {},
     "output_type": "execute_result"
    },
    {
     "data": {
      "image/png": "[encoded data removed]",
      "text/plain": [
       "<Figure size 432x288 with 1 Axes>"
      ]
     },
     "metadata": {
      "needs_background": "light"
     },
     "output_type": "display_data"
    }
   ],
   "source": [
    "sns.violinplot(x='LookingForAnotherJob', y='HoursWorkedPerWeek', data=X)"
   ]
  },
  {
   "cell_type": "markdown",
   "metadata": {},
   "source": [
    "**Splitting into 3 groups**"
   ]
  },
  {
   "cell_type": "code",
   "execution_count": 256,
   "metadata": {},
   "outputs": [],
   "source": [
    "not_looking = X[X['LookingForAnotherJob'] == 0]\n",
    "passively_looking = X[X['LookingForAnotherJob'] == 1]\n",
    "actively_looking = X[X['LookingForAnotherJob'] == 2]"
   ]
  },
  {
   "cell_type": "markdown",
   "metadata": {},
   "source": [
    "### Testing, with a p value of 0.05"
   ]
  },
  {
   "cell_type": "code",
   "execution_count": 257,
   "metadata": {},
   "outputs": [],
   "source": [
    "import scipy.stats as stats"
   ]
  },
  {
   "cell_type": "markdown",
   "metadata": {},
   "source": [
    "#### Salary difference"
   ]
  },
  {
   "cell_type": "code",
   "execution_count": 258,
   "metadata": {},
   "outputs": [],
   "source": [
    "nl_salary = not_looking['SalaryUSD']\n",
    "pl_salary = passively_looking['SalaryUSD']\n",
    "al_salary = actively_looking['SalaryUSD']"
   ]
  },
  {
   "cell_type": "code",
   "execution_count": 259,
   "metadata": {},
   "outputs": [
    {
     "data": {
      "image/png": "[encoded data removed]",
      "text/plain": [
       "<Figure size 864x432 with 1 Axes>"
      ]
     },
     "metadata": {
      "needs_background": "light"
     },
     "output_type": "display_data"
    }
   ],
   "source": [
    "fig, ax = plt.subplots(figsize=(12, 6))\n",
    "(plot_kde(ax, nl_salary, pl_salary, al_salary, xlabel='Salary', ylabel='Frequency',\n",
    "            title='KDE of Salary'))"
   ]
  },
  {
   "cell_type": "code",
   "execution_count": 260,
   "metadata": {},
   "outputs": [],
   "source": [
    "nl_q1 = nl_salary.quantile(.25)\n",
    "nl_q3 = nl_salary.quantile(.75)\n",
    "nl_iqr = nl_q3 - nl_q1\n",
    "\n",
    "nl_mask = ((nl_salary <= nl_q3 + (1.5 * nl_iqr)) & (nl_salary >= nl_q1 - (1.5 * nl_iqr)))\n",
    "\n",
    "pl_q1 = pl_salary.quantile(.25)\n",
    "pl_q3 = pl_salary.quantile(.75)\n",
    "pl_iqr = pl_q3 - pl_q1\n",
    "\n",
    "pl_mask = ((pl_salary <= pl_q3 + (1.5 * pl_iqr)) & (pl_salary >= pl_q1 - (1.5 * pl_iqr)))\n",
    "\n",
    "al_q1 = al_salary.quantile(.25)\n",
    "al_q3 = al_salary.quantile(.75)\n",
    "al_iqr = al_q3 - al_q1\n",
    "\n",
    "al_mask = ((al_salary <= al_q3 + (1.5 * al_iqr)) & (al_salary >= al_q1 - (1.5 * al_iqr)))\n",
    "\n"
   ]
  },
  {
   "cell_type": "code",
   "execution_count": 261,
   "metadata": {},
   "outputs": [],
   "source": [
    "nl_adj = nl_salary[nl_mask]\n",
    "pl_adj = pl_salary[pl_mask]\n",
    "al_adj = al_salary[al_mask]"
   ]
  },
  {
   "cell_type": "code",
   "execution_count": 262,
   "metadata": {},
   "outputs": [
    {
     "data": {
      "image/png": "[encoded data removed]",
      "text/plain": [
       "<Figure size 864x432 with 1 Axes>"
      ]
     },
     "metadata": {
      "needs_background": "light"
     },
     "output_type": "display_data"
    }
   ],
   "source": [
    "fig, ax = plt.subplots(figsize=(12, 6))\n",
    "(plot_kde(ax, nl_adj, pl_adj, al_adj, xlabel='Salary Adj.', ylabel='Frequency',\n",
    "            title='KDE of Salary Adj'))"
   ]
  },
  {
   "cell_type": "code",
   "execution_count": 263,
   "metadata": {},
   "outputs": [
    {
     "data": {
      "text/plain": [
       "(('nl, pl', 0.0050872592302549716),\n",
       " ('pl, al', 0.10604738596970431),\n",
       " ('nl, al', 0.00024136075989482922))"
      ]
     },
     "execution_count": 263,
     "metadata": {},
     "output_type": "execute_result"
    }
   ],
   "source": [
    "samps_ttest(not_looking['SalaryUSD'], passively_looking['SalaryUSD'], actively_looking['SalaryUSD'])"
   ]
  },
  {
   "cell_type": "code",
   "execution_count": 264,
   "metadata": {},
   "outputs": [
    {
     "data": {
      "text/plain": [
       "(('nl, pl', 3.706378998902741e-05),\n",
       " ('pl, al', 0.22117481672058284),\n",
       " ('nl, al', 0.002313316350332261))"
      ]
     },
     "execution_count": 264,
     "metadata": {},
     "output_type": "execute_result"
    }
   ],
   "source": [
    "samps_ttest(nl_adj, pl_adj, al_adj)"
   ]
  },
  {
   "cell_type": "code",
   "execution_count": null,
   "metadata": {},
   "outputs": [],
   "source": [
    "# Not usable due to unequal sample size of actively looking compared to not and passively looking\n",
    "# stats.f_oneway(nl_adj, pl_adj, al_adj)"
   ]
  },
  {
   "cell_type": "markdown",
   "metadata": {},
   "source": [
    "**Years With This Database**"
   ]
  },
  {
   "cell_type": "code",
   "execution_count": 265,
   "metadata": {},
   "outputs": [],
   "source": [
    "nl_yrdb = not_looking['YearsWithThisDatabase']\n",
    "pl_yrdb = passively_looking['YearsWithThisDatabase']\n",
    "al_yrdb = actively_looking['YearsWithThisDatabase']"
   ]
  },
  {
   "cell_type": "code",
   "execution_count": 266,
   "metadata": {},
   "outputs": [
    {
     "data": {
      "image/png": "[encoded data removed]",
      "text/plain": [
       "<Figure size 864x432 with 1 Axes>"
      ]
     },
     "metadata": {
      "needs_background": "light"
     },
     "output_type": "display_data"
    }
   ],
   "source": [
    "fig, ax = plt.subplots(figsize=(12, 6))\n",
    "(plot_kde(ax, nl_yrdb, pl_yrdb, al_yrdb, xlabel='Years With This Database', ylabel='Frequency',\n",
    "            title='KDE of Years With This Database'))"
   ]
  },
  {
   "cell_type": "code",
   "execution_count": 267,
   "metadata": {},
   "outputs": [
    {
     "data": {
      "text/plain": [
       "(('nl, pl', 0.004014591507134288),\n",
       " ('pl, al', 0.313014490260527),\n",
       " ('nl, al', 0.038738534681703254))"
      ]
     },
     "execution_count": 267,
     "metadata": {},
     "output_type": "execute_result"
    }
   ],
   "source": [
    "samps_mwu(nl_yrdb, pl_yrdb, al_yrdb)"
   ]
  },
  {
   "cell_type": "markdown",
   "metadata": {},
   "source": [
    "**Manage Staff difference**"
   ]
  },
  {
   "cell_type": "code",
   "execution_count": 268,
   "metadata": {},
   "outputs": [],
   "source": [
    "nl_ms = not_looking['ManageStaff']\n",
    "pl_ms = passively_looking['ManageStaff']\n",
    "al_ms = actively_looking['ManageStaff']"
   ]
  },
  {
   "cell_type": "code",
   "execution_count": 269,
   "metadata": {},
   "outputs": [],
   "source": [
    "p = samps_chi2(nl_ms, pl_ms, al_ms)"
   ]
  },
  {
   "cell_type": "code",
   "execution_count": 270,
   "metadata": {},
   "outputs": [
    {
     "name": "stdout",
     "output_type": "stream",
     "text": [
      "Fail to reject null\n"
     ]
    }
   ],
   "source": [
    "if 0.05 > p:\n",
    "    print('Reject null')\n",
    "else:\n",
    "    print('Fail to reject null')"
   ]
  },
  {
   "cell_type": "markdown",
   "metadata": {},
   "source": [
    "**Years With This Type of Job**"
   ]
  },
  {
   "cell_type": "code",
   "execution_count": 271,
   "metadata": {},
   "outputs": [],
   "source": [
    "nl_yrjob = not_looking['YearsWithThisTypeOfJob']\n",
    "pl_yrjob = passively_looking['YearsWithThisTypeOfJob']\n",
    "al_yrjob = actively_looking['YearsWithThisTypeOfJob']"
   ]
  },
  {
   "cell_type": "code",
   "execution_count": 272,
   "metadata": {},
   "outputs": [
    {
     "data": {
      "image/png": "[encoded data removed]",
      "text/plain": [
       "<Figure size 864x432 with 1 Axes>"
      ]
     },
     "metadata": {
      "needs_background": "light"
     },
     "output_type": "display_data"
    }
   ],
   "source": [
    "fig, ax = plt.subplots(figsize=(12, 6))\n",
    "(plot_kde(ax, nl_yrjob, pl_yrjob, al_yrjob, xlabel='Years With This Type of Job', ylabel='Frequency',\n",
    "            title='KDE of Years With This Type of Job'))"
   ]
  },
  {
   "cell_type": "code",
   "execution_count": 273,
   "metadata": {},
   "outputs": [
    {
     "data": {
      "text/plain": [
       "(('nl, pl', 0.2693892605440542),\n",
       " ('pl, al', 0.43486830424286727),\n",
       " ('nl, al', 0.3123631125279852))"
      ]
     },
     "execution_count": 273,
     "metadata": {},
     "output_type": "execute_result"
    }
   ],
   "source": [
    "samps_mwu(nl_yrjob, pl_yrjob, al_yrjob)"
   ]
  },
  {
   "cell_type": "markdown",
   "metadata": {},
   "source": [
    "**Other People On Your Team difference**"
   ]
  },
  {
   "cell_type": "code",
   "execution_count": 274,
   "metadata": {},
   "outputs": [],
   "source": [
    "nl_people = not_looking['OtherPeopleOnYourTeam']\n",
    "pl_people = passively_looking['OtherPeopleOnYourTeam']\n",
    "al_people = actively_looking['OtherPeopleOnYourTeam']"
   ]
  },
  {
   "cell_type": "code",
   "execution_count": 275,
   "metadata": {},
   "outputs": [],
   "source": [
    "p = samps_chi2(nl_people, pl_people, al_people)"
   ]
  },
  {
   "cell_type": "code",
   "execution_count": 276,
   "metadata": {
    "scrolled": false
   },
   "outputs": [
    {
     "name": "stdout",
     "output_type": "stream",
     "text": [
      "Fail to reject null\n"
     ]
    }
   ],
   "source": [
    "if 0.05 > p:\n",
    "    print('Reject null')\n",
    "else:\n",
    "    print('Fail to reject null')"
   ]
  },
  {
   "cell_type": "markdown",
   "metadata": {},
   "source": [
    "**Education difference**"
   ]
  },
  {
   "cell_type": "code",
   "execution_count": 427,
   "metadata": {},
   "outputs": [],
   "source": [
    "nl_edu = not_looking['Education']\n",
    "pl_edu = passively_looking['Education']\n",
    "al_edu = actively_looking['Education']"
   ]
  },
  {
   "cell_type": "code",
   "execution_count": 428,
   "metadata": {},
   "outputs": [],
   "source": [
    "p = samps_chi2(nl_edu, pl_edu, al_edu)"
   ]
  },
  {
   "cell_type": "code",
   "execution_count": 429,
   "metadata": {
    "scrolled": true
   },
   "outputs": [
    {
     "name": "stdout",
     "output_type": "stream",
     "text": [
      "Fail to reject null\n"
     ]
    }
   ],
   "source": [
    "if 0.05 > p:\n",
    "    print('Reject null')\n",
    "else:\n",
    "    print('Fail to reject null')"
   ]
  },
  {
   "cell_type": "markdown",
   "metadata": {},
   "source": [
    "**Hours of Work Per Week difference**"
   ]
  },
  {
   "cell_type": "code",
   "execution_count": 374,
   "metadata": {},
   "outputs": [],
   "source": [
    "nl_hours = not_looking['HoursWorkedPerWeek']\n",
    "pl_hours = passively_looking['HoursWorkedPerWeek']\n",
    "al_hours = actively_looking['HoursWorkedPerWeek']"
   ]
  },
  {
   "cell_type": "code",
   "execution_count": 375,
   "metadata": {},
   "outputs": [
    {
     "data": {
      "image/png": "[encoded data removed]",
      "text/plain": [
       "<Figure size 864x432 with 1 Axes>"
      ]
     },
     "metadata": {
      "needs_background": "light"
     },
     "output_type": "display_data"
    }
   ],
   "source": [
    "fig, ax = plt.subplots(figsize=(12, 6))\n",
    "(plot_kde(ax, nl_hours, pl_hours, al_hours, xlabel='Number of Hours', ylabel='Frequency',\n",
    "            title='KDE of Hours Worked Per Week'))"
   ]
  },
  {
   "cell_type": "code",
   "execution_count": 376,
   "metadata": {},
   "outputs": [
    {
     "data": {
      "text/plain": [
       "F_onewayResult(statistic=6.362037188734979, pvalue=0.001741393726688014)"
      ]
     },
     "execution_count": 376,
     "metadata": {},
     "output_type": "execute_result"
    }
   ],
   "source": [
    "stats.f_oneway(nl_hours, pl_hours, al_hours)"
   ]
  },
  {
   "cell_type": "code",
   "execution_count": 377,
   "metadata": {},
   "outputs": [
    {
     "data": {
      "text/plain": [
       "(('nl, pl', 0.00021368578539696515),\n",
       " ('pl, al', 0.32743508474272764),\n",
       " ('nl, al', 0.09966110859741123))"
      ]
     },
     "execution_count": 377,
     "metadata": {},
     "output_type": "execute_result"
    }
   ],
   "source": [
    "samps_mwu(nl_hours, pl_hours, al_hours)"
   ]
  },
  {
   "cell_type": "markdown",
   "metadata": {},
   "source": [
    "**TelecommuteDaysPerWeek**"
   ]
  },
  {
   "cell_type": "code",
   "execution_count": 439,
   "metadata": {},
   "outputs": [],
   "source": [
    "nl_tele = not_looking['TelecommuteDaysPerWeek']\n",
    "pl_tele = passively_looking['TelecommuteDaysPerWeek']\n",
    "al_tele = actively_looking['TelecommuteDaysPerWeek']"
   ]
  },
  {
   "cell_type": "code",
   "execution_count": 440,
   "metadata": {},
   "outputs": [],
   "source": [
    "p = samps_chi2(nl_tele, pl_tele, al_tele)"
   ]
  },
  {
   "cell_type": "code",
   "execution_count": 441,
   "metadata": {
    "scrolled": false
   },
   "outputs": [
    {
     "name": "stdout",
     "output_type": "stream",
     "text": [
      "Fail to reject null\n"
     ]
    }
   ],
   "source": [
    "if 0.05 > p:\n",
    "    print('Reject null')\n",
    "else:\n",
    "    print('Fail to reject null')"
   ]
  },
  {
   "cell_type": "markdown",
   "metadata": {},
   "source": [
    "**EmploymentSector**"
   ]
  },
  {
   "cell_type": "code",
   "execution_count": 436,
   "metadata": {},
   "outputs": [],
   "source": [
    "nl_emp = not_looking['EmploymentSector']\n",
    "pl_emp = passively_looking['EmploymentSector']\n",
    "al_emp = actively_looking['EmploymentSector']"
   ]
  },
  {
   "cell_type": "code",
   "execution_count": 437,
   "metadata": {},
   "outputs": [],
   "source": [
    "p = samps_chi2(nl_emp, pl_emp, al_emp)"
   ]
  },
  {
   "cell_type": "code",
   "execution_count": 438,
   "metadata": {
    "scrolled": false
   },
   "outputs": [
    {
     "name": "stdout",
     "output_type": "stream",
     "text": [
      "Fail to reject null\n"
     ]
    }
   ],
   "source": [
    "if 0.05 > p:\n",
    "    print('Reject null')\n",
    "else:\n",
    "    print('Fail to reject null')"
   ]
  },
  {
   "cell_type": "markdown",
   "metadata": {},
   "source": [
    "### Gender"
   ]
  },
  {
   "cell_type": "code",
   "execution_count": 444,
   "metadata": {},
   "outputs": [],
   "source": [
    "nl_gender = not_looking['Gender']\n",
    "pl_gender = passively_looking['Gender']\n",
    "al_gender = actively_looking['Gender']"
   ]
  },
  {
   "cell_type": "code",
   "execution_count": 445,
   "metadata": {},
   "outputs": [],
   "source": [
    "p = samps_chi2(nl_gender, pl_gender, al_gender)"
   ]
  },
  {
   "cell_type": "code",
   "execution_count": 446,
   "metadata": {
    "scrolled": true
   },
   "outputs": [
    {
     "name": "stdout",
     "output_type": "stream",
     "text": [
      "Fail to reject null\n"
     ]
    }
   ],
   "source": [
    "if 0.05 > p:\n",
    "    print('Reject null')\n",
    "else:\n",
    "    print('Fail to reject null')"
   ]
  },
  {
   "cell_type": "markdown",
   "metadata": {},
   "source": [
    "### OJD count"
   ]
  },
  {
   "cell_type": "code",
   "execution_count": 448,
   "metadata": {},
   "outputs": [],
   "source": [
    "nl_ojd = not_looking['OJD_count']\n",
    "pl_ojd = passively_looking['OJD_count']\n",
    "al_ojd = actively_looking['OJD_count']"
   ]
  },
  {
   "cell_type": "code",
   "execution_count": 449,
   "metadata": {},
   "outputs": [],
   "source": [
    "p = samps_chi2(nl_ojd, pl_ojd, al_ojd)"
   ]
  },
  {
   "cell_type": "code",
   "execution_count": 450,
   "metadata": {
    "scrolled": true
   },
   "outputs": [
    {
     "name": "stdout",
     "output_type": "stream",
     "text": [
      "Fail to reject null\n"
     ]
    }
   ],
   "source": [
    "if 0.05 > p:\n",
    "    print('Reject null')\n",
    "else:\n",
    "    print('Fail to reject null')"
   ]
  },
  {
   "cell_type": "markdown",
   "metadata": {},
   "source": [
    "### Future plans"
   ]
  },
  {
   "cell_type": "code",
   "execution_count": null,
   "metadata": {},
   "outputs": [],
   "source": [
    "# countries_more_than_ten = countries.index[countries > 10]\n",
    "# df = df[df['Country'].isin(countries_more_than_ten)]\n",
    "# df.head()"
   ]
  },
  {
   "cell_type": "code",
   "execution_count": null,
   "metadata": {},
   "outputs": [],
   "source": []
  },
  {
   "cell_type": "code",
   "execution_count": null,
   "metadata": {},
   "outputs": [],
   "source": []
  },
  {
   "cell_type": "markdown",
   "metadata": {},
   "source": [
    "### Predictive pipelines"
   ]
  },
  {
   "cell_type": "code",
   "execution_count": null,
   "metadata": {},
   "outputs": [],
   "source": []
  },
  {
   "cell_type": "code",
   "execution_count": null,
   "metadata": {},
   "outputs": [],
   "source": []
  }
 ],
 "metadata": {
  "kernelspec": {
   "display_name": "Python 3",
   "language": "python",
   "name": "python3"
  },
  "language_info": {
   "codemirror_mode": {
    "name": "ipython",
    "version": 3
   },
   "file_extension": ".py",
   "mimetype": "text/x-python",
   "name": "python",
   "nbconvert_exporter": "python",
   "pygments_lexer": "ipython3",
   "version": "3.7.4"
  }
 },
 "nbformat": 4,
 "nbformat_minor": 2
}
