{
 "cells": [
  {
   "cell_type": "code",
   "execution_count": 204,
   "metadata": {},
   "outputs": [],
   "source": [
    "import pandas as pd\n",
    "import numpy as np\n",
    "import json\n",
    "# import psycopg2\n",
    "# from sqlalchemy import create_engine\n",
    "# import os\n",
    "# from dotenv import load_dotenv\n",
    "# load_dotenv()\n",
    "\n",
    "# from script.database_pipeline import Pipeline\n",
    "from script.helper import *\n",
    "\n",
    "import seaborn as sns\n",
    "import matplotlib.pyplot as plt\n",
    "\n",
    "sns.set_style('darkgrid')"
   ]
  },
  {
   "cell_type": "code",
   "execution_count": null,
   "metadata": {},
   "outputs": [],
   "source": [
    "%load_ext autoreload\n",
    "%autoreload 2\n",
    "%matplotlib inline"
   ]
  },
  {
   "cell_type": "markdown",
   "metadata": {},
   "source": [
    "### Setting up DB"
   ]
  },
  {
   "cell_type": "markdown",
   "metadata": {},
   "source": [
    "**Decided to put database on hold**"
   ]
  },
  {
   "cell_type": "code",
   "execution_count": null,
   "metadata": {
    "scrolled": true
   },
   "outputs": [],
   "source": [
    "# username = os.getenv('PSQL_USER')\n",
    "# password = os.getenv('PASS')\n",
    "# host = os.getenv('HOST')\n",
    "# port = os.getenv('PORT')\n",
    "\n",
    "# db_url = (f\"postgresql+psycopg2://{username}:{password}@{host}:{port}/data_prof\")"
   ]
  },
  {
   "cell_type": "code",
   "execution_count": null,
   "metadata": {},
   "outputs": [],
   "source": [
    "# engine = create_engine(db_url)"
   ]
  },
  {
   "cell_type": "code",
   "execution_count": null,
   "metadata": {},
   "outputs": [],
   "source": [
    "# Converted into a csv\n",
    "df = pd.read_csv('ds_2019.csv')"
   ]
  },
  {
   "cell_type": "code",
   "execution_count": null,
   "metadata": {},
   "outputs": [],
   "source": [
    "# pipe = Pipeline(engine)\n",
    "# pipe.add_table(df, 'og')"
   ]
  },
  {
   "cell_type": "markdown",
   "metadata": {},
   "source": [
    "### EDA\n",
    "\n",
    "Exploring and cleaning"
   ]
  },
  {
   "cell_type": "code",
   "execution_count": null,
   "metadata": {},
   "outputs": [],
   "source": [
    "df.head()"
   ]
  },
  {
   "cell_type": "code",
   "execution_count": null,
   "metadata": {
    "scrolled": false
   },
   "outputs": [],
   "source": [
    "df.info()"
   ]
  },
  {
   "cell_type": "code",
   "execution_count": null,
   "metadata": {},
   "outputs": [],
   "source": [
    "df.isna().mean()"
   ]
  },
  {
   "cell_type": "code",
   "execution_count": null,
   "metadata": {},
   "outputs": [],
   "source": [
    "countries = df['Country'].value_counts()\n",
    "countries.head()"
   ]
  },
  {
   "cell_type": "markdown",
   "metadata": {},
   "source": [
    "### Looking at US to start with\n",
    "\n",
    "since majority of the data is in US"
   ]
  },
  {
   "cell_type": "code",
   "execution_count": null,
   "metadata": {},
   "outputs": [],
   "source": [
    "us = df[df['Country'] == 'United States'].copy()"
   ]
  },
  {
   "cell_type": "code",
   "execution_count": null,
   "metadata": {},
   "outputs": [],
   "source": [
    "us.isna().mean()"
   ]
  },
  {
   "cell_type": "code",
   "execution_count": null,
   "metadata": {},
   "outputs": [],
   "source": [
    "(us == 'Not Asked').mean(axis=0)"
   ]
  },
  {
   "cell_type": "code",
   "execution_count": null,
   "metadata": {},
   "outputs": [],
   "source": [
    "us[us['CareerPlansThisYear'] == 'Not Asked']['Survey Year'].value_counts()"
   ]
  },
  {
   "cell_type": "code",
   "execution_count": null,
   "metadata": {},
   "outputs": [],
   "source": [
    "features = ['SalaryUSD', 'YearsWithThisDatabase', 'ManageStaff', 'YearsWithThisTypeOfJob', 'OtherPeopleOnYourTeam', \\\n",
    "            'DatabaseServers', 'Education', 'HoursWorkedPerWeek', 'TelecommuteDaysPerWeek', 'EmploymentSector', \\\n",
    "            'Gender', 'OtherJobDuties']\n",
    "target = ['LookingForAnotherJob']"
   ]
  },
  {
   "cell_type": "markdown",
   "metadata": {},
   "source": [
    "### Salary"
   ]
  },
  {
   "cell_type": "code",
   "execution_count": null,
   "metadata": {},
   "outputs": [],
   "source": [
    "us_cleaned = us.copy()"
   ]
  },
  {
   "cell_type": "code",
   "execution_count": null,
   "metadata": {
    "scrolled": true
   },
   "outputs": [],
   "source": [
    "us_cleaned.loc[:, 'SalaryUSD'] = us['SalaryUSD'].apply(str).replace(',|\\s+', '', regex=True).astype(float)"
   ]
  },
  {
   "cell_type": "code",
   "execution_count": null,
   "metadata": {},
   "outputs": [],
   "source": [
    "us_cleaned['SalaryUSD'].describe()"
   ]
  },
  {
   "cell_type": "code",
   "execution_count": null,
   "metadata": {},
   "outputs": [],
   "source": [
    "fig, ax = plt.subplots(figsize=(12, 6))\n",
    "(plot_quant(ax, us_cleaned['SalaryUSD'], xlabel='Salary not adj.', ylabel='Frequency',\n",
    "                 title='Frequency of Salary, not adj.', shade=True))"
   ]
  },
  {
   "cell_type": "markdown",
   "metadata": {},
   "source": [
    "### Remove salary outliers"
   ]
  },
  {
   "cell_type": "code",
   "execution_count": null,
   "metadata": {},
   "outputs": [],
   "source": [
    "salary = us_cleaned['SalaryUSD']"
   ]
  },
  {
   "cell_type": "code",
   "execution_count": null,
   "metadata": {},
   "outputs": [],
   "source": [
    "salary.describe()"
   ]
  },
  {
   "cell_type": "code",
   "execution_count": null,
   "metadata": {},
   "outputs": [],
   "source": [
    "salary_q3 = salary.quantile(.75)\n",
    "salary_q1 = salary.quantile(.25)\n",
    "\n",
    "salary_iqr = salary_q3 - salary_q1\n",
    "salary_adj = salary[(salary < (salary_q3 + 1.5 * salary_iqr)) & (salary > (salary_q1 - 1.5 * salary_iqr))]"
   ]
  },
  {
   "cell_type": "code",
   "execution_count": null,
   "metadata": {
    "scrolled": false
   },
   "outputs": [],
   "source": [
    "fig, ax = plt.subplots(figsize=(12, 6))\n",
    "(plot_quant(ax, salary_adj, xlabel='Salary adj.', ylabel='Frequency',\n",
    "                 title='Distribution of Salary adj.', shade=True))"
   ]
  },
  {
   "cell_type": "markdown",
   "metadata": {},
   "source": [
    "### Postal Code"
   ]
  },
  {
   "cell_type": "code",
   "execution_count": 658,
   "metadata": {
    "scrolled": true
   },
   "outputs": [
    {
     "data": {
      "text/plain": [
       "0       Not Asked\n",
       "12      Not Asked\n",
       "14      Not Asked\n",
       "15      Not Asked\n",
       "17      Not Asked\n",
       "          ...    \n",
       "6883        44122\n",
       "6884        29201\n",
       "6886        03873\n",
       "6887        50266\n",
       "6891        49506\n",
       "Name: PostalCode, Length: 4509, dtype: object"
      ]
     },
     "execution_count": 658,
     "metadata": {},
     "output_type": "execute_result"
    }
   ],
   "source": [
    "us_cleaned['PostalCode']"
   ]
  },
  {
   "cell_type": "code",
   "execution_count": 450,
   "metadata": {},
   "outputs": [],
   "source": [
    "pc = us_cleaned.loc[(us_cleaned['PostalCode'] != 'Not Asked'), 'PostalCode'].values"
   ]
  },
  {
   "cell_type": "code",
   "execution_count": 680,
   "metadata": {},
   "outputs": [],
   "source": [
    "with open('postcodeclean.json', 'r') as f:\n",
    "    results_combined = json.load(f)"
   ]
  },
  {
   "cell_type": "code",
   "execution_count": 660,
   "metadata": {},
   "outputs": [],
   "source": [
    "def map_zipcode(row):\n",
    "    if row in results_combined:\n",
    "        return results_combined[row]\n",
    "    elif row == 'WI':\n",
    "        return 'Wisconsin'\n",
    "    elif row == 'DC':\n",
    "        return 'District of Columbia'\n",
    "    return row"
   ]
  },
  {
   "cell_type": "code",
   "execution_count": 668,
   "metadata": {},
   "outputs": [],
   "source": [
    "us_cleaned.loc[:, 'PostalCodeStates'] = us['PostalCode'].apply(map_zipcode)"
   ]
  },
  {
   "cell_type": "code",
   "execution_count": null,
   "metadata": {},
   "outputs": [],
   "source": []
  },
  {
   "cell_type": "code",
   "execution_count": 682,
   "metadata": {
    "scrolled": true
   },
   "outputs": [
    {
     "data": {
      "text/plain": [
       "Not Asked               1879\n",
       "California               208\n",
       "Texas                    194\n",
       "Washington               122\n",
       "Illinois                 122\n",
       "Pennsylvania             114\n",
       "Florida                  106\n",
       "Ohio                      98\n",
       "New York                  85\n",
       "Colorado                  85\n",
       "Minnesota                 85\n",
       "Wisconsin                 76\n",
       "Georgia                   75\n",
       "North Carolina            74\n",
       "Missouri                  69\n",
       "Michigan                  60\n",
       "Arizona                   59\n",
       "Oregon                    57\n",
       "Tennessee                 53\n",
       "Indiana                   52\n",
       "Virginia                  51\n",
       "Massachusetts             49\n",
       "Utah                      41\n",
       "Maryland                  36\n",
       "Kansas                    35\n",
       "Iowa                      32\n",
       "New Jersey                27\n",
       "South Carolina            25\n",
       "Oklahoma                  24\n",
       "Kentucky                  21\n",
       "Idaho                     18\n",
       "New Hampshire             17\n",
       "Connecticut               17\n",
       "Arkansas                  16\n",
       "Nebraska                  15\n",
       "Nevada                    15\n",
       "Maine                     14\n",
       "Louisiana                 11\n",
       "Alabama                   11\n",
       "Montana                    9\n",
       "Vermont                    7\n",
       "New Mexico                 6\n",
       "District of Columbia       6\n",
       "Alaska                     6\n",
       "Hawaii                     6\n",
       "Mississippi                4\n",
       "Rhode Island               3\n",
       "North Dakota               3\n",
       "Philadelphia               2\n",
       "West Virginia              2\n",
       "DC                         1\n",
       "Massachusett               1\n",
       "WI                         1\n",
       "Wyoming                    1\n",
       "South Dakota               1\n",
       "Name: PostalCodeStates, dtype: int64"
      ]
     },
     "execution_count": 682,
     "metadata": {},
     "output_type": "execute_result"
    }
   ],
   "source": [
    "us_cleaned['PostalCodeStates'].value_counts()"
   ]
  },
  {
   "cell_type": "markdown",
   "metadata": {},
   "source": [
    "### Years with this database"
   ]
  },
  {
   "cell_type": "code",
   "execution_count": null,
   "metadata": {
    "scrolled": true
   },
   "outputs": [],
   "source": [
    "us['YearsWithThisDatabase'].value_counts().sort_index()"
   ]
  },
  {
   "cell_type": "code",
   "execution_count": null,
   "metadata": {},
   "outputs": [],
   "source": [
    "us_cleaned.loc[:, 'YearsWithThisDatabase'] = us.loc[us['YearsWithThisDatabase'] < 100, 'YearsWithThisDatabase']"
   ]
  },
  {
   "cell_type": "code",
   "execution_count": null,
   "metadata": {},
   "outputs": [],
   "source": [
    "year_db = us_cleaned['YearsWithThisDatabase']"
   ]
  },
  {
   "cell_type": "code",
   "execution_count": null,
   "metadata": {},
   "outputs": [],
   "source": [
    "yeardb_q3 = year_db.describe()['75%']\n",
    "yeardb_q1 = year_db.describe()['25%']\n",
    "\n",
    "yeardb_iqr = yeardb_q3 - yeardb_q1\n",
    "yeardb_adj = year_db[(year_db < (yeardb_q3 + 1.5 * yeardb_iqr)) & (year_db > (yeardb_q1 - 1.5 * yeardb_iqr))]"
   ]
  },
  {
   "cell_type": "code",
   "execution_count": null,
   "metadata": {},
   "outputs": [],
   "source": [
    "fig, ax = plt.subplots(figsize=(12, 6))\n",
    "(plot_quant(ax, yeardb_adj, xlabel='Years with Database', ylabel='Frequency',\n",
    "                 title='Distribution of Years with Database', shade=True))"
   ]
  },
  {
   "cell_type": "markdown",
   "metadata": {},
   "source": [
    "### Manage Staff"
   ]
  },
  {
   "cell_type": "code",
   "execution_count": null,
   "metadata": {
    "scrolled": false
   },
   "outputs": [],
   "source": [
    "us_cleaned['ManageStaff'].value_counts()"
   ]
  },
  {
   "cell_type": "code",
   "execution_count": null,
   "metadata": {},
   "outputs": [],
   "source": [
    "fig, ax = plt.subplots(figsize=(12, 6))\n",
    "(plot_cat(ax, 'ManageStaff', us, xlabel='Manage Staff?', ylabel='Frequency', \n",
    "              title='Number of People Managing Staff'))"
   ]
  },
  {
   "cell_type": "markdown",
   "metadata": {},
   "source": [
    "### Years With This Type of Job"
   ]
  },
  {
   "cell_type": "code",
   "execution_count": null,
   "metadata": {
    "scrolled": true
   },
   "outputs": [],
   "source": [
    "us_cleaned['YearsWithThisTypeOfJob'].value_counts().sort_index()"
   ]
  },
  {
   "cell_type": "code",
   "execution_count": null,
   "metadata": {},
   "outputs": [],
   "source": [
    "fig, ax = plt.subplots(figsize=(12, 6))\n",
    "(plot_quant(ax, us_cleaned['YearsWithThisTypeOfJob'], xlabel='Years With This Type of Job', ylabel='Frequency',\n",
    "                        title='Frequency of Years With This Type of Job', shade=True))"
   ]
  },
  {
   "cell_type": "markdown",
   "metadata": {},
   "source": [
    "### Amount of Others on Your Team"
   ]
  },
  {
   "cell_type": "markdown",
   "metadata": {},
   "source": [
    "Label Encode ordinality"
   ]
  },
  {
   "cell_type": "code",
   "execution_count": null,
   "metadata": {
    "scrolled": true
   },
   "outputs": [],
   "source": [
    "us_cleaned['OtherPeopleOnYourTeam'].value_counts()"
   ]
  },
  {
   "cell_type": "code",
   "execution_count": null,
   "metadata": {},
   "outputs": [],
   "source": [
    "fig, ax = plt.subplots(figsize=(12, 6))\n",
    "\n",
    "(plot_cat(ax, 'OtherPeopleOnYourTeam', us_cleaned, xlabel='Number of People on the Team', ylabel='Frequency',\n",
    "        title='Frequency of Number of Teammates', order=us['OtherPeopleOnYourTeam'].value_counts().sort_index().index))\n",
    "\n"
   ]
  },
  {
   "cell_type": "markdown",
   "metadata": {},
   "source": [
    "### Education Level"
   ]
  },
  {
   "cell_type": "markdown",
   "metadata": {},
   "source": [
    "Label Encode ordinality"
   ]
  },
  {
   "cell_type": "code",
   "execution_count": null,
   "metadata": {},
   "outputs": [],
   "source": [
    "us_cleaned['Education'].value_counts()"
   ]
  },
  {
   "cell_type": "code",
   "execution_count": null,
   "metadata": {},
   "outputs": [],
   "source": [
    "us_cleaned.loc[:, 'Education'] = us['Education'].str.replace('\\\\(.*\\\\)', '', regex=True).str.strip()"
   ]
  },
  {
   "cell_type": "code",
   "execution_count": null,
   "metadata": {},
   "outputs": [],
   "source": [
    "fig, ax = plt.subplots(figsize=(12, 6))\n",
    "(plot_cat(ax, 'Education', us_cleaned, xlabel='Level of Degree', ylabel='Frequency', \n",
    "         title='Frequency of Degrees', order=['None', 'Associates', 'Bachelors', 'Masters', 'Doctorate/PhD'])\n",
    ")"
   ]
  },
  {
   "cell_type": "markdown",
   "metadata": {},
   "source": [
    "### Hours Worked Per Week"
   ]
  },
  {
   "cell_type": "code",
   "execution_count": null,
   "metadata": {},
   "outputs": [],
   "source": [
    "fig, ax = plt.subplots(figsize=(16, 8))\n",
    "(plot_quant(ax, us_cleaned['HoursWorkedPerWeek'], xlabel='Hours Work Per Week', ylabel='Frequency',\n",
    "                 title='Distribution of Hours Work Per Week', shade=True))"
   ]
  },
  {
   "cell_type": "markdown",
   "metadata": {},
   "source": [
    "### Telecommute Days Per Week"
   ]
  },
  {
   "cell_type": "markdown",
   "metadata": {},
   "source": [
    "Label Encode ordinality"
   ]
  },
  {
   "cell_type": "code",
   "execution_count": null,
   "metadata": {
    "scrolled": false
   },
   "outputs": [],
   "source": [
    "fig, ax = plt.subplots(figsize=(12, 6))\n",
    "(plot_cat(ax, 'TelecommuteDaysPerWeek', us_cleaned, xlabel='Num of Days Per Week', ylabel='Count',\n",
    "             title='Count of Num of Telecommute Days Per Week', \n",
    "             order=us_cleaned['TelecommuteDaysPerWeek'].value_counts().sort_index().index))\n",
    "\n",
    "_ = ax.set_xticklabels(us_cleaned['TelecommuteDaysPerWeek'].value_counts().sort_index().index, rotation=90)\n",
    "\n"
   ]
  },
  {
   "cell_type": "markdown",
   "metadata": {},
   "source": [
    "### Employment Sector"
   ]
  },
  {
   "cell_type": "markdown",
   "metadata": {},
   "source": [
    "Maybe OHE"
   ]
  },
  {
   "cell_type": "code",
   "execution_count": null,
   "metadata": {},
   "outputs": [],
   "source": [
    "fig, ax = plt.subplots(figsize=(12, 6))\n",
    "(plot_cat(ax, 'EmploymentSector', us_cleaned, xlabel='Employment Sector', ylabel='Count',\n",
    "         title='Count of Num of Employment Sector', order=us_cleaned['EmploymentSector'].value_counts().index))\n",
    "\n",
    "_ = ax.set_xticklabels(us_cleaned['EmploymentSector'].value_counts().index, rotation=90)"
   ]
  },
  {
   "cell_type": "markdown",
   "metadata": {},
   "source": [
    "### Gender"
   ]
  },
  {
   "cell_type": "markdown",
   "metadata": {},
   "source": [
    "Might have to drop gender due to high number of third category/random answers/Not Asked."
   ]
  },
  {
   "cell_type": "code",
   "execution_count": null,
   "metadata": {},
   "outputs": [],
   "source": [
    "def clean_gender(row):\n",
    "    if (row not in ['Male', 'Female', 'Not Asked']):\n",
    "        return 'Third Party'\n",
    "    return row"
   ]
  },
  {
   "cell_type": "code",
   "execution_count": null,
   "metadata": {},
   "outputs": [],
   "source": [
    "us_cleaned.loc[:, 'Gender'] = us['Gender'].apply(clean_gender)"
   ]
  },
  {
   "cell_type": "code",
   "execution_count": null,
   "metadata": {},
   "outputs": [],
   "source": [
    "fig, ax = plt.subplots(figsize=(12, 6))\n",
    "(plot_cat(ax, 'Gender', us_cleaned, xlabel='Gender', ylabel='Count',\n",
    "         title='Count of Num of Gender', order=us_cleaned['Gender'].value_counts().sort_index().index))\n",
    "\n",
    "_ = ax.set_xticklabels(us_cleaned['Gender'].value_counts().sort_index().index, rotation=90)"
   ]
  },
  {
   "cell_type": "markdown",
   "metadata": {},
   "source": [
    "### Amount of Other Job Duties"
   ]
  },
  {
   "cell_type": "markdown",
   "metadata": {},
   "source": [
    "Might have to exclude, due to high number of nans/No answers"
   ]
  },
  {
   "cell_type": "code",
   "execution_count": null,
   "metadata": {},
   "outputs": [],
   "source": [
    "us['OtherJobDuties'].replace('Not Asked', np.nan).isna().mean()"
   ]
  },
  {
   "cell_type": "code",
   "execution_count": null,
   "metadata": {},
   "outputs": [],
   "source": [
    "def transform_ojd(row):\n",
    "    if (row == 'Not Asked'):\n",
    "        return ['N/A']\n",
    "    return row.split(',')\n",
    "\n",
    "def count_ojd(row):\n",
    "    if ('N/A' in row):\n",
    "        return np.nan\n",
    "    elif ('None' in row):\n",
    "        return 0\n",
    "    return len(row)"
   ]
  },
  {
   "cell_type": "code",
   "execution_count": null,
   "metadata": {},
   "outputs": [],
   "source": [
    "us_cleaned['OJD_count'] = (us['OtherJobDuties'].replace(np.nan, 'None')\n",
    "                                               .str.strip()\n",
    "                                               .replace('\\\\(.*\\\\)', '', regex=True)\n",
    "                                               .apply(transform_ojd)\n",
    "                                               .apply(count_ojd))"
   ]
  },
  {
   "cell_type": "code",
   "execution_count": null,
   "metadata": {
    "scrolled": false
   },
   "outputs": [],
   "source": [
    "fig, ax = plt.subplots(figsize=(12, 6))\n",
    "(plot_cat(ax, 'OJD_count', us_cleaned, xlabel='Number of Other Job Duties', ylabel='Frequency', \n",
    "                        title='Frequency of Other Job Duties'))"
   ]
  },
  {
   "cell_type": "code",
   "execution_count": null,
   "metadata": {},
   "outputs": [],
   "source": [
    "features + ['OJD_count']"
   ]
  },
  {
   "cell_type": "markdown",
   "metadata": {},
   "source": [
    "### Feature Engineering"
   ]
  },
  {
   "cell_type": "code",
   "execution_count": null,
   "metadata": {},
   "outputs": [],
   "source": [
    "X = us.loc[:, features + target]"
   ]
  },
  {
   "cell_type": "code",
   "execution_count": null,
   "metadata": {},
   "outputs": [],
   "source": [
    "X.head()"
   ]
  },
  {
   "cell_type": "markdown",
   "metadata": {},
   "source": [
    "### SalaryUSD\n",
    "\n",
    "Cleaning erroneous values"
   ]
  },
  {
   "cell_type": "code",
   "execution_count": null,
   "metadata": {},
   "outputs": [],
   "source": [
    "X = X.drop(X[X['SalaryUSD'] < 100].index)"
   ]
  },
  {
   "cell_type": "markdown",
   "metadata": {},
   "source": [
    "### YearsWithThisDatabase"
   ]
  },
  {
   "cell_type": "markdown",
   "metadata": {},
   "source": [
    "Cleaning erroneous values"
   ]
  },
  {
   "cell_type": "code",
   "execution_count": null,
   "metadata": {},
   "outputs": [],
   "source": [
    "X[X['YearsWithThisDatabase'] > 100]"
   ]
  },
  {
   "cell_type": "code",
   "execution_count": null,
   "metadata": {
    "scrolled": false
   },
   "outputs": [],
   "source": [
    "X = X.drop(X[X['YearsWithThisDatabase'] > 100].index)"
   ]
  },
  {
   "cell_type": "markdown",
   "metadata": {},
   "source": [
    "### ManageStaff\n",
    "\n",
    "Change it into a categorical variable"
   ]
  },
  {
   "cell_type": "code",
   "execution_count": null,
   "metadata": {},
   "outputs": [],
   "source": [
    "def transform_staff(row):\n",
    "    return 0 if row == 'No' else 1"
   ]
  },
  {
   "cell_type": "code",
   "execution_count": null,
   "metadata": {
    "scrolled": false
   },
   "outputs": [],
   "source": [
    "X.loc[:, 'ManageStaff'] = X['ManageStaff'].apply(transform_staff)"
   ]
  },
  {
   "cell_type": "code",
   "execution_count": null,
   "metadata": {},
   "outputs": [],
   "source": [
    "X.head()"
   ]
  },
  {
   "cell_type": "markdown",
   "metadata": {},
   "source": [
    "### Other People On Your Team"
   ]
  },
  {
   "cell_type": "code",
   "execution_count": null,
   "metadata": {},
   "outputs": [],
   "source": [
    "def transform_team(row):\n",
    "    if (row == 'None'):\n",
    "        return 0\n",
    "    elif (row == 'More than 5'):\n",
    "        return 6\n",
    "    else:\n",
    "        return int(row)"
   ]
  },
  {
   "cell_type": "code",
   "execution_count": null,
   "metadata": {
    "scrolled": true
   },
   "outputs": [],
   "source": [
    "X.loc[:, 'OtherPeopleOnYourTeam'] = X['OtherPeopleOnYourTeam'].apply(transform_team)"
   ]
  },
  {
   "cell_type": "markdown",
   "metadata": {},
   "source": [
    "### Education"
   ]
  },
  {
   "cell_type": "code",
   "execution_count": null,
   "metadata": {},
   "outputs": [],
   "source": [
    "def transform_education(row):\n",
    "    if (row == 'None'):\n",
    "        return 0\n",
    "    elif (row == 'Associates'):\n",
    "        return 1\n",
    "    elif (row == 'Bachelors'):\n",
    "        return 2\n",
    "    elif (row == 'Masters'):\n",
    "        return 3\n",
    "    else:\n",
    "        return 4"
   ]
  },
  {
   "cell_type": "code",
   "execution_count": null,
   "metadata": {},
   "outputs": [],
   "source": [
    "X.loc[:, 'Education'] = X['Education'].apply(transform_education)"
   ]
  },
  {
   "cell_type": "markdown",
   "metadata": {},
   "source": [
    "### TelecommuteDaysPerWeek"
   ]
  },
  {
   "cell_type": "code",
   "execution_count": null,
   "metadata": {},
   "outputs": [],
   "source": [
    "def transform_telecommute(row):\n",
    "    if ('None' in row):\n",
    "        return 0\n",
    "    elif (row == '5 or more'):\n",
    "        return 5\n",
    "    else:\n",
    "        return int(row)"
   ]
  },
  {
   "cell_type": "code",
   "execution_count": null,
   "metadata": {},
   "outputs": [],
   "source": [
    "X.loc[:, 'TelecommuteDaysPerWeek'] = X['TelecommuteDaysPerWeek'].apply(transform_telecommute)"
   ]
  },
  {
   "cell_type": "markdown",
   "metadata": {},
   "source": [
    "### EmploymentSector"
   ]
  },
  {
   "cell_type": "code",
   "execution_count": null,
   "metadata": {},
   "outputs": [],
   "source": [
    "# Get dummies later\n",
    "\n",
    "# X = pd.concat([X, pd.get_dummies(X['EmploymentSector'])], axis=1)\n",
    "# X = X.drop('EmploymentSector', axis=1)"
   ]
  },
  {
   "cell_type": "markdown",
   "metadata": {},
   "source": [
    "### LookingForAnotherJob"
   ]
  },
  {
   "cell_type": "code",
   "execution_count": null,
   "metadata": {},
   "outputs": [],
   "source": [
    "def transform_another_job(row):\n",
    "    if (row == 'No'):\n",
    "        return 0\n",
    "    elif (row == 'Yes, but only passively (just curious)'):\n",
    "        return 1\n",
    "    else:\n",
    "        return 2"
   ]
  },
  {
   "cell_type": "code",
   "execution_count": null,
   "metadata": {},
   "outputs": [],
   "source": [
    "X.loc[:, 'LookingForAnotherJob'] = X['LookingForAnotherJob'].apply(transform_another_job)"
   ]
  },
  {
   "cell_type": "code",
   "execution_count": null,
   "metadata": {},
   "outputs": [],
   "source": [
    "X.info()"
   ]
  },
  {
   "cell_type": "code",
   "execution_count": null,
   "metadata": {},
   "outputs": [],
   "source": [
    "X.head()"
   ]
  },
  {
   "cell_type": "markdown",
   "metadata": {},
   "source": [
    "### More plotting for variables"
   ]
  },
  {
   "cell_type": "code",
   "execution_count": null,
   "metadata": {},
   "outputs": [],
   "source": [
    "sl = pd.concat([X['SalaryUSD'], X['LookingForAnotherJob']], axis=1)"
   ]
  },
  {
   "cell_type": "code",
   "execution_count": null,
   "metadata": {},
   "outputs": [],
   "source": [
    "sl_q3 = sl['SalaryUSD'].describe()['75%']\n",
    "sl_q1 = sl['SalaryUSD'].describe()['25%']\n",
    "\n",
    "sl_iqr = sl_q3 - sl_q1\n",
    "sl = sl.loc[sl.loc[((sl['SalaryUSD'] < (sl_q3 + 1.5 * sl_iqr)) & (sl['SalaryUSD'] > (sl_q1 - 1.5 * sl_iqr))), 'SalaryUSD'].index]\n",
    "\n"
   ]
  },
  {
   "cell_type": "code",
   "execution_count": null,
   "metadata": {
    "scrolled": true
   },
   "outputs": [],
   "source": [
    "sns.violinplot(x='LookingForAnotherJob', y='SalaryUSD', data=sl)"
   ]
  },
  {
   "cell_type": "code",
   "execution_count": null,
   "metadata": {},
   "outputs": [],
   "source": [
    "sns.violinplot(x='LookingForAnotherJob', y='HoursWorkedPerWeek', data=X)"
   ]
  },
  {
   "cell_type": "markdown",
   "metadata": {},
   "source": [
    "**Splitting into 3 groups**"
   ]
  },
  {
   "cell_type": "code",
   "execution_count": null,
   "metadata": {},
   "outputs": [],
   "source": [
    "not_looking = X[X['LookingForAnotherJob'] == 0]\n",
    "passively_looking = X[X['LookingForAnotherJob'] == 1]\n",
    "actively_looking = X[X['LookingForAnotherJob'] == 2]"
   ]
  },
  {
   "cell_type": "markdown",
   "metadata": {},
   "source": [
    "### Testing, with a p value of 0.05"
   ]
  },
  {
   "cell_type": "code",
   "execution_count": null,
   "metadata": {},
   "outputs": [],
   "source": [
    "import scipy.stats as stats"
   ]
  },
  {
   "cell_type": "markdown",
   "metadata": {},
   "source": [
    "#### Salary difference"
   ]
  },
  {
   "cell_type": "code",
   "execution_count": null,
   "metadata": {},
   "outputs": [],
   "source": [
    "nl_salary = not_looking['SalaryUSD']\n",
    "pl_salary = passively_looking['SalaryUSD']\n",
    "al_salary = actively_looking['SalaryUSD']"
   ]
  },
  {
   "cell_type": "code",
   "execution_count": null,
   "metadata": {},
   "outputs": [],
   "source": [
    "fig, ax = plt.subplots(figsize=(12, 6))\n",
    "(plot_kde(ax, nl_salary, pl_salary, al_salary, xlabel='Salary', ylabel='Frequency',\n",
    "            title='KDE of Salary'))"
   ]
  },
  {
   "cell_type": "code",
   "execution_count": null,
   "metadata": {},
   "outputs": [],
   "source": [
    "nl_q1 = nl_salary.quantile(.25)\n",
    "nl_q3 = nl_salary.quantile(.75)\n",
    "nl_iqr = nl_q3 - nl_q1\n",
    "\n",
    "nl_mask = ((nl_salary <= nl_q3 + (1.5 * nl_iqr)) & (nl_salary >= nl_q1 - (1.5 * nl_iqr)))\n",
    "\n",
    "pl_q1 = pl_salary.quantile(.25)\n",
    "pl_q3 = pl_salary.quantile(.75)\n",
    "pl_iqr = pl_q3 - pl_q1\n",
    "\n",
    "pl_mask = ((pl_salary <= pl_q3 + (1.5 * pl_iqr)) & (pl_salary >= pl_q1 - (1.5 * pl_iqr)))\n",
    "\n",
    "al_q1 = al_salary.quantile(.25)\n",
    "al_q3 = al_salary.quantile(.75)\n",
    "al_iqr = al_q3 - al_q1\n",
    "\n",
    "al_mask = ((al_salary <= al_q3 + (1.5 * al_iqr)) & (al_salary >= al_q1 - (1.5 * al_iqr)))\n",
    "\n"
   ]
  },
  {
   "cell_type": "code",
   "execution_count": null,
   "metadata": {},
   "outputs": [],
   "source": [
    "nl_adj = nl_salary[nl_mask]\n",
    "pl_adj = pl_salary[pl_mask]\n",
    "al_adj = al_salary[al_mask]"
   ]
  },
  {
   "cell_type": "code",
   "execution_count": null,
   "metadata": {},
   "outputs": [],
   "source": [
    "fig, ax = plt.subplots(figsize=(12, 6))\n",
    "(plot_kde(ax, nl_adj, pl_adj, al_adj, xlabel='Salary Adj.', ylabel='Frequency',\n",
    "            title='KDE of Salary Adj'))"
   ]
  },
  {
   "cell_type": "code",
   "execution_count": null,
   "metadata": {},
   "outputs": [],
   "source": [
    "samps_ttest(not_looking['SalaryUSD'], passively_looking['SalaryUSD'], actively_looking['SalaryUSD'])"
   ]
  },
  {
   "cell_type": "code",
   "execution_count": null,
   "metadata": {},
   "outputs": [],
   "source": [
    "samps_ttest(nl_adj, pl_adj, al_adj)"
   ]
  },
  {
   "cell_type": "code",
   "execution_count": null,
   "metadata": {},
   "outputs": [],
   "source": [
    "# Not usable due to unequal sample size of actively looking compared to not and passively looking\n",
    "# stats.f_oneway(nl_adj, pl_adj, al_adj)"
   ]
  },
  {
   "cell_type": "markdown",
   "metadata": {},
   "source": [
    "**Years With This Database**"
   ]
  },
  {
   "cell_type": "code",
   "execution_count": null,
   "metadata": {},
   "outputs": [],
   "source": [
    "nl_yrdb = not_looking['YearsWithThisDatabase']\n",
    "pl_yrdb = passively_looking['YearsWithThisDatabase']\n",
    "al_yrdb = actively_looking['YearsWithThisDatabase']"
   ]
  },
  {
   "cell_type": "code",
   "execution_count": null,
   "metadata": {},
   "outputs": [],
   "source": [
    "fig, ax = plt.subplots(figsize=(12, 6))\n",
    "(plot_kde(ax, nl_yrdb, pl_yrdb, al_yrdb, xlabel='Years With This Database', ylabel='Frequency',\n",
    "            title='KDE of Years With This Database'))"
   ]
  },
  {
   "cell_type": "code",
   "execution_count": null,
   "metadata": {},
   "outputs": [],
   "source": [
    "samps_mwu(nl_yrdb, pl_yrdb, al_yrdb)"
   ]
  },
  {
   "cell_type": "markdown",
   "metadata": {},
   "source": [
    "**Manage Staff difference**"
   ]
  },
  {
   "cell_type": "code",
   "execution_count": null,
   "metadata": {},
   "outputs": [],
   "source": [
    "nl_ms = not_looking['ManageStaff']\n",
    "pl_ms = passively_looking['ManageStaff']\n",
    "al_ms = actively_looking['ManageStaff']"
   ]
  },
  {
   "cell_type": "code",
   "execution_count": null,
   "metadata": {},
   "outputs": [],
   "source": [
    "p = samps_chi2(nl_ms, pl_ms, al_ms)"
   ]
  },
  {
   "cell_type": "code",
   "execution_count": null,
   "metadata": {},
   "outputs": [],
   "source": [
    "if 0.05 > p:\n",
    "    print('Reject null')\n",
    "else:\n",
    "    print('Fail to reject null')"
   ]
  },
  {
   "cell_type": "markdown",
   "metadata": {},
   "source": [
    "**Years With This Type of Job**"
   ]
  },
  {
   "cell_type": "code",
   "execution_count": null,
   "metadata": {},
   "outputs": [],
   "source": [
    "nl_yrjob = not_looking['YearsWithThisTypeOfJob']\n",
    "pl_yrjob = passively_looking['YearsWithThisTypeOfJob']\n",
    "al_yrjob = actively_looking['YearsWithThisTypeOfJob']"
   ]
  },
  {
   "cell_type": "code",
   "execution_count": null,
   "metadata": {},
   "outputs": [],
   "source": [
    "fig, ax = plt.subplots(figsize=(12, 6))\n",
    "(plot_kde(ax, nl_yrjob, pl_yrjob, al_yrjob, xlabel='Years With This Type of Job', ylabel='Frequency',\n",
    "            title='KDE of Years With This Type of Job'))"
   ]
  },
  {
   "cell_type": "code",
   "execution_count": null,
   "metadata": {},
   "outputs": [],
   "source": [
    "samps_mwu(nl_yrjob, pl_yrjob, al_yrjob)"
   ]
  },
  {
   "cell_type": "markdown",
   "metadata": {},
   "source": [
    "**Other People On Your Team difference**"
   ]
  },
  {
   "cell_type": "code",
   "execution_count": null,
   "metadata": {},
   "outputs": [],
   "source": [
    "nl_people = not_looking['OtherPeopleOnYourTeam']\n",
    "pl_people = passively_looking['OtherPeopleOnYourTeam']\n",
    "al_people = actively_looking['OtherPeopleOnYourTeam']"
   ]
  },
  {
   "cell_type": "code",
   "execution_count": null,
   "metadata": {},
   "outputs": [],
   "source": [
    "p = samps_chi2(nl_people, pl_people, al_people)"
   ]
  },
  {
   "cell_type": "code",
   "execution_count": null,
   "metadata": {
    "scrolled": false
   },
   "outputs": [],
   "source": [
    "if 0.05 > p:\n",
    "    print('Reject null')\n",
    "else:\n",
    "    print('Fail to reject null')"
   ]
  },
  {
   "cell_type": "markdown",
   "metadata": {},
   "source": [
    "**Education difference**"
   ]
  },
  {
   "cell_type": "code",
   "execution_count": null,
   "metadata": {},
   "outputs": [],
   "source": [
    "nl_edu = not_looking['Education']\n",
    "pl_edu = passively_looking['Education']\n",
    "al_edu = actively_looking['Education']"
   ]
  },
  {
   "cell_type": "code",
   "execution_count": null,
   "metadata": {},
   "outputs": [],
   "source": [
    "p = samps_chi2(nl_edu, pl_edu, al_edu)"
   ]
  },
  {
   "cell_type": "code",
   "execution_count": null,
   "metadata": {
    "scrolled": true
   },
   "outputs": [],
   "source": [
    "if 0.05 > p:\n",
    "    print('Reject null')\n",
    "else:\n",
    "    print('Fail to reject null')"
   ]
  },
  {
   "cell_type": "markdown",
   "metadata": {},
   "source": [
    "**Hours of Work Per Week difference**"
   ]
  },
  {
   "cell_type": "code",
   "execution_count": null,
   "metadata": {},
   "outputs": [],
   "source": [
    "nl_hours = not_looking['HoursWorkedPerWeek']\n",
    "pl_hours = passively_looking['HoursWorkedPerWeek']\n",
    "al_hours = actively_looking['HoursWorkedPerWeek']"
   ]
  },
  {
   "cell_type": "code",
   "execution_count": null,
   "metadata": {},
   "outputs": [],
   "source": [
    "fig, ax = plt.subplots(figsize=(12, 6))\n",
    "(plot_kde(ax, nl_hours, pl_hours, al_hours, xlabel='Number of Hours', ylabel='Frequency',\n",
    "            title='KDE of Hours Worked Per Week'))"
   ]
  },
  {
   "cell_type": "code",
   "execution_count": null,
   "metadata": {},
   "outputs": [],
   "source": [
    "stats.f_oneway(nl_hours, pl_hours, al_hours)"
   ]
  },
  {
   "cell_type": "code",
   "execution_count": null,
   "metadata": {},
   "outputs": [],
   "source": [
    "samps_mwu(nl_hours, pl_hours, al_hours)"
   ]
  },
  {
   "cell_type": "markdown",
   "metadata": {},
   "source": [
    "**TelecommuteDaysPerWeek**"
   ]
  },
  {
   "cell_type": "code",
   "execution_count": null,
   "metadata": {},
   "outputs": [],
   "source": [
    "nl_tele = not_looking['TelecommuteDaysPerWeek']\n",
    "pl_tele = passively_looking['TelecommuteDaysPerWeek']\n",
    "al_tele = actively_looking['TelecommuteDaysPerWeek']"
   ]
  },
  {
   "cell_type": "code",
   "execution_count": null,
   "metadata": {},
   "outputs": [],
   "source": [
    "p = samps_chi2(nl_tele, pl_tele, al_tele)"
   ]
  },
  {
   "cell_type": "code",
   "execution_count": null,
   "metadata": {
    "scrolled": false
   },
   "outputs": [],
   "source": [
    "if 0.05 > p:\n",
    "    print('Reject null')\n",
    "else:\n",
    "    print('Fail to reject null')"
   ]
  },
  {
   "cell_type": "markdown",
   "metadata": {},
   "source": [
    "**EmploymentSector**"
   ]
  },
  {
   "cell_type": "code",
   "execution_count": null,
   "metadata": {},
   "outputs": [],
   "source": [
    "nl_emp = not_looking['EmploymentSector']\n",
    "pl_emp = passively_looking['EmploymentSector']\n",
    "al_emp = actively_looking['EmploymentSector']"
   ]
  },
  {
   "cell_type": "code",
   "execution_count": null,
   "metadata": {},
   "outputs": [],
   "source": [
    "p = samps_chi2(nl_emp, pl_emp, al_emp)"
   ]
  },
  {
   "cell_type": "code",
   "execution_count": null,
   "metadata": {
    "scrolled": false
   },
   "outputs": [],
   "source": [
    "if 0.05 > p:\n",
    "    print('Reject null')\n",
    "else:\n",
    "    print('Fail to reject null')"
   ]
  },
  {
   "cell_type": "markdown",
   "metadata": {},
   "source": [
    "### Future plans"
   ]
  },
  {
   "cell_type": "code",
   "execution_count": null,
   "metadata": {},
   "outputs": [],
   "source": [
    "# countries_more_than_ten = countries.index[countries > 10]\n",
    "# df = df[df['Country'].isin(countries_more_than_ten)]\n",
    "# df.head()"
   ]
  },
  {
   "cell_type": "code",
   "execution_count": null,
   "metadata": {},
   "outputs": [],
   "source": []
  },
  {
   "cell_type": "code",
   "execution_count": null,
   "metadata": {},
   "outputs": [],
   "source": []
  },
  {
   "cell_type": "markdown",
   "metadata": {},
   "source": [
    "### Predictive pipelines"
   ]
  },
  {
   "cell_type": "code",
   "execution_count": null,
   "metadata": {},
   "outputs": [],
   "source": []
  },
  {
   "cell_type": "code",
   "execution_count": null,
   "metadata": {},
   "outputs": [],
   "source": []
  }
 ],
 "metadata": {
  "kernelspec": {
   "display_name": "Python 3",
   "language": "python",
   "name": "python3"
  },
  "language_info": {
   "codemirror_mode": {
    "name": "ipython",
    "version": 3
   },
   "file_extension": ".py",
   "mimetype": "text/x-python",
   "name": "python",
   "nbconvert_exporter": "python",
   "pygments_lexer": "ipython3",
   "version": "3.7.4"
  }
 },
 "nbformat": 4,
 "nbformat_minor": 2
}
