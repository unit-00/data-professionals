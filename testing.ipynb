{
 "cells": [
  {
   "cell_type": "code",
   "execution_count": 1,
   "metadata": {},
   "outputs": [],
   "source": [
    "from scipy.stats import stats\n",
    "import pandas as pd\n",
    "from script.helper import *"
   ]
  },
  {
   "cell_type": "code",
   "execution_count": 2,
   "metadata": {},
   "outputs": [],
   "source": [
    "df = pd.read_csv('ds_2019.csv')\n",
    "\n",
    "us = df[df['Country'] == 'United States'].copy()\n",
    "\n",
    "us_cleaned = us.copy()\n",
    "\n",
    "looking = us['LookingForAnotherJob'].value_counts().index\n",
    "\n",
    "looking_map = { v: i for i, v in enumerate(looking)}\n",
    "\n",
    "# Mapping cat groups to integers\n",
    "us_cleaned.loc[:, 'LookingForAnotherJob'] = us['LookingForAnotherJob'].map(looking_map)\n",
    "\n",
    "# Cleaning and converting salary string to integers\n",
    "us_cleaned.loc[:, 'SalaryUSD'] = us['SalaryUSD'].apply(str).replace(',|\\s+', '', regex=True).astype(float)\n"
   ]
  },
  {
   "cell_type": "markdown",
   "metadata": {},
   "source": [
    "### Breaking into three groups"
   ]
  },
  {
   "cell_type": "code",
   "execution_count": 3,
   "metadata": {
    "scrolled": true
   },
   "outputs": [],
   "source": [
    "not_looking_salary = us_cleaned.loc[us_cleaned['LookingForAnotherJob'] == 0, 'SalaryUSD']\n",
    "passively_looking_salary = us_cleaned.loc[us_cleaned['LookingForAnotherJob'] == 1, 'SalaryUSD']\n",
    "actively_looking_salary = us_cleaned.loc[us_cleaned['LookingForAnotherJob'] == 2, 'SalaryUSD']"
   ]
  },
  {
   "cell_type": "markdown",
   "metadata": {},
   "source": [
    "**Removing Outliers**"
   ]
  },
  {
   "cell_type": "code",
   "execution_count": 4,
   "metadata": {
    "scrolled": true
   },
   "outputs": [],
   "source": [
    "not_looking_salary = outliers_removed(not_looking_salary)\n",
    "\n",
    "passively_looking_salary = outliers_removed(passively_looking_salary)\n",
    "\n",
    "actively_looking_salary = outliers_removed(actively_looking_salary)"
   ]
  },
  {
   "cell_type": "markdown",
   "metadata": {},
   "source": [
    "## Testing"
   ]
  },
  {
   "cell_type": "markdown",
   "metadata": {},
   "source": [
    "**Not Looking mean and std**"
   ]
  },
  {
   "cell_type": "code",
   "execution_count": 5,
   "metadata": {},
   "outputs": [
    {
     "data": {
      "text/plain": [
       "104183.50745614035"
      ]
     },
     "execution_count": 5,
     "metadata": {},
     "output_type": "execute_result"
    }
   ],
   "source": [
    "not_looking_salary.mean()"
   ]
  },
  {
   "cell_type": "code",
   "execution_count": 6,
   "metadata": {
    "scrolled": true
   },
   "outputs": [
    {
     "data": {
      "text/plain": [
       "26936.14009484742"
      ]
     },
     "execution_count": 6,
     "metadata": {},
     "output_type": "execute_result"
    }
   ],
   "source": [
    "not_looking_salary.std()"
   ]
  },
  {
   "cell_type": "markdown",
   "metadata": {},
   "source": [
    "**Passively Looking mean and std**"
   ]
  },
  {
   "cell_type": "code",
   "execution_count": 7,
   "metadata": {
    "scrolled": true
   },
   "outputs": [
    {
     "data": {
      "text/plain": [
       "100689.68649249584"
      ]
     },
     "execution_count": 7,
     "metadata": {},
     "output_type": "execute_result"
    }
   ],
   "source": [
    "passively_looking_salary.mean()"
   ]
  },
  {
   "cell_type": "code",
   "execution_count": 8,
   "metadata": {},
   "outputs": [
    {
     "data": {
      "text/plain": [
       "26691.45942625123"
      ]
     },
     "execution_count": 8,
     "metadata": {},
     "output_type": "execute_result"
    }
   ],
   "source": [
    "passively_looking_salary.std()"
   ]
  },
  {
   "cell_type": "markdown",
   "metadata": {},
   "source": [
    "**Actively Looking mean and std**"
   ]
  },
  {
   "cell_type": "code",
   "execution_count": 9,
   "metadata": {},
   "outputs": [
    {
     "data": {
      "text/plain": [
       "98325.48837209302"
      ]
     },
     "execution_count": 9,
     "metadata": {},
     "output_type": "execute_result"
    }
   ],
   "source": [
    "actively_looking_salary.mean()"
   ]
  },
  {
   "cell_type": "code",
   "execution_count": 10,
   "metadata": {},
   "outputs": [
    {
     "data": {
      "text/plain": [
       "31640.47331099886"
      ]
     },
     "execution_count": 10,
     "metadata": {},
     "output_type": "execute_result"
    }
   ],
   "source": [
    "actively_looking_salary.std()"
   ]
  },
  {
   "cell_type": "markdown",
   "metadata": {},
   "source": [
    "### Welch"
   ]
  },
  {
   "cell_type": "markdown",
   "metadata": {},
   "source": [
    "Null: **Not Looking** = **Passively Looking**  \n",
    "Alt: **Not Looking** > **Passively Looking**"
   ]
  },
  {
   "cell_type": "code",
   "execution_count": 11,
   "metadata": {},
   "outputs": [],
   "source": [
    "t, p = stats.ttest_ind(not_looking_salary, passively_looking_salary, equal_var=False)"
   ]
  },
  {
   "cell_type": "code",
   "execution_count": 12,
   "metadata": {
    "scrolled": true
   },
   "outputs": [
    {
     "data": {
      "text/plain": [
       "1.8197053370711403e-05"
      ]
     },
     "execution_count": 12,
     "metadata": {},
     "output_type": "execute_result"
    }
   ],
   "source": [
    "p/2"
   ]
  },
  {
   "cell_type": "markdown",
   "metadata": {},
   "source": [
    "**Conclusion:** Reject null"
   ]
  },
  {
   "cell_type": "markdown",
   "metadata": {},
   "source": [
    "Null: **Passively Looking** = **Actively Looking**  \n",
    "Alt: **Passively Looking** > **Actively Looking**"
   ]
  },
  {
   "cell_type": "code",
   "execution_count": 13,
   "metadata": {},
   "outputs": [],
   "source": [
    "t, p = stats.ttest_ind(passively_looking_salary, actively_looking_salary, equal_var=False)"
   ]
  },
  {
   "cell_type": "code",
   "execution_count": 14,
   "metadata": {},
   "outputs": [
    {
     "data": {
      "text/plain": [
       "0.11058740836029142"
      ]
     },
     "execution_count": 14,
     "metadata": {},
     "output_type": "execute_result"
    }
   ],
   "source": [
    "p/2"
   ]
  },
  {
   "cell_type": "markdown",
   "metadata": {},
   "source": [
    "**Conclusion:** Fail to reject null"
   ]
  },
  {
   "cell_type": "markdown",
   "metadata": {},
   "source": [
    "Null: **Passively Looking** = **Actively Looking**  \n",
    "Alt: **Passively Looking** > **Actively Looking**"
   ]
  },
  {
   "cell_type": "code",
   "execution_count": 15,
   "metadata": {},
   "outputs": [],
   "source": [
    "t, p = stats.ttest_ind(not_looking_salary, actively_looking_salary, equal_var=False)"
   ]
  },
  {
   "cell_type": "code",
   "execution_count": 16,
   "metadata": {},
   "outputs": [
    {
     "data": {
      "text/plain": [
       "0.0011566581751661306"
      ]
     },
     "execution_count": 16,
     "metadata": {},
     "output_type": "execute_result"
    }
   ],
   "source": [
    "p/2"
   ]
  },
  {
   "cell_type": "markdown",
   "metadata": {},
   "source": [
    "**Conclusion:** Reject null"
   ]
  },
  {
   "cell_type": "markdown",
   "metadata": {},
   "source": [
    "### Bayesian"
   ]
  },
  {
   "cell_type": "markdown",
   "metadata": {},
   "source": [
    "Alpha and beta calculation from here:  \n",
    "https://en.wikipedia.org/wiki/Conjugate_prior"
   ]
  },
  {
   "cell_type": "markdown",
   "metadata": {},
   "source": [
    "![Alpha Beta](images/alpha_beta.png)"
   ]
  },
  {
   "cell_type": "code",
   "execution_count": 18,
   "metadata": {},
   "outputs": [],
   "source": [
    "def calc_ab(data):\n",
    "#     image above from wikipedia \n",
    "    mu = data.mean()\n",
    "    a = 1 + (data.size/2)\n",
    "    \n",
    "    ssd = ((data - mu) ** 2).sum()\n",
    "    b = 1 + ssd/2\n",
    "    \n",
    "    return a, b"
   ]
  },
  {
   "cell_type": "code",
   "execution_count": 20,
   "metadata": {},
   "outputs": [],
   "source": [
    "# Calculating alpha and beta for not looking, passively looking, actively looking\n",
    "\n",
    "nla, nlb = calc_ab(not_looking_salary)\n",
    "pla, plb = calc_ab(passively_looking_salary)\n",
    "ala, alb = calc_ab(actively_looking_salary)"
   ]
  },
  {
   "cell_type": "markdown",
   "metadata": {},
   "source": [
    "Inverse gamma  \n",
    "\n",
    "https://docs.scipy.org/doc/scipy/reference/generated/scipy.stats.invgamma.html"
   ]
  },
  {
   "cell_type": "code",
   "execution_count": 21,
   "metadata": {},
   "outputs": [],
   "source": [
    "nl_ig = stats.invgamma(a=nla, scale=nlb)\n",
    "pl_ig = stats.invgamma(a=pla, scale=plb)\n",
    "al_ig = stats.invgamma(a=ala, scale=alb)"
   ]
  },
  {
   "cell_type": "code",
   "execution_count": 29,
   "metadata": {},
   "outputs": [],
   "source": [
    "# simulation of variance\n",
    "\n",
    "samps_nl = nl_ig.rvs(10000)\n",
    "samps_pl = pl_ig.rvs(10000)\n",
    "samps_al = al_ig.rvs(10000)\n",
    "\n",
    "# calculating standard error\n",
    "nl_sq = np.sqrt(samps_nl/not_looking_salary.size)\n",
    "pl_sq = np.sqrt(samps_pl/passively_looking_salary.size)\n",
    "al_sq = np.sqrt(samps_al/actively_looking_salary.size)\n",
    "\n",
    "# Generating distribution \n",
    "samps_bay_nl = stats.norm(not_looking_salary.mean(), nl_sq).rvs(10000)\n",
    "samps_bay_pl = stats.norm(passively_looking_salary.mean(), pl_sq).rvs(10000)\n",
    "samps_bay_al = stats.norm(actively_looking_salary.mean(), al_sq).rvs(10000)"
   ]
  },
  {
   "cell_type": "markdown",
   "metadata": {},
   "source": [
    "NL Bayesian > PL Bayesian"
   ]
  },
  {
   "cell_type": "code",
   "execution_count": 30,
   "metadata": {
    "scrolled": true
   },
   "outputs": [
    {
     "data": {
      "text/plain": [
       "1.0"
      ]
     },
     "execution_count": 30,
     "metadata": {},
     "output_type": "execute_result"
    }
   ],
   "source": [
    "(samps_bay_nl > samps_bay_pl).mean()"
   ]
  },
  {
   "cell_type": "markdown",
   "metadata": {},
   "source": [
    "PL Bayesian > AL Bayesian"
   ]
  },
  {
   "cell_type": "code",
   "execution_count": 31,
   "metadata": {},
   "outputs": [
    {
     "data": {
      "text/plain": [
       "0.8849"
      ]
     },
     "execution_count": 31,
     "metadata": {},
     "output_type": "execute_result"
    }
   ],
   "source": [
    "(samps_bay_pl > samps_bay_al).mean()"
   ]
  },
  {
   "cell_type": "markdown",
   "metadata": {},
   "source": [
    "NL Bayesian > AL Bayesian"
   ]
  },
  {
   "cell_type": "code",
   "execution_count": 32,
   "metadata": {
    "scrolled": true
   },
   "outputs": [
    {
     "data": {
      "text/plain": [
       "0.9986"
      ]
     },
     "execution_count": 32,
     "metadata": {},
     "output_type": "execute_result"
    }
   ],
   "source": [
    "(samps_bay_nl > samps_bay_al).mean()"
   ]
  }
 ],
 "metadata": {
  "kernelspec": {
   "display_name": "Python 3",
   "language": "python",
   "name": "python3"
  },
  "language_info": {
   "codemirror_mode": {
    "name": "ipython",
    "version": 3
   },
   "file_extension": ".py",
   "mimetype": "text/x-python",
   "name": "python",
   "nbconvert_exporter": "python",
   "pygments_lexer": "ipython3",
   "version": "3.7.4"
  }
 },
 "nbformat": 4,
 "nbformat_minor": 2
}
